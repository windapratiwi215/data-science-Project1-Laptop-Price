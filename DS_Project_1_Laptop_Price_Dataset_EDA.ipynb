{
  "cells": [
    {
      "cell_type": "markdown",
      "metadata": {
        "id": "view-in-github",
        "colab_type": "text"
      },
      "source": [
        "<a href=\"https://colab.research.google.com/github/windapratiwi215/data-science-Project1-Laptop-Price/blob/main/DS_Project_1_Laptop_Price_Dataset_EDA.ipynb\" target=\"_parent\"><img src=\"https://colab.research.google.com/assets/colab-badge.svg\" alt=\"Open In Colab\"/></a>"
      ]
    },
    {
      "cell_type": "markdown",
      "metadata": {
        "id": "xYkvT2yINhc0"
      },
      "source": [
        "# Connect to G-Drive"
      ]
    },
    {
      "cell_type": "code",
      "execution_count": null,
      "metadata": {
        "colab": {
          "base_uri": "https://localhost:8080/"
        },
        "id": "S9MeZmKnn-iu",
        "outputId": "0bf19c1f-e81b-491d-c762-5c7a551f8221"
      },
      "outputs": [
        {
          "output_type": "stream",
          "name": "stdout",
          "text": [
            "Mounted at /content/drive\n"
          ]
        }
      ],
      "source": [
        "from google.colab import drive\n",
        "drive.mount('/content/drive')"
      ]
    },
    {
      "cell_type": "markdown",
      "metadata": {
        "id": "upZT0ir-x0mU"
      },
      "source": [
        "## Change Notebook Default Directory"
      ]
    },
    {
      "cell_type": "code",
      "execution_count": null,
      "metadata": {
        "id": "TI1MfW9lNhOa"
      },
      "outputs": [],
      "source": [
        "import os\n",
        "file_dir = \"/content/drive/MyDrive/Colab Notebooks/Digital Skola/Projek-1/\"\n",
        "os.chdir(file_dir)"
      ]
    },
    {
      "cell_type": "code",
      "execution_count": null,
      "metadata": {
        "colab": {
          "base_uri": "https://localhost:8080/"
        },
        "id": "iJFMrLw8x_xW",
        "outputId": "e16bc0bf-acd0-4057-8535-e2f8b57685a0"
      },
      "outputs": [
        {
          "output_type": "stream",
          "name": "stdout",
          "text": [
            "'[Cleaned]Laptop_Price.csv'\n",
            "'[Complete]Laptop_Price - [Complete]Laptop_Price.csv'\n",
            "'[Sandbox] DS Project 1 - Laptop Price Dataset EDA.ipynb'\n"
          ]
        }
      ],
      "source": [
        "!ls"
      ]
    },
    {
      "cell_type": "markdown",
      "metadata": {
        "id": "8tX5CDH6NdJM"
      },
      "source": [
        "# Import Libraries"
      ]
    },
    {
      "cell_type": "code",
      "execution_count": null,
      "metadata": {
        "colab": {
          "base_uri": "https://localhost:8080/",
          "height": 89
        },
        "id": "PhOq2MObNcjV",
        "outputId": "4f85bc10-7e2f-4550-ef0d-705582a03e31"
      },
      "outputs": [
        {
          "output_type": "stream",
          "name": "stderr",
          "text": [
            "<ipython-input-4-21f15e5228a1>:10: MatplotlibDeprecationWarning: The seaborn styles shipped by Matplotlib are deprecated since 3.6, as they no longer correspond to the styles shipped by seaborn. However, they will remain available as 'seaborn-v0_8-<style>'. Alternatively, directly use the seaborn API instead.\n",
            "  plt.style.use(\"seaborn-whitegrid\")\n"
          ]
        },
        {
          "output_type": "display_data",
          "data": {
            "text/plain": [
              "<Figure size 640x480 with 0 Axes>"
            ]
          },
          "metadata": {}
        }
      ],
      "source": [
        "# Data Analysis Libraries\n",
        "import pandas as pd\n",
        "import numpy as np\n",
        "\n",
        "# Data Viz Libraries\n",
        "import matplotlib.pyplot as plt\n",
        "import seaborn as sns\n",
        "sns.set_style(\"whitegrid\")\n",
        "sns.despine()\n",
        "plt.style.use(\"seaborn-whitegrid\")\n",
        "plt.rc(\"figure\", autolayout=True)\n",
        "plt.rc(\"axes\",\n",
        "       labelweight=\"bold\",\n",
        "       labelsize=\"large\",\n",
        "       titleweight=\"bold\",\n",
        "       titlesize=14,\n",
        "       titlepad=10\n",
        ")\n",
        "\n",
        "# RegEx\n",
        "import regex as re"
      ]
    },
    {
      "cell_type": "markdown",
      "metadata": {
        "id": "_CNtr-_cNr6n"
      },
      "source": [
        "# Load Dataset"
      ]
    },
    {
      "cell_type": "code",
      "execution_count": null,
      "metadata": {
        "colab": {
          "base_uri": "https://localhost:8080/",
          "height": 206
        },
        "id": "jH1OJOdxNrhs",
        "outputId": "00585141-684f-4db0-c234-a7ce58b43919"
      },
      "outputs": [
        {
          "data": {
            "text/html": [
              "\n",
              "  <div id=\"df-5834bd46-9a5f-4ae2-8f7b-7304214e2dd4\">\n",
              "    <div class=\"colab-df-container\">\n",
              "      <div>\n",
              "<style scoped>\n",
              "    .dataframe tbody tr th:only-of-type {\n",
              "        vertical-align: middle;\n",
              "    }\n",
              "\n",
              "    .dataframe tbody tr th {\n",
              "        vertical-align: top;\n",
              "    }\n",
              "\n",
              "    .dataframe thead th {\n",
              "        text-align: right;\n",
              "    }\n",
              "</style>\n",
              "<table border=\"1\" class=\"dataframe\">\n",
              "  <thead>\n",
              "    <tr style=\"text-align: right;\">\n",
              "      <th></th>\n",
              "      <th>laptop_ID</th>\n",
              "      <th>Company</th>\n",
              "      <th>Product</th>\n",
              "      <th>TypeName</th>\n",
              "      <th>Inches</th>\n",
              "      <th>ScreenResolution</th>\n",
              "      <th>Cpu</th>\n",
              "      <th>Ram</th>\n",
              "      <th>Memory</th>\n",
              "      <th>Gpu</th>\n",
              "      <th>OpSys</th>\n",
              "      <th>Weight</th>\n",
              "      <th>Price_euros</th>\n",
              "    </tr>\n",
              "  </thead>\n",
              "  <tbody>\n",
              "    <tr>\n",
              "      <th>0</th>\n",
              "      <td>1</td>\n",
              "      <td>Apple</td>\n",
              "      <td>MacBook Pro</td>\n",
              "      <td>Ultrabook</td>\n",
              "      <td>13.3</td>\n",
              "      <td>IPS Panel Retina Display 2560x1600</td>\n",
              "      <td>Intel Core i5 2.3GHz</td>\n",
              "      <td>8GB</td>\n",
              "      <td>128GB SSD</td>\n",
              "      <td>Intel Iris Plus Graphics 640</td>\n",
              "      <td>macOS</td>\n",
              "      <td>1.37kg</td>\n",
              "      <td>1339.69</td>\n",
              "    </tr>\n",
              "    <tr>\n",
              "      <th>1</th>\n",
              "      <td>2</td>\n",
              "      <td>Apple</td>\n",
              "      <td>Macbook Air</td>\n",
              "      <td>Ultrabook</td>\n",
              "      <td>13.3</td>\n",
              "      <td>1440x900</td>\n",
              "      <td>Intel Core i5 1.8GHz</td>\n",
              "      <td>8GB</td>\n",
              "      <td>128GB Flash Storage</td>\n",
              "      <td>Intel HD Graphics 6000</td>\n",
              "      <td>macOS</td>\n",
              "      <td>1.34kg</td>\n",
              "      <td>898.94</td>\n",
              "    </tr>\n",
              "    <tr>\n",
              "      <th>2</th>\n",
              "      <td>3</td>\n",
              "      <td>HP</td>\n",
              "      <td>250 G6</td>\n",
              "      <td>Notebook</td>\n",
              "      <td>15.6</td>\n",
              "      <td>Full HD 1920x1080</td>\n",
              "      <td>Intel Core i5 7200U 2.5GHz</td>\n",
              "      <td>8GB</td>\n",
              "      <td>256GB SSD</td>\n",
              "      <td>Intel HD Graphics 620</td>\n",
              "      <td>No OS</td>\n",
              "      <td>1.86kg</td>\n",
              "      <td>575.00</td>\n",
              "    </tr>\n",
              "    <tr>\n",
              "      <th>3</th>\n",
              "      <td>4</td>\n",
              "      <td>Apple</td>\n",
              "      <td>MacBook Pro</td>\n",
              "      <td>Ultrabook</td>\n",
              "      <td>15.4</td>\n",
              "      <td>IPS Panel Retina Display 2880x1800</td>\n",
              "      <td>Intel Core i7 2.7GHz</td>\n",
              "      <td>16GB</td>\n",
              "      <td>512GB SSD</td>\n",
              "      <td>AMD Radeon Pro 455</td>\n",
              "      <td>macOS</td>\n",
              "      <td>1.83kg</td>\n",
              "      <td>2537.45</td>\n",
              "    </tr>\n",
              "    <tr>\n",
              "      <th>4</th>\n",
              "      <td>5</td>\n",
              "      <td>Apple</td>\n",
              "      <td>MacBook Pro</td>\n",
              "      <td>Ultrabook</td>\n",
              "      <td>13.3</td>\n",
              "      <td>IPS Panel Retina Display 2560x1600</td>\n",
              "      <td>Intel Core i5 3.1GHz</td>\n",
              "      <td>8GB</td>\n",
              "      <td>256GB SSD</td>\n",
              "      <td>Intel Iris Plus Graphics 650</td>\n",
              "      <td>macOS</td>\n",
              "      <td>1.37kg</td>\n",
              "      <td>1803.60</td>\n",
              "    </tr>\n",
              "  </tbody>\n",
              "</table>\n",
              "</div>\n",
              "      <button class=\"colab-df-convert\" onclick=\"convertToInteractive('df-5834bd46-9a5f-4ae2-8f7b-7304214e2dd4')\"\n",
              "              title=\"Convert this dataframe to an interactive table.\"\n",
              "              style=\"display:none;\">\n",
              "        \n",
              "  <svg xmlns=\"http://www.w3.org/2000/svg\" height=\"24px\"viewBox=\"0 0 24 24\"\n",
              "       width=\"24px\">\n",
              "    <path d=\"M0 0h24v24H0V0z\" fill=\"none\"/>\n",
              "    <path d=\"M18.56 5.44l.94 2.06.94-2.06 2.06-.94-2.06-.94-.94-2.06-.94 2.06-2.06.94zm-11 1L8.5 8.5l.94-2.06 2.06-.94-2.06-.94L8.5 2.5l-.94 2.06-2.06.94zm10 10l.94 2.06.94-2.06 2.06-.94-2.06-.94-.94-2.06-.94 2.06-2.06.94z\"/><path d=\"M17.41 7.96l-1.37-1.37c-.4-.4-.92-.59-1.43-.59-.52 0-1.04.2-1.43.59L10.3 9.45l-7.72 7.72c-.78.78-.78 2.05 0 2.83L4 21.41c.39.39.9.59 1.41.59.51 0 1.02-.2 1.41-.59l7.78-7.78 2.81-2.81c.8-.78.8-2.07 0-2.86zM5.41 20L4 18.59l7.72-7.72 1.47 1.35L5.41 20z\"/>\n",
              "  </svg>\n",
              "      </button>\n",
              "      \n",
              "  <style>\n",
              "    .colab-df-container {\n",
              "      display:flex;\n",
              "      flex-wrap:wrap;\n",
              "      gap: 12px;\n",
              "    }\n",
              "\n",
              "    .colab-df-convert {\n",
              "      background-color: #E8F0FE;\n",
              "      border: none;\n",
              "      border-radius: 50%;\n",
              "      cursor: pointer;\n",
              "      display: none;\n",
              "      fill: #1967D2;\n",
              "      height: 32px;\n",
              "      padding: 0 0 0 0;\n",
              "      width: 32px;\n",
              "    }\n",
              "\n",
              "    .colab-df-convert:hover {\n",
              "      background-color: #E2EBFA;\n",
              "      box-shadow: 0px 1px 2px rgba(60, 64, 67, 0.3), 0px 1px 3px 1px rgba(60, 64, 67, 0.15);\n",
              "      fill: #174EA6;\n",
              "    }\n",
              "\n",
              "    [theme=dark] .colab-df-convert {\n",
              "      background-color: #3B4455;\n",
              "      fill: #D2E3FC;\n",
              "    }\n",
              "\n",
              "    [theme=dark] .colab-df-convert:hover {\n",
              "      background-color: #434B5C;\n",
              "      box-shadow: 0px 1px 3px 1px rgba(0, 0, 0, 0.15);\n",
              "      filter: drop-shadow(0px 1px 2px rgba(0, 0, 0, 0.3));\n",
              "      fill: #FFFFFF;\n",
              "    }\n",
              "  </style>\n",
              "\n",
              "      <script>\n",
              "        const buttonEl =\n",
              "          document.querySelector('#df-5834bd46-9a5f-4ae2-8f7b-7304214e2dd4 button.colab-df-convert');\n",
              "        buttonEl.style.display =\n",
              "          google.colab.kernel.accessAllowed ? 'block' : 'none';\n",
              "\n",
              "        async function convertToInteractive(key) {\n",
              "          const element = document.querySelector('#df-5834bd46-9a5f-4ae2-8f7b-7304214e2dd4');\n",
              "          const dataTable =\n",
              "            await google.colab.kernel.invokeFunction('convertToInteractive',\n",
              "                                                     [key], {});\n",
              "          if (!dataTable) return;\n",
              "\n",
              "          const docLinkHtml = 'Like what you see? Visit the ' +\n",
              "            '<a target=\"_blank\" href=https://colab.research.google.com/notebooks/data_table.ipynb>data table notebook</a>'\n",
              "            + ' to learn more about interactive tables.';\n",
              "          element.innerHTML = '';\n",
              "          dataTable['output_type'] = 'display_data';\n",
              "          await google.colab.output.renderOutput(dataTable, element);\n",
              "          const docLink = document.createElement('div');\n",
              "          docLink.innerHTML = docLinkHtml;\n",
              "          element.appendChild(docLink);\n",
              "        }\n",
              "      </script>\n",
              "    </div>\n",
              "  </div>\n",
              "  "
            ],
            "text/plain": [
              "   laptop_ID Company      Product   TypeName  Inches  \\\n",
              "0          1   Apple  MacBook Pro  Ultrabook    13.3   \n",
              "1          2   Apple  Macbook Air  Ultrabook    13.3   \n",
              "2          3      HP       250 G6   Notebook    15.6   \n",
              "3          4   Apple  MacBook Pro  Ultrabook    15.4   \n",
              "4          5   Apple  MacBook Pro  Ultrabook    13.3   \n",
              "\n",
              "                     ScreenResolution                         Cpu   Ram  \\\n",
              "0  IPS Panel Retina Display 2560x1600        Intel Core i5 2.3GHz   8GB   \n",
              "1                            1440x900        Intel Core i5 1.8GHz   8GB   \n",
              "2                   Full HD 1920x1080  Intel Core i5 7200U 2.5GHz   8GB   \n",
              "3  IPS Panel Retina Display 2880x1800        Intel Core i7 2.7GHz  16GB   \n",
              "4  IPS Panel Retina Display 2560x1600        Intel Core i5 3.1GHz   8GB   \n",
              "\n",
              "                Memory                           Gpu  OpSys  Weight  \\\n",
              "0            128GB SSD  Intel Iris Plus Graphics 640  macOS  1.37kg   \n",
              "1  128GB Flash Storage        Intel HD Graphics 6000  macOS  1.34kg   \n",
              "2            256GB SSD         Intel HD Graphics 620  No OS  1.86kg   \n",
              "3            512GB SSD            AMD Radeon Pro 455  macOS  1.83kg   \n",
              "4            256GB SSD  Intel Iris Plus Graphics 650  macOS  1.37kg   \n",
              "\n",
              "   Price_euros  \n",
              "0      1339.69  \n",
              "1       898.94  \n",
              "2       575.00  \n",
              "3      2537.45  \n",
              "4      1803.60  "
            ]
          },
          "execution_count": 219,
          "metadata": {},
          "output_type": "execute_result"
        }
      ],
      "source": [
        "csv_filename = \"[Complete]Laptop_Price - [Complete]Laptop_Price.csv\"\n",
        "df = pd.read_csv(csv_filename)\n",
        "\n",
        "df.head()"
      ]
    },
    {
      "cell_type": "markdown",
      "metadata": {
        "id": "d2_bruRb2FIJ"
      },
      "source": [
        "## DataFrame's Info"
      ]
    },
    {
      "cell_type": "code",
      "execution_count": null,
      "metadata": {
        "colab": {
          "base_uri": "https://localhost:8080/"
        },
        "id": "gDv42YFb3RC1",
        "outputId": "958de7fd-3472-4ca2-b257-1b91bc0fd6a4"
      },
      "outputs": [
        {
          "data": {
            "text/plain": [
              "(1303, 13)"
            ]
          },
          "execution_count": 220,
          "metadata": {},
          "output_type": "execute_result"
        }
      ],
      "source": [
        "# DataFrame shape\n",
        "df.shape"
      ]
    },
    {
      "cell_type": "code",
      "execution_count": null,
      "metadata": {
        "colab": {
          "base_uri": "https://localhost:8080/"
        },
        "id": "JngZiK2q16YG",
        "outputId": "58413a40-965f-4184-af8b-7c661fb69a18"
      },
      "outputs": [
        {
          "name": "stdout",
          "output_type": "stream",
          "text": [
            "<class 'pandas.core.frame.DataFrame'>\n",
            "RangeIndex: 1303 entries, 0 to 1302\n",
            "Data columns (total 13 columns):\n",
            " #   Column            Non-Null Count  Dtype  \n",
            "---  ------            --------------  -----  \n",
            " 0   laptop_ID         1303 non-null   int64  \n",
            " 1   Company           1303 non-null   object \n",
            " 2   Product           1303 non-null   object \n",
            " 3   TypeName          1303 non-null   object \n",
            " 4   Inches            1303 non-null   float64\n",
            " 5   ScreenResolution  1303 non-null   object \n",
            " 6   Cpu               1303 non-null   object \n",
            " 7   Ram               1303 non-null   object \n",
            " 8   Memory            1303 non-null   object \n",
            " 9   Gpu               1303 non-null   object \n",
            " 10  OpSys             1303 non-null   object \n",
            " 11  Weight            1303 non-null   object \n",
            " 12  Price_euros       1303 non-null   float64\n",
            "dtypes: float64(2), int64(1), object(10)\n",
            "memory usage: 132.5+ KB\n"
          ]
        }
      ],
      "source": [
        "df.info()"
      ]
    },
    {
      "cell_type": "markdown",
      "metadata": {
        "id": "7_IEFnps2Nww"
      },
      "source": [
        "Observations:\n",
        "\n",
        "*   Tidak ada nilai null\n",
        "*   Inches dan Price_euro sudah benar sebagai filter numerik\n",
        "*   CPU, RAM, Memory dan Weight akan diganti menjadi tipe numerik ke depannya\n",
        "\n",
        "\n",
        "\n"
      ]
    },
    {
      "cell_type": "markdown",
      "metadata": {
        "id": "l6ND3h4p3i82"
      },
      "source": [
        "## Describe Dataframe"
      ]
    },
    {
      "cell_type": "code",
      "execution_count": null,
      "metadata": {
        "colab": {
          "base_uri": "https://localhost:8080/",
          "height": 300
        },
        "id": "_mJ67Dup16Nz",
        "outputId": "10eccfdb-d890-4ef6-f05a-be1c8a3953af"
      },
      "outputs": [
        {
          "data": {
            "text/html": [
              "\n",
              "  <div id=\"df-b436988d-a3e0-4ddd-aa59-59bbef3a047e\">\n",
              "    <div class=\"colab-df-container\">\n",
              "      <div>\n",
              "<style scoped>\n",
              "    .dataframe tbody tr th:only-of-type {\n",
              "        vertical-align: middle;\n",
              "    }\n",
              "\n",
              "    .dataframe tbody tr th {\n",
              "        vertical-align: top;\n",
              "    }\n",
              "\n",
              "    .dataframe thead th {\n",
              "        text-align: right;\n",
              "    }\n",
              "</style>\n",
              "<table border=\"1\" class=\"dataframe\">\n",
              "  <thead>\n",
              "    <tr style=\"text-align: right;\">\n",
              "      <th></th>\n",
              "      <th>laptop_ID</th>\n",
              "      <th>Inches</th>\n",
              "      <th>Price_euros</th>\n",
              "    </tr>\n",
              "  </thead>\n",
              "  <tbody>\n",
              "    <tr>\n",
              "      <th>count</th>\n",
              "      <td>1303.000000</td>\n",
              "      <td>1303.000000</td>\n",
              "      <td>1303.000000</td>\n",
              "    </tr>\n",
              "    <tr>\n",
              "      <th>mean</th>\n",
              "      <td>660.155794</td>\n",
              "      <td>15.017191</td>\n",
              "      <td>1123.686992</td>\n",
              "    </tr>\n",
              "    <tr>\n",
              "      <th>std</th>\n",
              "      <td>381.172104</td>\n",
              "      <td>1.426304</td>\n",
              "      <td>699.009043</td>\n",
              "    </tr>\n",
              "    <tr>\n",
              "      <th>min</th>\n",
              "      <td>1.000000</td>\n",
              "      <td>10.100000</td>\n",
              "      <td>174.000000</td>\n",
              "    </tr>\n",
              "    <tr>\n",
              "      <th>25%</th>\n",
              "      <td>331.500000</td>\n",
              "      <td>14.000000</td>\n",
              "      <td>599.000000</td>\n",
              "    </tr>\n",
              "    <tr>\n",
              "      <th>50%</th>\n",
              "      <td>659.000000</td>\n",
              "      <td>15.600000</td>\n",
              "      <td>977.000000</td>\n",
              "    </tr>\n",
              "    <tr>\n",
              "      <th>75%</th>\n",
              "      <td>990.500000</td>\n",
              "      <td>15.600000</td>\n",
              "      <td>1487.880000</td>\n",
              "    </tr>\n",
              "    <tr>\n",
              "      <th>max</th>\n",
              "      <td>1320.000000</td>\n",
              "      <td>18.400000</td>\n",
              "      <td>6099.000000</td>\n",
              "    </tr>\n",
              "  </tbody>\n",
              "</table>\n",
              "</div>\n",
              "      <button class=\"colab-df-convert\" onclick=\"convertToInteractive('df-b436988d-a3e0-4ddd-aa59-59bbef3a047e')\"\n",
              "              title=\"Convert this dataframe to an interactive table.\"\n",
              "              style=\"display:none;\">\n",
              "        \n",
              "  <svg xmlns=\"http://www.w3.org/2000/svg\" height=\"24px\"viewBox=\"0 0 24 24\"\n",
              "       width=\"24px\">\n",
              "    <path d=\"M0 0h24v24H0V0z\" fill=\"none\"/>\n",
              "    <path d=\"M18.56 5.44l.94 2.06.94-2.06 2.06-.94-2.06-.94-.94-2.06-.94 2.06-2.06.94zm-11 1L8.5 8.5l.94-2.06 2.06-.94-2.06-.94L8.5 2.5l-.94 2.06-2.06.94zm10 10l.94 2.06.94-2.06 2.06-.94-2.06-.94-.94-2.06-.94 2.06-2.06.94z\"/><path d=\"M17.41 7.96l-1.37-1.37c-.4-.4-.92-.59-1.43-.59-.52 0-1.04.2-1.43.59L10.3 9.45l-7.72 7.72c-.78.78-.78 2.05 0 2.83L4 21.41c.39.39.9.59 1.41.59.51 0 1.02-.2 1.41-.59l7.78-7.78 2.81-2.81c.8-.78.8-2.07 0-2.86zM5.41 20L4 18.59l7.72-7.72 1.47 1.35L5.41 20z\"/>\n",
              "  </svg>\n",
              "      </button>\n",
              "      \n",
              "  <style>\n",
              "    .colab-df-container {\n",
              "      display:flex;\n",
              "      flex-wrap:wrap;\n",
              "      gap: 12px;\n",
              "    }\n",
              "\n",
              "    .colab-df-convert {\n",
              "      background-color: #E8F0FE;\n",
              "      border: none;\n",
              "      border-radius: 50%;\n",
              "      cursor: pointer;\n",
              "      display: none;\n",
              "      fill: #1967D2;\n",
              "      height: 32px;\n",
              "      padding: 0 0 0 0;\n",
              "      width: 32px;\n",
              "    }\n",
              "\n",
              "    .colab-df-convert:hover {\n",
              "      background-color: #E2EBFA;\n",
              "      box-shadow: 0px 1px 2px rgba(60, 64, 67, 0.3), 0px 1px 3px 1px rgba(60, 64, 67, 0.15);\n",
              "      fill: #174EA6;\n",
              "    }\n",
              "\n",
              "    [theme=dark] .colab-df-convert {\n",
              "      background-color: #3B4455;\n",
              "      fill: #D2E3FC;\n",
              "    }\n",
              "\n",
              "    [theme=dark] .colab-df-convert:hover {\n",
              "      background-color: #434B5C;\n",
              "      box-shadow: 0px 1px 3px 1px rgba(0, 0, 0, 0.15);\n",
              "      filter: drop-shadow(0px 1px 2px rgba(0, 0, 0, 0.3));\n",
              "      fill: #FFFFFF;\n",
              "    }\n",
              "  </style>\n",
              "\n",
              "      <script>\n",
              "        const buttonEl =\n",
              "          document.querySelector('#df-b436988d-a3e0-4ddd-aa59-59bbef3a047e button.colab-df-convert');\n",
              "        buttonEl.style.display =\n",
              "          google.colab.kernel.accessAllowed ? 'block' : 'none';\n",
              "\n",
              "        async function convertToInteractive(key) {\n",
              "          const element = document.querySelector('#df-b436988d-a3e0-4ddd-aa59-59bbef3a047e');\n",
              "          const dataTable =\n",
              "            await google.colab.kernel.invokeFunction('convertToInteractive',\n",
              "                                                     [key], {});\n",
              "          if (!dataTable) return;\n",
              "\n",
              "          const docLinkHtml = 'Like what you see? Visit the ' +\n",
              "            '<a target=\"_blank\" href=https://colab.research.google.com/notebooks/data_table.ipynb>data table notebook</a>'\n",
              "            + ' to learn more about interactive tables.';\n",
              "          element.innerHTML = '';\n",
              "          dataTable['output_type'] = 'display_data';\n",
              "          await google.colab.output.renderOutput(dataTable, element);\n",
              "          const docLink = document.createElement('div');\n",
              "          docLink.innerHTML = docLinkHtml;\n",
              "          element.appendChild(docLink);\n",
              "        }\n",
              "      </script>\n",
              "    </div>\n",
              "  </div>\n",
              "  "
            ],
            "text/plain": [
              "         laptop_ID       Inches  Price_euros\n",
              "count  1303.000000  1303.000000  1303.000000\n",
              "mean    660.155794    15.017191  1123.686992\n",
              "std     381.172104     1.426304   699.009043\n",
              "min       1.000000    10.100000   174.000000\n",
              "25%     331.500000    14.000000   599.000000\n",
              "50%     659.000000    15.600000   977.000000\n",
              "75%     990.500000    15.600000  1487.880000\n",
              "max    1320.000000    18.400000  6099.000000"
            ]
          },
          "execution_count": 222,
          "metadata": {},
          "output_type": "execute_result"
        }
      ],
      "source": [
        "df.describe()"
      ]
    },
    {
      "cell_type": "markdown",
      "metadata": {
        "id": "0dBDr0yc34mE"
      },
      "source": [
        "Using the '**describe**' method of the dataframe, we can get some first insights on the numerical columns.\n",
        "\n",
        "Observations:\n",
        "\n",
        "* laptop _ID: start dari 1 sampai 1320, kenapa? di investigasi lagi\n",
        "* Inches: min 10.1, max 18.4, mean 15\n",
        "* Price euros: min 174, max 6099, mean 1123"
      ]
    },
    {
      "cell_type": "markdown",
      "metadata": {
        "id": "qpqN4mm6Oj1W"
      },
      "source": [
        "# Data Cleaning"
      ]
    },
    {
      "cell_type": "markdown",
      "metadata": {
        "id": "HH6JPeyc4rFz"
      },
      "source": [
        "## Lowering DataFrame's Column Names"
      ]
    },
    {
      "cell_type": "code",
      "execution_count": null,
      "metadata": {
        "id": "bX6Cg1lV4rFz"
      },
      "outputs": [],
      "source": [
        "df = df.rename(columns=str.lower)"
      ]
    },
    {
      "cell_type": "code",
      "execution_count": null,
      "metadata": {
        "colab": {
          "base_uri": "https://localhost:8080/",
          "height": 206
        },
        "id": "Ot7phobc4qib",
        "outputId": "72160099-4ea9-4cf1-fa38-887bff616c69"
      },
      "outputs": [
        {
          "data": {
            "text/html": [
              "\n",
              "  <div id=\"df-57e266f7-6cb4-4fd6-b19f-49168e93cf19\">\n",
              "    <div class=\"colab-df-container\">\n",
              "      <div>\n",
              "<style scoped>\n",
              "    .dataframe tbody tr th:only-of-type {\n",
              "        vertical-align: middle;\n",
              "    }\n",
              "\n",
              "    .dataframe tbody tr th {\n",
              "        vertical-align: top;\n",
              "    }\n",
              "\n",
              "    .dataframe thead th {\n",
              "        text-align: right;\n",
              "    }\n",
              "</style>\n",
              "<table border=\"1\" class=\"dataframe\">\n",
              "  <thead>\n",
              "    <tr style=\"text-align: right;\">\n",
              "      <th></th>\n",
              "      <th>laptop_id</th>\n",
              "      <th>company</th>\n",
              "      <th>product</th>\n",
              "      <th>typename</th>\n",
              "      <th>inches</th>\n",
              "      <th>screenresolution</th>\n",
              "      <th>cpu</th>\n",
              "      <th>ram</th>\n",
              "      <th>memory</th>\n",
              "      <th>gpu</th>\n",
              "      <th>opsys</th>\n",
              "      <th>weight</th>\n",
              "      <th>price</th>\n",
              "    </tr>\n",
              "  </thead>\n",
              "  <tbody>\n",
              "    <tr>\n",
              "      <th>0</th>\n",
              "      <td>1</td>\n",
              "      <td>Apple</td>\n",
              "      <td>MacBook Pro</td>\n",
              "      <td>Ultrabook</td>\n",
              "      <td>13.3</td>\n",
              "      <td>IPS Panel Retina Display 2560x1600</td>\n",
              "      <td>Intel Core i5 2.3GHz</td>\n",
              "      <td>8GB</td>\n",
              "      <td>128GB SSD</td>\n",
              "      <td>Intel Iris Plus Graphics 640</td>\n",
              "      <td>macOS</td>\n",
              "      <td>1.37kg</td>\n",
              "      <td>1339.69</td>\n",
              "    </tr>\n",
              "    <tr>\n",
              "      <th>1</th>\n",
              "      <td>2</td>\n",
              "      <td>Apple</td>\n",
              "      <td>Macbook Air</td>\n",
              "      <td>Ultrabook</td>\n",
              "      <td>13.3</td>\n",
              "      <td>1440x900</td>\n",
              "      <td>Intel Core i5 1.8GHz</td>\n",
              "      <td>8GB</td>\n",
              "      <td>128GB Flash Storage</td>\n",
              "      <td>Intel HD Graphics 6000</td>\n",
              "      <td>macOS</td>\n",
              "      <td>1.34kg</td>\n",
              "      <td>898.94</td>\n",
              "    </tr>\n",
              "    <tr>\n",
              "      <th>2</th>\n",
              "      <td>3</td>\n",
              "      <td>HP</td>\n",
              "      <td>250 G6</td>\n",
              "      <td>Notebook</td>\n",
              "      <td>15.6</td>\n",
              "      <td>Full HD 1920x1080</td>\n",
              "      <td>Intel Core i5 7200U 2.5GHz</td>\n",
              "      <td>8GB</td>\n",
              "      <td>256GB SSD</td>\n",
              "      <td>Intel HD Graphics 620</td>\n",
              "      <td>No OS</td>\n",
              "      <td>1.86kg</td>\n",
              "      <td>575.00</td>\n",
              "    </tr>\n",
              "    <tr>\n",
              "      <th>3</th>\n",
              "      <td>4</td>\n",
              "      <td>Apple</td>\n",
              "      <td>MacBook Pro</td>\n",
              "      <td>Ultrabook</td>\n",
              "      <td>15.4</td>\n",
              "      <td>IPS Panel Retina Display 2880x1800</td>\n",
              "      <td>Intel Core i7 2.7GHz</td>\n",
              "      <td>16GB</td>\n",
              "      <td>512GB SSD</td>\n",
              "      <td>AMD Radeon Pro 455</td>\n",
              "      <td>macOS</td>\n",
              "      <td>1.83kg</td>\n",
              "      <td>2537.45</td>\n",
              "    </tr>\n",
              "    <tr>\n",
              "      <th>4</th>\n",
              "      <td>5</td>\n",
              "      <td>Apple</td>\n",
              "      <td>MacBook Pro</td>\n",
              "      <td>Ultrabook</td>\n",
              "      <td>13.3</td>\n",
              "      <td>IPS Panel Retina Display 2560x1600</td>\n",
              "      <td>Intel Core i5 3.1GHz</td>\n",
              "      <td>8GB</td>\n",
              "      <td>256GB SSD</td>\n",
              "      <td>Intel Iris Plus Graphics 650</td>\n",
              "      <td>macOS</td>\n",
              "      <td>1.37kg</td>\n",
              "      <td>1803.60</td>\n",
              "    </tr>\n",
              "  </tbody>\n",
              "</table>\n",
              "</div>\n",
              "      <button class=\"colab-df-convert\" onclick=\"convertToInteractive('df-57e266f7-6cb4-4fd6-b19f-49168e93cf19')\"\n",
              "              title=\"Convert this dataframe to an interactive table.\"\n",
              "              style=\"display:none;\">\n",
              "        \n",
              "  <svg xmlns=\"http://www.w3.org/2000/svg\" height=\"24px\"viewBox=\"0 0 24 24\"\n",
              "       width=\"24px\">\n",
              "    <path d=\"M0 0h24v24H0V0z\" fill=\"none\"/>\n",
              "    <path d=\"M18.56 5.44l.94 2.06.94-2.06 2.06-.94-2.06-.94-.94-2.06-.94 2.06-2.06.94zm-11 1L8.5 8.5l.94-2.06 2.06-.94-2.06-.94L8.5 2.5l-.94 2.06-2.06.94zm10 10l.94 2.06.94-2.06 2.06-.94-2.06-.94-.94-2.06-.94 2.06-2.06.94z\"/><path d=\"M17.41 7.96l-1.37-1.37c-.4-.4-.92-.59-1.43-.59-.52 0-1.04.2-1.43.59L10.3 9.45l-7.72 7.72c-.78.78-.78 2.05 0 2.83L4 21.41c.39.39.9.59 1.41.59.51 0 1.02-.2 1.41-.59l7.78-7.78 2.81-2.81c.8-.78.8-2.07 0-2.86zM5.41 20L4 18.59l7.72-7.72 1.47 1.35L5.41 20z\"/>\n",
              "  </svg>\n",
              "      </button>\n",
              "      \n",
              "  <style>\n",
              "    .colab-df-container {\n",
              "      display:flex;\n",
              "      flex-wrap:wrap;\n",
              "      gap: 12px;\n",
              "    }\n",
              "\n",
              "    .colab-df-convert {\n",
              "      background-color: #E8F0FE;\n",
              "      border: none;\n",
              "      border-radius: 50%;\n",
              "      cursor: pointer;\n",
              "      display: none;\n",
              "      fill: #1967D2;\n",
              "      height: 32px;\n",
              "      padding: 0 0 0 0;\n",
              "      width: 32px;\n",
              "    }\n",
              "\n",
              "    .colab-df-convert:hover {\n",
              "      background-color: #E2EBFA;\n",
              "      box-shadow: 0px 1px 2px rgba(60, 64, 67, 0.3), 0px 1px 3px 1px rgba(60, 64, 67, 0.15);\n",
              "      fill: #174EA6;\n",
              "    }\n",
              "\n",
              "    [theme=dark] .colab-df-convert {\n",
              "      background-color: #3B4455;\n",
              "      fill: #D2E3FC;\n",
              "    }\n",
              "\n",
              "    [theme=dark] .colab-df-convert:hover {\n",
              "      background-color: #434B5C;\n",
              "      box-shadow: 0px 1px 3px 1px rgba(0, 0, 0, 0.15);\n",
              "      filter: drop-shadow(0px 1px 2px rgba(0, 0, 0, 0.3));\n",
              "      fill: #FFFFFF;\n",
              "    }\n",
              "  </style>\n",
              "\n",
              "      <script>\n",
              "        const buttonEl =\n",
              "          document.querySelector('#df-57e266f7-6cb4-4fd6-b19f-49168e93cf19 button.colab-df-convert');\n",
              "        buttonEl.style.display =\n",
              "          google.colab.kernel.accessAllowed ? 'block' : 'none';\n",
              "\n",
              "        async function convertToInteractive(key) {\n",
              "          const element = document.querySelector('#df-57e266f7-6cb4-4fd6-b19f-49168e93cf19');\n",
              "          const dataTable =\n",
              "            await google.colab.kernel.invokeFunction('convertToInteractive',\n",
              "                                                     [key], {});\n",
              "          if (!dataTable) return;\n",
              "\n",
              "          const docLinkHtml = 'Like what you see? Visit the ' +\n",
              "            '<a target=\"_blank\" href=https://colab.research.google.com/notebooks/data_table.ipynb>data table notebook</a>'\n",
              "            + ' to learn more about interactive tables.';\n",
              "          element.innerHTML = '';\n",
              "          dataTable['output_type'] = 'display_data';\n",
              "          await google.colab.output.renderOutput(dataTable, element);\n",
              "          const docLink = document.createElement('div');\n",
              "          docLink.innerHTML = docLinkHtml;\n",
              "          element.appendChild(docLink);\n",
              "        }\n",
              "      </script>\n",
              "    </div>\n",
              "  </div>\n",
              "  "
            ],
            "text/plain": [
              "   laptop_id company      product   typename  inches  \\\n",
              "0          1   Apple  MacBook Pro  Ultrabook    13.3   \n",
              "1          2   Apple  Macbook Air  Ultrabook    13.3   \n",
              "2          3      HP       250 G6   Notebook    15.6   \n",
              "3          4   Apple  MacBook Pro  Ultrabook    15.4   \n",
              "4          5   Apple  MacBook Pro  Ultrabook    13.3   \n",
              "\n",
              "                     screenresolution                         cpu   ram  \\\n",
              "0  IPS Panel Retina Display 2560x1600        Intel Core i5 2.3GHz   8GB   \n",
              "1                            1440x900        Intel Core i5 1.8GHz   8GB   \n",
              "2                   Full HD 1920x1080  Intel Core i5 7200U 2.5GHz   8GB   \n",
              "3  IPS Panel Retina Display 2880x1800        Intel Core i7 2.7GHz  16GB   \n",
              "4  IPS Panel Retina Display 2560x1600        Intel Core i5 3.1GHz   8GB   \n",
              "\n",
              "                memory                           gpu  opsys  weight    price  \n",
              "0            128GB SSD  Intel Iris Plus Graphics 640  macOS  1.37kg  1339.69  \n",
              "1  128GB Flash Storage        Intel HD Graphics 6000  macOS  1.34kg   898.94  \n",
              "2            256GB SSD         Intel HD Graphics 620  No OS  1.86kg   575.00  \n",
              "3            512GB SSD            AMD Radeon Pro 455  macOS  1.83kg  2537.45  \n",
              "4            256GB SSD  Intel Iris Plus Graphics 650  macOS  1.37kg  1803.60  "
            ]
          },
          "execution_count": 224,
          "metadata": {},
          "output_type": "execute_result"
        }
      ],
      "source": [
        "df = df.rename(columns={'price_euros' : 'price'})\n",
        "df.head()"
      ]
    },
    {
      "cell_type": "markdown",
      "metadata": {
        "id": "F2F8Ly8BOM_r"
      },
      "source": [
        "## Check Missing Values"
      ]
    },
    {
      "cell_type": "code",
      "execution_count": null,
      "metadata": {
        "colab": {
          "base_uri": "https://localhost:8080/"
        },
        "id": "ArLsVDSKOMta",
        "outputId": "d2297af7-8e18-449b-b9b5-a3feb49a5e91"
      },
      "outputs": [
        {
          "data": {
            "text/plain": [
              "laptop_id           0\n",
              "company             0\n",
              "product             0\n",
              "typename            0\n",
              "inches              0\n",
              "screenresolution    0\n",
              "cpu                 0\n",
              "ram                 0\n",
              "memory              0\n",
              "gpu                 0\n",
              "opsys               0\n",
              "weight              0\n",
              "price               0\n",
              "dtype: int64"
            ]
          },
          "execution_count": 225,
          "metadata": {},
          "output_type": "execute_result"
        }
      ],
      "source": [
        "# no missing value\n",
        "df.isna().sum()"
      ]
    },
    {
      "cell_type": "markdown",
      "metadata": {
        "id": "26VghP8nOQnU"
      },
      "source": [
        "## Check For Duplicates"
      ]
    },
    {
      "cell_type": "code",
      "execution_count": null,
      "metadata": {
        "colab": {
          "base_uri": "https://localhost:8080/"
        },
        "id": "oF3JJhwxOGhL",
        "outputId": "e057a1a2-200c-4af1-beb9-73af9edaf85a"
      },
      "outputs": [
        {
          "data": {
            "text/plain": [
              "0       False\n",
              "1       False\n",
              "2       False\n",
              "3       False\n",
              "4       False\n",
              "        ...  \n",
              "1298    False\n",
              "1299    False\n",
              "1300    False\n",
              "1301    False\n",
              "1302    False\n",
              "Length: 1303, dtype: bool"
            ]
          },
          "execution_count": 226,
          "metadata": {},
          "output_type": "execute_result"
        }
      ],
      "source": [
        "df.duplicated()"
      ]
    },
    {
      "cell_type": "code",
      "execution_count": null,
      "metadata": {
        "colab": {
          "base_uri": "https://localhost:8080/",
          "height": 49
        },
        "id": "6e6ekhSr7OPI",
        "outputId": "992d4c39-61dc-49d1-bfc6-84cc85acb7d0"
      },
      "outputs": [
        {
          "data": {
            "text/html": [
              "\n",
              "  <div id=\"df-4fb28a03-59a8-4bc3-957d-8d363375030c\">\n",
              "    <div class=\"colab-df-container\">\n",
              "      <div>\n",
              "<style scoped>\n",
              "    .dataframe tbody tr th:only-of-type {\n",
              "        vertical-align: middle;\n",
              "    }\n",
              "\n",
              "    .dataframe tbody tr th {\n",
              "        vertical-align: top;\n",
              "    }\n",
              "\n",
              "    .dataframe thead th {\n",
              "        text-align: right;\n",
              "    }\n",
              "</style>\n",
              "<table border=\"1\" class=\"dataframe\">\n",
              "  <thead>\n",
              "    <tr style=\"text-align: right;\">\n",
              "      <th></th>\n",
              "      <th>laptop_id</th>\n",
              "      <th>company</th>\n",
              "      <th>product</th>\n",
              "      <th>typename</th>\n",
              "      <th>inches</th>\n",
              "      <th>screenresolution</th>\n",
              "      <th>cpu</th>\n",
              "      <th>ram</th>\n",
              "      <th>memory</th>\n",
              "      <th>gpu</th>\n",
              "      <th>opsys</th>\n",
              "      <th>weight</th>\n",
              "      <th>price</th>\n",
              "    </tr>\n",
              "  </thead>\n",
              "  <tbody>\n",
              "  </tbody>\n",
              "</table>\n",
              "</div>\n",
              "      <button class=\"colab-df-convert\" onclick=\"convertToInteractive('df-4fb28a03-59a8-4bc3-957d-8d363375030c')\"\n",
              "              title=\"Convert this dataframe to an interactive table.\"\n",
              "              style=\"display:none;\">\n",
              "        \n",
              "  <svg xmlns=\"http://www.w3.org/2000/svg\" height=\"24px\"viewBox=\"0 0 24 24\"\n",
              "       width=\"24px\">\n",
              "    <path d=\"M0 0h24v24H0V0z\" fill=\"none\"/>\n",
              "    <path d=\"M18.56 5.44l.94 2.06.94-2.06 2.06-.94-2.06-.94-.94-2.06-.94 2.06-2.06.94zm-11 1L8.5 8.5l.94-2.06 2.06-.94-2.06-.94L8.5 2.5l-.94 2.06-2.06.94zm10 10l.94 2.06.94-2.06 2.06-.94-2.06-.94-.94-2.06-.94 2.06-2.06.94z\"/><path d=\"M17.41 7.96l-1.37-1.37c-.4-.4-.92-.59-1.43-.59-.52 0-1.04.2-1.43.59L10.3 9.45l-7.72 7.72c-.78.78-.78 2.05 0 2.83L4 21.41c.39.39.9.59 1.41.59.51 0 1.02-.2 1.41-.59l7.78-7.78 2.81-2.81c.8-.78.8-2.07 0-2.86zM5.41 20L4 18.59l7.72-7.72 1.47 1.35L5.41 20z\"/>\n",
              "  </svg>\n",
              "      </button>\n",
              "      \n",
              "  <style>\n",
              "    .colab-df-container {\n",
              "      display:flex;\n",
              "      flex-wrap:wrap;\n",
              "      gap: 12px;\n",
              "    }\n",
              "\n",
              "    .colab-df-convert {\n",
              "      background-color: #E8F0FE;\n",
              "      border: none;\n",
              "      border-radius: 50%;\n",
              "      cursor: pointer;\n",
              "      display: none;\n",
              "      fill: #1967D2;\n",
              "      height: 32px;\n",
              "      padding: 0 0 0 0;\n",
              "      width: 32px;\n",
              "    }\n",
              "\n",
              "    .colab-df-convert:hover {\n",
              "      background-color: #E2EBFA;\n",
              "      box-shadow: 0px 1px 2px rgba(60, 64, 67, 0.3), 0px 1px 3px 1px rgba(60, 64, 67, 0.15);\n",
              "      fill: #174EA6;\n",
              "    }\n",
              "\n",
              "    [theme=dark] .colab-df-convert {\n",
              "      background-color: #3B4455;\n",
              "      fill: #D2E3FC;\n",
              "    }\n",
              "\n",
              "    [theme=dark] .colab-df-convert:hover {\n",
              "      background-color: #434B5C;\n",
              "      box-shadow: 0px 1px 3px 1px rgba(0, 0, 0, 0.15);\n",
              "      filter: drop-shadow(0px 1px 2px rgba(0, 0, 0, 0.3));\n",
              "      fill: #FFFFFF;\n",
              "    }\n",
              "  </style>\n",
              "\n",
              "      <script>\n",
              "        const buttonEl =\n",
              "          document.querySelector('#df-4fb28a03-59a8-4bc3-957d-8d363375030c button.colab-df-convert');\n",
              "        buttonEl.style.display =\n",
              "          google.colab.kernel.accessAllowed ? 'block' : 'none';\n",
              "\n",
              "        async function convertToInteractive(key) {\n",
              "          const element = document.querySelector('#df-4fb28a03-59a8-4bc3-957d-8d363375030c');\n",
              "          const dataTable =\n",
              "            await google.colab.kernel.invokeFunction('convertToInteractive',\n",
              "                                                     [key], {});\n",
              "          if (!dataTable) return;\n",
              "\n",
              "          const docLinkHtml = 'Like what you see? Visit the ' +\n",
              "            '<a target=\"_blank\" href=https://colab.research.google.com/notebooks/data_table.ipynb>data table notebook</a>'\n",
              "            + ' to learn more about interactive tables.';\n",
              "          element.innerHTML = '';\n",
              "          dataTable['output_type'] = 'display_data';\n",
              "          await google.colab.output.renderOutput(dataTable, element);\n",
              "          const docLink = document.createElement('div');\n",
              "          docLink.innerHTML = docLinkHtml;\n",
              "          element.appendChild(docLink);\n",
              "        }\n",
              "      </script>\n",
              "    </div>\n",
              "  </div>\n",
              "  "
            ],
            "text/plain": [
              "Empty DataFrame\n",
              "Columns: [laptop_id, company, product, typename, inches, screenresolution, cpu, ram, memory, gpu, opsys, weight, price]\n",
              "Index: []"
            ]
          },
          "execution_count": 227,
          "metadata": {},
          "output_type": "execute_result"
        }
      ],
      "source": [
        "df[df.duplicated]"
      ]
    },
    {
      "cell_type": "markdown",
      "metadata": {
        "id": "O9t0VlrJvxNQ"
      },
      "source": [
        "Tidak ada data duplikat"
      ]
    },
    {
      "cell_type": "markdown",
      "metadata": {
        "id": "3rl6ufPIO1lE"
      },
      "source": [
        "# Data Cleaning + Feature Engineering (FE)"
      ]
    },
    {
      "cell_type": "markdown",
      "metadata": {
        "id": "uWLxs_JMPYER"
      },
      "source": [
        "## Laptop ID"
      ]
    },
    {
      "cell_type": "code",
      "execution_count": null,
      "metadata": {
        "colab": {
          "base_uri": "https://localhost:8080/",
          "height": 206
        },
        "id": "cW1-v-gLwH3i",
        "outputId": "185b6464-4d65-46c0-96cf-b20301437e7b"
      },
      "outputs": [
        {
          "data": {
            "text/html": [
              "\n",
              "  <div id=\"df-dabe0873-d295-46e4-a4b4-7e915fa3ac81\">\n",
              "    <div class=\"colab-df-container\">\n",
              "      <div>\n",
              "<style scoped>\n",
              "    .dataframe tbody tr th:only-of-type {\n",
              "        vertical-align: middle;\n",
              "    }\n",
              "\n",
              "    .dataframe tbody tr th {\n",
              "        vertical-align: top;\n",
              "    }\n",
              "\n",
              "    .dataframe thead th {\n",
              "        text-align: right;\n",
              "    }\n",
              "</style>\n",
              "<table border=\"1\" class=\"dataframe\">\n",
              "  <thead>\n",
              "    <tr style=\"text-align: right;\">\n",
              "      <th></th>\n",
              "      <th>laptop_id</th>\n",
              "      <th>company</th>\n",
              "      <th>product</th>\n",
              "      <th>typename</th>\n",
              "      <th>inches</th>\n",
              "      <th>screenresolution</th>\n",
              "      <th>cpu</th>\n",
              "      <th>ram</th>\n",
              "      <th>memory</th>\n",
              "      <th>gpu</th>\n",
              "      <th>opsys</th>\n",
              "      <th>weight</th>\n",
              "      <th>price</th>\n",
              "    </tr>\n",
              "  </thead>\n",
              "  <tbody>\n",
              "    <tr>\n",
              "      <th>0</th>\n",
              "      <td>1</td>\n",
              "      <td>Apple</td>\n",
              "      <td>MacBook Pro</td>\n",
              "      <td>Ultrabook</td>\n",
              "      <td>13.3</td>\n",
              "      <td>IPS Panel Retina Display 2560x1600</td>\n",
              "      <td>Intel Core i5 2.3GHz</td>\n",
              "      <td>8GB</td>\n",
              "      <td>128GB SSD</td>\n",
              "      <td>Intel Iris Plus Graphics 640</td>\n",
              "      <td>macOS</td>\n",
              "      <td>1.37kg</td>\n",
              "      <td>1339.69</td>\n",
              "    </tr>\n",
              "    <tr>\n",
              "      <th>1</th>\n",
              "      <td>2</td>\n",
              "      <td>Apple</td>\n",
              "      <td>Macbook Air</td>\n",
              "      <td>Ultrabook</td>\n",
              "      <td>13.3</td>\n",
              "      <td>1440x900</td>\n",
              "      <td>Intel Core i5 1.8GHz</td>\n",
              "      <td>8GB</td>\n",
              "      <td>128GB Flash Storage</td>\n",
              "      <td>Intel HD Graphics 6000</td>\n",
              "      <td>macOS</td>\n",
              "      <td>1.34kg</td>\n",
              "      <td>898.94</td>\n",
              "    </tr>\n",
              "    <tr>\n",
              "      <th>2</th>\n",
              "      <td>3</td>\n",
              "      <td>HP</td>\n",
              "      <td>250 G6</td>\n",
              "      <td>Notebook</td>\n",
              "      <td>15.6</td>\n",
              "      <td>Full HD 1920x1080</td>\n",
              "      <td>Intel Core i5 7200U 2.5GHz</td>\n",
              "      <td>8GB</td>\n",
              "      <td>256GB SSD</td>\n",
              "      <td>Intel HD Graphics 620</td>\n",
              "      <td>No OS</td>\n",
              "      <td>1.86kg</td>\n",
              "      <td>575.00</td>\n",
              "    </tr>\n",
              "    <tr>\n",
              "      <th>3</th>\n",
              "      <td>4</td>\n",
              "      <td>Apple</td>\n",
              "      <td>MacBook Pro</td>\n",
              "      <td>Ultrabook</td>\n",
              "      <td>15.4</td>\n",
              "      <td>IPS Panel Retina Display 2880x1800</td>\n",
              "      <td>Intel Core i7 2.7GHz</td>\n",
              "      <td>16GB</td>\n",
              "      <td>512GB SSD</td>\n",
              "      <td>AMD Radeon Pro 455</td>\n",
              "      <td>macOS</td>\n",
              "      <td>1.83kg</td>\n",
              "      <td>2537.45</td>\n",
              "    </tr>\n",
              "    <tr>\n",
              "      <th>4</th>\n",
              "      <td>5</td>\n",
              "      <td>Apple</td>\n",
              "      <td>MacBook Pro</td>\n",
              "      <td>Ultrabook</td>\n",
              "      <td>13.3</td>\n",
              "      <td>IPS Panel Retina Display 2560x1600</td>\n",
              "      <td>Intel Core i5 3.1GHz</td>\n",
              "      <td>8GB</td>\n",
              "      <td>256GB SSD</td>\n",
              "      <td>Intel Iris Plus Graphics 650</td>\n",
              "      <td>macOS</td>\n",
              "      <td>1.37kg</td>\n",
              "      <td>1803.60</td>\n",
              "    </tr>\n",
              "  </tbody>\n",
              "</table>\n",
              "</div>\n",
              "      <button class=\"colab-df-convert\" onclick=\"convertToInteractive('df-dabe0873-d295-46e4-a4b4-7e915fa3ac81')\"\n",
              "              title=\"Convert this dataframe to an interactive table.\"\n",
              "              style=\"display:none;\">\n",
              "        \n",
              "  <svg xmlns=\"http://www.w3.org/2000/svg\" height=\"24px\"viewBox=\"0 0 24 24\"\n",
              "       width=\"24px\">\n",
              "    <path d=\"M0 0h24v24H0V0z\" fill=\"none\"/>\n",
              "    <path d=\"M18.56 5.44l.94 2.06.94-2.06 2.06-.94-2.06-.94-.94-2.06-.94 2.06-2.06.94zm-11 1L8.5 8.5l.94-2.06 2.06-.94-2.06-.94L8.5 2.5l-.94 2.06-2.06.94zm10 10l.94 2.06.94-2.06 2.06-.94-2.06-.94-.94-2.06-.94 2.06-2.06.94z\"/><path d=\"M17.41 7.96l-1.37-1.37c-.4-.4-.92-.59-1.43-.59-.52 0-1.04.2-1.43.59L10.3 9.45l-7.72 7.72c-.78.78-.78 2.05 0 2.83L4 21.41c.39.39.9.59 1.41.59.51 0 1.02-.2 1.41-.59l7.78-7.78 2.81-2.81c.8-.78.8-2.07 0-2.86zM5.41 20L4 18.59l7.72-7.72 1.47 1.35L5.41 20z\"/>\n",
              "  </svg>\n",
              "      </button>\n",
              "      \n",
              "  <style>\n",
              "    .colab-df-container {\n",
              "      display:flex;\n",
              "      flex-wrap:wrap;\n",
              "      gap: 12px;\n",
              "    }\n",
              "\n",
              "    .colab-df-convert {\n",
              "      background-color: #E8F0FE;\n",
              "      border: none;\n",
              "      border-radius: 50%;\n",
              "      cursor: pointer;\n",
              "      display: none;\n",
              "      fill: #1967D2;\n",
              "      height: 32px;\n",
              "      padding: 0 0 0 0;\n",
              "      width: 32px;\n",
              "    }\n",
              "\n",
              "    .colab-df-convert:hover {\n",
              "      background-color: #E2EBFA;\n",
              "      box-shadow: 0px 1px 2px rgba(60, 64, 67, 0.3), 0px 1px 3px 1px rgba(60, 64, 67, 0.15);\n",
              "      fill: #174EA6;\n",
              "    }\n",
              "\n",
              "    [theme=dark] .colab-df-convert {\n",
              "      background-color: #3B4455;\n",
              "      fill: #D2E3FC;\n",
              "    }\n",
              "\n",
              "    [theme=dark] .colab-df-convert:hover {\n",
              "      background-color: #434B5C;\n",
              "      box-shadow: 0px 1px 3px 1px rgba(0, 0, 0, 0.15);\n",
              "      filter: drop-shadow(0px 1px 2px rgba(0, 0, 0, 0.3));\n",
              "      fill: #FFFFFF;\n",
              "    }\n",
              "  </style>\n",
              "\n",
              "      <script>\n",
              "        const buttonEl =\n",
              "          document.querySelector('#df-dabe0873-d295-46e4-a4b4-7e915fa3ac81 button.colab-df-convert');\n",
              "        buttonEl.style.display =\n",
              "          google.colab.kernel.accessAllowed ? 'block' : 'none';\n",
              "\n",
              "        async function convertToInteractive(key) {\n",
              "          const element = document.querySelector('#df-dabe0873-d295-46e4-a4b4-7e915fa3ac81');\n",
              "          const dataTable =\n",
              "            await google.colab.kernel.invokeFunction('convertToInteractive',\n",
              "                                                     [key], {});\n",
              "          if (!dataTable) return;\n",
              "\n",
              "          const docLinkHtml = 'Like what you see? Visit the ' +\n",
              "            '<a target=\"_blank\" href=https://colab.research.google.com/notebooks/data_table.ipynb>data table notebook</a>'\n",
              "            + ' to learn more about interactive tables.';\n",
              "          element.innerHTML = '';\n",
              "          dataTable['output_type'] = 'display_data';\n",
              "          await google.colab.output.renderOutput(dataTable, element);\n",
              "          const docLink = document.createElement('div');\n",
              "          docLink.innerHTML = docLinkHtml;\n",
              "          element.appendChild(docLink);\n",
              "        }\n",
              "      </script>\n",
              "    </div>\n",
              "  </div>\n",
              "  "
            ],
            "text/plain": [
              "   laptop_id company      product   typename  inches  \\\n",
              "0          1   Apple  MacBook Pro  Ultrabook    13.3   \n",
              "1          2   Apple  Macbook Air  Ultrabook    13.3   \n",
              "2          3      HP       250 G6   Notebook    15.6   \n",
              "3          4   Apple  MacBook Pro  Ultrabook    15.4   \n",
              "4          5   Apple  MacBook Pro  Ultrabook    13.3   \n",
              "\n",
              "                     screenresolution                         cpu   ram  \\\n",
              "0  IPS Panel Retina Display 2560x1600        Intel Core i5 2.3GHz   8GB   \n",
              "1                            1440x900        Intel Core i5 1.8GHz   8GB   \n",
              "2                   Full HD 1920x1080  Intel Core i5 7200U 2.5GHz   8GB   \n",
              "3  IPS Panel Retina Display 2880x1800        Intel Core i7 2.7GHz  16GB   \n",
              "4  IPS Panel Retina Display 2560x1600        Intel Core i5 3.1GHz   8GB   \n",
              "\n",
              "                memory                           gpu  opsys  weight    price  \n",
              "0            128GB SSD  Intel Iris Plus Graphics 640  macOS  1.37kg  1339.69  \n",
              "1  128GB Flash Storage        Intel HD Graphics 6000  macOS  1.34kg   898.94  \n",
              "2            256GB SSD         Intel HD Graphics 620  No OS  1.86kg   575.00  \n",
              "3            512GB SSD            AMD Radeon Pro 455  macOS  1.83kg  2537.45  \n",
              "4            256GB SSD  Intel Iris Plus Graphics 650  macOS  1.37kg  1803.60  "
            ]
          },
          "execution_count": 228,
          "metadata": {},
          "output_type": "execute_result"
        }
      ],
      "source": [
        "df.head()"
      ]
    },
    {
      "cell_type": "code",
      "execution_count": null,
      "metadata": {
        "colab": {
          "base_uri": "https://localhost:8080/"
        },
        "id": "chDKjBVeO4-1",
        "outputId": "88058bdd-fc04-4ee1-bedb-277e2de9f7dc"
      },
      "outputs": [
        {
          "name": "stdout",
          "output_type": "stream",
          "text": [
            "66\n"
          ]
        }
      ],
      "source": [
        "idx=0\n",
        "for laptop_id in df['laptop_id']:\n",
        "  if idx+1 != laptop_id:\n",
        "    print(laptop_id)\n",
        "    break\n",
        "  idx += 1"
      ]
    },
    {
      "cell_type": "code",
      "execution_count": null,
      "metadata": {
        "colab": {
          "base_uri": "https://localhost:8080/",
          "height": 81
        },
        "id": "k9QmRDFt8rzA",
        "outputId": "df10be00-1499-446a-b532-bd6c5081fb18"
      },
      "outputs": [
        {
          "data": {
            "text/html": [
              "\n",
              "  <div id=\"df-271dba28-e282-4449-a762-486bead46feb\">\n",
              "    <div class=\"colab-df-container\">\n",
              "      <div>\n",
              "<style scoped>\n",
              "    .dataframe tbody tr th:only-of-type {\n",
              "        vertical-align: middle;\n",
              "    }\n",
              "\n",
              "    .dataframe tbody tr th {\n",
              "        vertical-align: top;\n",
              "    }\n",
              "\n",
              "    .dataframe thead th {\n",
              "        text-align: right;\n",
              "    }\n",
              "</style>\n",
              "<table border=\"1\" class=\"dataframe\">\n",
              "  <thead>\n",
              "    <tr style=\"text-align: right;\">\n",
              "      <th></th>\n",
              "      <th>laptop_id</th>\n",
              "      <th>company</th>\n",
              "      <th>product</th>\n",
              "      <th>typename</th>\n",
              "      <th>inches</th>\n",
              "      <th>screenresolution</th>\n",
              "      <th>cpu</th>\n",
              "      <th>ram</th>\n",
              "      <th>memory</th>\n",
              "      <th>gpu</th>\n",
              "      <th>opsys</th>\n",
              "      <th>weight</th>\n",
              "      <th>price</th>\n",
              "    </tr>\n",
              "  </thead>\n",
              "  <tbody>\n",
              "    <tr>\n",
              "      <th>64</th>\n",
              "      <td>66</td>\n",
              "      <td>HP</td>\n",
              "      <td>250 G6</td>\n",
              "      <td>Notebook</td>\n",
              "      <td>15.6</td>\n",
              "      <td>Full HD 1920x1080</td>\n",
              "      <td>Intel Core i5 7200U 2.5GHz</td>\n",
              "      <td>8GB</td>\n",
              "      <td>256GB SSD</td>\n",
              "      <td>Intel HD Graphics 620</td>\n",
              "      <td>Windows 10</td>\n",
              "      <td>1.86kg</td>\n",
              "      <td>690.0</td>\n",
              "    </tr>\n",
              "  </tbody>\n",
              "</table>\n",
              "</div>\n",
              "      <button class=\"colab-df-convert\" onclick=\"convertToInteractive('df-271dba28-e282-4449-a762-486bead46feb')\"\n",
              "              title=\"Convert this dataframe to an interactive table.\"\n",
              "              style=\"display:none;\">\n",
              "        \n",
              "  <svg xmlns=\"http://www.w3.org/2000/svg\" height=\"24px\"viewBox=\"0 0 24 24\"\n",
              "       width=\"24px\">\n",
              "    <path d=\"M0 0h24v24H0V0z\" fill=\"none\"/>\n",
              "    <path d=\"M18.56 5.44l.94 2.06.94-2.06 2.06-.94-2.06-.94-.94-2.06-.94 2.06-2.06.94zm-11 1L8.5 8.5l.94-2.06 2.06-.94-2.06-.94L8.5 2.5l-.94 2.06-2.06.94zm10 10l.94 2.06.94-2.06 2.06-.94-2.06-.94-.94-2.06-.94 2.06-2.06.94z\"/><path d=\"M17.41 7.96l-1.37-1.37c-.4-.4-.92-.59-1.43-.59-.52 0-1.04.2-1.43.59L10.3 9.45l-7.72 7.72c-.78.78-.78 2.05 0 2.83L4 21.41c.39.39.9.59 1.41.59.51 0 1.02-.2 1.41-.59l7.78-7.78 2.81-2.81c.8-.78.8-2.07 0-2.86zM5.41 20L4 18.59l7.72-7.72 1.47 1.35L5.41 20z\"/>\n",
              "  </svg>\n",
              "      </button>\n",
              "      \n",
              "  <style>\n",
              "    .colab-df-container {\n",
              "      display:flex;\n",
              "      flex-wrap:wrap;\n",
              "      gap: 12px;\n",
              "    }\n",
              "\n",
              "    .colab-df-convert {\n",
              "      background-color: #E8F0FE;\n",
              "      border: none;\n",
              "      border-radius: 50%;\n",
              "      cursor: pointer;\n",
              "      display: none;\n",
              "      fill: #1967D2;\n",
              "      height: 32px;\n",
              "      padding: 0 0 0 0;\n",
              "      width: 32px;\n",
              "    }\n",
              "\n",
              "    .colab-df-convert:hover {\n",
              "      background-color: #E2EBFA;\n",
              "      box-shadow: 0px 1px 2px rgba(60, 64, 67, 0.3), 0px 1px 3px 1px rgba(60, 64, 67, 0.15);\n",
              "      fill: #174EA6;\n",
              "    }\n",
              "\n",
              "    [theme=dark] .colab-df-convert {\n",
              "      background-color: #3B4455;\n",
              "      fill: #D2E3FC;\n",
              "    }\n",
              "\n",
              "    [theme=dark] .colab-df-convert:hover {\n",
              "      background-color: #434B5C;\n",
              "      box-shadow: 0px 1px 3px 1px rgba(0, 0, 0, 0.15);\n",
              "      filter: drop-shadow(0px 1px 2px rgba(0, 0, 0, 0.3));\n",
              "      fill: #FFFFFF;\n",
              "    }\n",
              "  </style>\n",
              "\n",
              "      <script>\n",
              "        const buttonEl =\n",
              "          document.querySelector('#df-271dba28-e282-4449-a762-486bead46feb button.colab-df-convert');\n",
              "        buttonEl.style.display =\n",
              "          google.colab.kernel.accessAllowed ? 'block' : 'none';\n",
              "\n",
              "        async function convertToInteractive(key) {\n",
              "          const element = document.querySelector('#df-271dba28-e282-4449-a762-486bead46feb');\n",
              "          const dataTable =\n",
              "            await google.colab.kernel.invokeFunction('convertToInteractive',\n",
              "                                                     [key], {});\n",
              "          if (!dataTable) return;\n",
              "\n",
              "          const docLinkHtml = 'Like what you see? Visit the ' +\n",
              "            '<a target=\"_blank\" href=https://colab.research.google.com/notebooks/data_table.ipynb>data table notebook</a>'\n",
              "            + ' to learn more about interactive tables.';\n",
              "          element.innerHTML = '';\n",
              "          dataTable['output_type'] = 'display_data';\n",
              "          await google.colab.output.renderOutput(dataTable, element);\n",
              "          const docLink = document.createElement('div');\n",
              "          docLink.innerHTML = docLinkHtml;\n",
              "          element.appendChild(docLink);\n",
              "        }\n",
              "      </script>\n",
              "    </div>\n",
              "  </div>\n",
              "  "
            ],
            "text/plain": [
              "    laptop_id company product  typename  inches   screenresolution  \\\n",
              "64         66      HP  250 G6  Notebook    15.6  Full HD 1920x1080   \n",
              "\n",
              "                           cpu  ram     memory                    gpu  \\\n",
              "64  Intel Core i5 7200U 2.5GHz  8GB  256GB SSD  Intel HD Graphics 620   \n",
              "\n",
              "         opsys  weight  price  \n",
              "64  Windows 10  1.86kg  690.0  "
            ]
          },
          "execution_count": 230,
          "metadata": {},
          "output_type": "execute_result"
        }
      ],
      "source": [
        "# df[df['laptop_id'] == 66]\n",
        "df.loc[df['laptop_id']==66, :]"
      ]
    },
    {
      "cell_type": "markdown",
      "metadata": {
        "id": "VzQQNPk_xdWO"
      },
      "source": [
        "kita bisa drop 'laptop_id' karena kita gunakan index baris sebagai id, dan 'laptop_id' tidak mengandung informasi apa-apa"
      ]
    },
    {
      "cell_type": "code",
      "execution_count": null,
      "metadata": {
        "id": "1Oh1EvpQyrlZ"
      },
      "outputs": [],
      "source": [
        "df = df.drop('laptop_id', axis=1)"
      ]
    },
    {
      "cell_type": "markdown",
      "metadata": {
        "id": "5oBC4NqePbbd"
      },
      "source": [
        "## Screen Resolution"
      ]
    },
    {
      "cell_type": "code",
      "execution_count": null,
      "metadata": {
        "colab": {
          "base_uri": "https://localhost:8080/"
        },
        "id": "jsU2afsYkwuV",
        "outputId": "6443199c-3296-42e9-8c1f-484b2b681a69"
      },
      "outputs": [
        {
          "data": {
            "text/plain": [
              "0               IPS Panel Retina Display 2560x1600\n",
              "1                                         1440x900\n",
              "2                                Full HD 1920x1080\n",
              "3               IPS Panel Retina Display 2880x1800\n",
              "4               IPS Panel Retina Display 2560x1600\n",
              "                           ...                    \n",
              "1298     IPS Panel Full HD / Touchscreen 1920x1080\n",
              "1299    IPS Panel Quad HD+ / Touchscreen 3200x1800\n",
              "1300                                      1366x768\n",
              "1301                                      1366x768\n",
              "1302                                      1366x768\n",
              "Name: screenresolution, Length: 1303, dtype: object"
            ]
          },
          "execution_count": 232,
          "metadata": {},
          "output_type": "execute_result"
        }
      ],
      "source": [
        "df['screenresolution']"
      ]
    },
    {
      "cell_type": "markdown",
      "metadata": {
        "id": "x3dfZUiuyG2b"
      },
      "source": [
        "Breakdown informasi menjadi 3:\n",
        "* Screen type\n",
        "* Resolution\n",
        "* Touchscree( Yes/No or Boolean)\n",
        "\n",
        "Akan dipisahkan menjadi 3 kolom"
      ]
    },
    {
      "cell_type": "markdown",
      "metadata": {
        "id": "06mM0WDRQG90"
      },
      "source": [
        "### FE on Screen Resolution"
      ]
    },
    {
      "cell_type": "code",
      "execution_count": null,
      "metadata": {
        "colab": {
          "base_uri": "https://localhost:8080/"
        },
        "id": "zBsKCp3HDuKX",
        "outputId": "ca51276d-0f34-4286-babc-fe786ede5c33"
      },
      "outputs": [
        {
          "data": {
            "text/plain": [
              "0       2560x1600\n",
              "1        1440x900\n",
              "2       1920x1080\n",
              "3       2880x1800\n",
              "4       2560x1600\n",
              "          ...    \n",
              "1298    1920x1080\n",
              "1299    3200x1800\n",
              "1300     1366x768\n",
              "1301     1366x768\n",
              "1302     1366x768\n",
              "Name: resolution, Length: 1303, dtype: object"
            ]
          },
          "execution_count": 233,
          "metadata": {},
          "output_type": "execute_result"
        }
      ],
      "source": [
        "df['resolution'] = df['screenresolution'].str.extract(r'(\\d+x\\d+)')\n",
        "df['resolution']"
      ]
    },
    {
      "cell_type": "code",
      "execution_count": null,
      "metadata": {
        "colab": {
          "base_uri": "https://localhost:8080/"
        },
        "id": "bSGXJhXrDuHP",
        "outputId": "f48f4d8c-9817-486e-8fb3-40d7187d70af"
      },
      "outputs": [
        {
          "data": {
            "text/plain": [
              "0       IPS Panel Retina Display \n",
              "1                                \n",
              "2                                \n",
              "3       IPS Panel Retina Display \n",
              "4       IPS Panel Retina Display \n",
              "                  ...            \n",
              "1298     IPS Panel   Touchscreen \n",
              "1299     IPS Panel   Touchscreen \n",
              "1300                             \n",
              "1301                             \n",
              "1302                             \n",
              "Name: screentype, Length: 1303, dtype: object"
            ]
          },
          "execution_count": 234,
          "metadata": {},
          "output_type": "execute_result"
        }
      ],
      "source": [
        "df['screentype'] = df['screenresolution'].replace(r'(\\d+x\\d+)', '', regex=True)\n",
        "df['screentype'] = df['screentype'].replace(r'(Full HD|Quad HD|Quad HD|\\+|/|4K Ultra HD)','',regex=True)\n",
        "df['screentype']"
      ]
    },
    {
      "cell_type": "code",
      "execution_count": null,
      "metadata": {
        "id": "Qx1YznGiDuDv"
      },
      "outputs": [],
      "source": [
        "df['touchscreen'] = df['screentype'].str.extract(r'(Touchscreen)')\n",
        "df['screentype']  = df['screentype'].replace(r'(Touchscreen)','', regex=True)"
      ]
    },
    {
      "cell_type": "code",
      "execution_count": null,
      "metadata": {
        "colab": {
          "base_uri": "https://localhost:8080/"
        },
        "id": "PNbm_kcMICGH",
        "outputId": "ba636f76-ec3d-4a99-fa11-1e141f0513ca"
      },
      "outputs": [
        {
          "data": {
            "text/plain": [
              "Touchscreen    192\n",
              "Name: touchscreen, dtype: int64"
            ]
          },
          "execution_count": 236,
          "metadata": {},
          "output_type": "execute_result"
        }
      ],
      "source": [
        "df['touchscreen'].value_counts()"
      ]
    },
    {
      "cell_type": "code",
      "execution_count": null,
      "metadata": {
        "id": "DzH3IQyGHUgW"
      },
      "outputs": [],
      "source": [
        "df['touchscreen'] = df['touchscreen'].replace('Touchscreen', 1)\n",
        "df['touchscreen'] = df['touchscreen'].replace(np.nan, 0)"
      ]
    },
    {
      "cell_type": "code",
      "execution_count": null,
      "metadata": {
        "colab": {
          "base_uri": "https://localhost:8080/"
        },
        "id": "Z4MuaRSrHI60",
        "outputId": "08526aa7-e88d-480e-ebf2-3f5f049648e7"
      },
      "outputs": [
        {
          "data": {
            "text/plain": [
              "0.0    1111\n",
              "1.0     192\n",
              "Name: touchscreen, dtype: int64"
            ]
          },
          "execution_count": 238,
          "metadata": {},
          "output_type": "execute_result"
        }
      ],
      "source": [
        "df['touchscreen'].value_counts()"
      ]
    },
    {
      "cell_type": "code",
      "execution_count": null,
      "metadata": {
        "colab": {
          "base_uri": "https://localhost:8080/"
        },
        "id": "tmrSghl60Eb8",
        "outputId": "72d562f6-2cb1-4a1b-8e58-c294bb4b709f"
      },
      "outputs": [
        {
          "data": {
            "text/plain": [
              "                             549\n",
              "                             314\n",
              "IPS Panel                    265\n",
              "                              75\n",
              "IPS Panel                     72\n",
              "IPS Panel Retina Display      17\n",
              "IPS Panel                     11\n",
              "Name: screentype, dtype: int64"
            ]
          },
          "execution_count": 239,
          "metadata": {},
          "output_type": "execute_result"
        }
      ],
      "source": [
        "df['screentype'].value_counts(dropna=False)"
      ]
    },
    {
      "cell_type": "code",
      "execution_count": null,
      "metadata": {
        "colab": {
          "base_uri": "https://localhost:8080/"
        },
        "id": "fYZmIGWW0SMQ",
        "outputId": "0f749e85-c1c0-4e96-91ef-c647fc18e3a6"
      },
      "outputs": [
        {
          "data": {
            "text/plain": [
              "array(['IPS Panel Retina Display ', '', ' ', 'IPS Panel  ',\n",
              "       'IPS Panel    ', '   ', 'IPS Panel '], dtype=object)"
            ]
          },
          "execution_count": 240,
          "metadata": {},
          "output_type": "execute_result"
        }
      ],
      "source": [
        "df['screentype'].unique()"
      ]
    },
    {
      "cell_type": "code",
      "execution_count": null,
      "metadata": {
        "colab": {
          "base_uri": "https://localhost:8080/",
          "height": 424
        },
        "id": "Rar3sTdbHI38",
        "outputId": "f06a0f43-c289-43e7-aed7-1c2dfdb377e6"
      },
      "outputs": [
        {
          "data": {
            "text/html": [
              "\n",
              "  <div id=\"df-03a3cc02-7419-408d-a7f7-e38c28a6e628\">\n",
              "    <div class=\"colab-df-container\">\n",
              "      <div>\n",
              "<style scoped>\n",
              "    .dataframe tbody tr th:only-of-type {\n",
              "        vertical-align: middle;\n",
              "    }\n",
              "\n",
              "    .dataframe tbody tr th {\n",
              "        vertical-align: top;\n",
              "    }\n",
              "\n",
              "    .dataframe thead th {\n",
              "        text-align: right;\n",
              "    }\n",
              "</style>\n",
              "<table border=\"1\" class=\"dataframe\">\n",
              "  <thead>\n",
              "    <tr style=\"text-align: right;\">\n",
              "      <th></th>\n",
              "      <th>screentype</th>\n",
              "    </tr>\n",
              "  </thead>\n",
              "  <tbody>\n",
              "    <tr>\n",
              "      <th>23</th>\n",
              "      <td></td>\n",
              "    </tr>\n",
              "    <tr>\n",
              "      <th>33</th>\n",
              "      <td></td>\n",
              "    </tr>\n",
              "    <tr>\n",
              "      <th>44</th>\n",
              "      <td></td>\n",
              "    </tr>\n",
              "    <tr>\n",
              "      <th>111</th>\n",
              "      <td></td>\n",
              "    </tr>\n",
              "    <tr>\n",
              "      <th>157</th>\n",
              "      <td></td>\n",
              "    </tr>\n",
              "    <tr>\n",
              "      <th>...</th>\n",
              "      <td>...</td>\n",
              "    </tr>\n",
              "    <tr>\n",
              "      <th>1224</th>\n",
              "      <td></td>\n",
              "    </tr>\n",
              "    <tr>\n",
              "      <th>1226</th>\n",
              "      <td></td>\n",
              "    </tr>\n",
              "    <tr>\n",
              "      <th>1243</th>\n",
              "      <td></td>\n",
              "    </tr>\n",
              "    <tr>\n",
              "      <th>1249</th>\n",
              "      <td></td>\n",
              "    </tr>\n",
              "    <tr>\n",
              "      <th>1260</th>\n",
              "      <td></td>\n",
              "    </tr>\n",
              "  </tbody>\n",
              "</table>\n",
              "<p>75 rows × 1 columns</p>\n",
              "</div>\n",
              "      <button class=\"colab-df-convert\" onclick=\"convertToInteractive('df-03a3cc02-7419-408d-a7f7-e38c28a6e628')\"\n",
              "              title=\"Convert this dataframe to an interactive table.\"\n",
              "              style=\"display:none;\">\n",
              "        \n",
              "  <svg xmlns=\"http://www.w3.org/2000/svg\" height=\"24px\"viewBox=\"0 0 24 24\"\n",
              "       width=\"24px\">\n",
              "    <path d=\"M0 0h24v24H0V0z\" fill=\"none\"/>\n",
              "    <path d=\"M18.56 5.44l.94 2.06.94-2.06 2.06-.94-2.06-.94-.94-2.06-.94 2.06-2.06.94zm-11 1L8.5 8.5l.94-2.06 2.06-.94-2.06-.94L8.5 2.5l-.94 2.06-2.06.94zm10 10l.94 2.06.94-2.06 2.06-.94-2.06-.94-.94-2.06-.94 2.06-2.06.94z\"/><path d=\"M17.41 7.96l-1.37-1.37c-.4-.4-.92-.59-1.43-.59-.52 0-1.04.2-1.43.59L10.3 9.45l-7.72 7.72c-.78.78-.78 2.05 0 2.83L4 21.41c.39.39.9.59 1.41.59.51 0 1.02-.2 1.41-.59l7.78-7.78 2.81-2.81c.8-.78.8-2.07 0-2.86zM5.41 20L4 18.59l7.72-7.72 1.47 1.35L5.41 20z\"/>\n",
              "  </svg>\n",
              "      </button>\n",
              "      \n",
              "  <style>\n",
              "    .colab-df-container {\n",
              "      display:flex;\n",
              "      flex-wrap:wrap;\n",
              "      gap: 12px;\n",
              "    }\n",
              "\n",
              "    .colab-df-convert {\n",
              "      background-color: #E8F0FE;\n",
              "      border: none;\n",
              "      border-radius: 50%;\n",
              "      cursor: pointer;\n",
              "      display: none;\n",
              "      fill: #1967D2;\n",
              "      height: 32px;\n",
              "      padding: 0 0 0 0;\n",
              "      width: 32px;\n",
              "    }\n",
              "\n",
              "    .colab-df-convert:hover {\n",
              "      background-color: #E2EBFA;\n",
              "      box-shadow: 0px 1px 2px rgba(60, 64, 67, 0.3), 0px 1px 3px 1px rgba(60, 64, 67, 0.15);\n",
              "      fill: #174EA6;\n",
              "    }\n",
              "\n",
              "    [theme=dark] .colab-df-convert {\n",
              "      background-color: #3B4455;\n",
              "      fill: #D2E3FC;\n",
              "    }\n",
              "\n",
              "    [theme=dark] .colab-df-convert:hover {\n",
              "      background-color: #434B5C;\n",
              "      box-shadow: 0px 1px 3px 1px rgba(0, 0, 0, 0.15);\n",
              "      filter: drop-shadow(0px 1px 2px rgba(0, 0, 0, 0.3));\n",
              "      fill: #FFFFFF;\n",
              "    }\n",
              "  </style>\n",
              "\n",
              "      <script>\n",
              "        const buttonEl =\n",
              "          document.querySelector('#df-03a3cc02-7419-408d-a7f7-e38c28a6e628 button.colab-df-convert');\n",
              "        buttonEl.style.display =\n",
              "          google.colab.kernel.accessAllowed ? 'block' : 'none';\n",
              "\n",
              "        async function convertToInteractive(key) {\n",
              "          const element = document.querySelector('#df-03a3cc02-7419-408d-a7f7-e38c28a6e628');\n",
              "          const dataTable =\n",
              "            await google.colab.kernel.invokeFunction('convertToInteractive',\n",
              "                                                     [key], {});\n",
              "          if (!dataTable) return;\n",
              "\n",
              "          const docLinkHtml = 'Like what you see? Visit the ' +\n",
              "            '<a target=\"_blank\" href=https://colab.research.google.com/notebooks/data_table.ipynb>data table notebook</a>'\n",
              "            + ' to learn more about interactive tables.';\n",
              "          element.innerHTML = '';\n",
              "          dataTable['output_type'] = 'display_data';\n",
              "          await google.colab.output.renderOutput(dataTable, element);\n",
              "          const docLink = document.createElement('div');\n",
              "          docLink.innerHTML = docLinkHtml;\n",
              "          element.appendChild(docLink);\n",
              "        }\n",
              "      </script>\n",
              "    </div>\n",
              "  </div>\n",
              "  "
            ],
            "text/plain": [
              "     screentype\n",
              "23             \n",
              "33             \n",
              "44             \n",
              "111            \n",
              "157            \n",
              "...         ...\n",
              "1224           \n",
              "1226           \n",
              "1243           \n",
              "1249           \n",
              "1260           \n",
              "\n",
              "[75 rows x 1 columns]"
            ]
          },
          "execution_count": 241,
          "metadata": {},
          "output_type": "execute_result"
        }
      ],
      "source": [
        "# df.loc[df['screentype'] == '', ['screentype']]\n",
        "# df.loc[df['screentype'] == ' ', ['screentype']]\n",
        "df.loc[df['screentype'] == '   ', ['screentype']]"
      ]
    },
    {
      "cell_type": "code",
      "execution_count": null,
      "metadata": {
        "colab": {
          "base_uri": "https://localhost:8080/"
        },
        "id": "cSzTzn-cHI1F",
        "outputId": "088e0e08-a2ec-46fa-e288-19b9811cdf03"
      },
      "outputs": [
        {
          "data": {
            "text/plain": [
              "                         938\n",
              "IPSPanel                 348\n",
              "IPSPanelRetinaDisplay     17\n",
              "Name: screentype, dtype: int64"
            ]
          },
          "execution_count": 242,
          "metadata": {},
          "output_type": "execute_result"
        }
      ],
      "source": [
        "df['screentype']=df['screentype'].replace(r' ','',regex=True)\n",
        "df['screentype'].value_counts()"
      ]
    },
    {
      "cell_type": "code",
      "execution_count": null,
      "metadata": {
        "colab": {
          "base_uri": "https://localhost:8080/"
        },
        "id": "cj3JmEHCKU_q",
        "outputId": "1d386620-36b4-46f3-e988-b1993304d901"
      },
      "outputs": [
        {
          "data": {
            "text/plain": [
              "IPSPanel                 348\n",
              "IPSPanelRetinaDisplay     17\n",
              "Name: screentype, dtype: int64"
            ]
          },
          "execution_count": 243,
          "metadata": {},
          "output_type": "execute_result"
        }
      ],
      "source": [
        "df['screentype'] = df['screentype'].replace(r'^\\s*$', np.nan, regex=True)\n",
        "df['screentype'].value_counts()"
      ]
    },
    {
      "cell_type": "code",
      "execution_count": null,
      "metadata": {
        "colab": {
          "base_uri": "https://localhost:8080/"
        },
        "id": "sKQKxZY4KU74",
        "outputId": "ae06cc2f-550f-4d4b-cc1f-a21c09765790"
      },
      "outputs": [
        {
          "data": {
            "text/plain": [
              "NaN                      938\n",
              "IPSPanel                 348\n",
              "IPSPanelRetinaDisplay     17\n",
              "Name: screentype, dtype: int64"
            ]
          },
          "execution_count": 244,
          "metadata": {},
          "output_type": "execute_result"
        }
      ],
      "source": [
        "df['screentype'].value_counts(dropna=False)"
      ]
    },
    {
      "cell_type": "code",
      "execution_count": null,
      "metadata": {
        "id": "zDwNBsUm1mzN"
      },
      "outputs": [],
      "source": [
        "df = df.drop('screenresolution', axis=1)"
      ]
    },
    {
      "cell_type": "code",
      "execution_count": null,
      "metadata": {
        "colab": {
          "base_uri": "https://localhost:8080/",
          "height": 206
        },
        "id": "8gUH592f1omW",
        "outputId": "f420de75-3c3e-4b2f-e323-950840b9e5df"
      },
      "outputs": [
        {
          "data": {
            "text/html": [
              "\n",
              "  <div id=\"df-ac4ea785-dbd4-458f-bf80-caaa130cb06b\">\n",
              "    <div class=\"colab-df-container\">\n",
              "      <div>\n",
              "<style scoped>\n",
              "    .dataframe tbody tr th:only-of-type {\n",
              "        vertical-align: middle;\n",
              "    }\n",
              "\n",
              "    .dataframe tbody tr th {\n",
              "        vertical-align: top;\n",
              "    }\n",
              "\n",
              "    .dataframe thead th {\n",
              "        text-align: right;\n",
              "    }\n",
              "</style>\n",
              "<table border=\"1\" class=\"dataframe\">\n",
              "  <thead>\n",
              "    <tr style=\"text-align: right;\">\n",
              "      <th></th>\n",
              "      <th>company</th>\n",
              "      <th>product</th>\n",
              "      <th>typename</th>\n",
              "      <th>inches</th>\n",
              "      <th>cpu</th>\n",
              "      <th>ram</th>\n",
              "      <th>memory</th>\n",
              "      <th>gpu</th>\n",
              "      <th>opsys</th>\n",
              "      <th>weight</th>\n",
              "      <th>price</th>\n",
              "      <th>resolution</th>\n",
              "      <th>screentype</th>\n",
              "      <th>touchscreen</th>\n",
              "    </tr>\n",
              "  </thead>\n",
              "  <tbody>\n",
              "    <tr>\n",
              "      <th>0</th>\n",
              "      <td>Apple</td>\n",
              "      <td>MacBook Pro</td>\n",
              "      <td>Ultrabook</td>\n",
              "      <td>13.3</td>\n",
              "      <td>Intel Core i5 2.3GHz</td>\n",
              "      <td>8GB</td>\n",
              "      <td>128GB SSD</td>\n",
              "      <td>Intel Iris Plus Graphics 640</td>\n",
              "      <td>macOS</td>\n",
              "      <td>1.37kg</td>\n",
              "      <td>1339.69</td>\n",
              "      <td>2560x1600</td>\n",
              "      <td>IPSPanelRetinaDisplay</td>\n",
              "      <td>0.0</td>\n",
              "    </tr>\n",
              "    <tr>\n",
              "      <th>1</th>\n",
              "      <td>Apple</td>\n",
              "      <td>Macbook Air</td>\n",
              "      <td>Ultrabook</td>\n",
              "      <td>13.3</td>\n",
              "      <td>Intel Core i5 1.8GHz</td>\n",
              "      <td>8GB</td>\n",
              "      <td>128GB Flash Storage</td>\n",
              "      <td>Intel HD Graphics 6000</td>\n",
              "      <td>macOS</td>\n",
              "      <td>1.34kg</td>\n",
              "      <td>898.94</td>\n",
              "      <td>1440x900</td>\n",
              "      <td>NaN</td>\n",
              "      <td>0.0</td>\n",
              "    </tr>\n",
              "    <tr>\n",
              "      <th>2</th>\n",
              "      <td>HP</td>\n",
              "      <td>250 G6</td>\n",
              "      <td>Notebook</td>\n",
              "      <td>15.6</td>\n",
              "      <td>Intel Core i5 7200U 2.5GHz</td>\n",
              "      <td>8GB</td>\n",
              "      <td>256GB SSD</td>\n",
              "      <td>Intel HD Graphics 620</td>\n",
              "      <td>No OS</td>\n",
              "      <td>1.86kg</td>\n",
              "      <td>575.00</td>\n",
              "      <td>1920x1080</td>\n",
              "      <td>NaN</td>\n",
              "      <td>0.0</td>\n",
              "    </tr>\n",
              "    <tr>\n",
              "      <th>3</th>\n",
              "      <td>Apple</td>\n",
              "      <td>MacBook Pro</td>\n",
              "      <td>Ultrabook</td>\n",
              "      <td>15.4</td>\n",
              "      <td>Intel Core i7 2.7GHz</td>\n",
              "      <td>16GB</td>\n",
              "      <td>512GB SSD</td>\n",
              "      <td>AMD Radeon Pro 455</td>\n",
              "      <td>macOS</td>\n",
              "      <td>1.83kg</td>\n",
              "      <td>2537.45</td>\n",
              "      <td>2880x1800</td>\n",
              "      <td>IPSPanelRetinaDisplay</td>\n",
              "      <td>0.0</td>\n",
              "    </tr>\n",
              "    <tr>\n",
              "      <th>4</th>\n",
              "      <td>Apple</td>\n",
              "      <td>MacBook Pro</td>\n",
              "      <td>Ultrabook</td>\n",
              "      <td>13.3</td>\n",
              "      <td>Intel Core i5 3.1GHz</td>\n",
              "      <td>8GB</td>\n",
              "      <td>256GB SSD</td>\n",
              "      <td>Intel Iris Plus Graphics 650</td>\n",
              "      <td>macOS</td>\n",
              "      <td>1.37kg</td>\n",
              "      <td>1803.60</td>\n",
              "      <td>2560x1600</td>\n",
              "      <td>IPSPanelRetinaDisplay</td>\n",
              "      <td>0.0</td>\n",
              "    </tr>\n",
              "  </tbody>\n",
              "</table>\n",
              "</div>\n",
              "      <button class=\"colab-df-convert\" onclick=\"convertToInteractive('df-ac4ea785-dbd4-458f-bf80-caaa130cb06b')\"\n",
              "              title=\"Convert this dataframe to an interactive table.\"\n",
              "              style=\"display:none;\">\n",
              "        \n",
              "  <svg xmlns=\"http://www.w3.org/2000/svg\" height=\"24px\"viewBox=\"0 0 24 24\"\n",
              "       width=\"24px\">\n",
              "    <path d=\"M0 0h24v24H0V0z\" fill=\"none\"/>\n",
              "    <path d=\"M18.56 5.44l.94 2.06.94-2.06 2.06-.94-2.06-.94-.94-2.06-.94 2.06-2.06.94zm-11 1L8.5 8.5l.94-2.06 2.06-.94-2.06-.94L8.5 2.5l-.94 2.06-2.06.94zm10 10l.94 2.06.94-2.06 2.06-.94-2.06-.94-.94-2.06-.94 2.06-2.06.94z\"/><path d=\"M17.41 7.96l-1.37-1.37c-.4-.4-.92-.59-1.43-.59-.52 0-1.04.2-1.43.59L10.3 9.45l-7.72 7.72c-.78.78-.78 2.05 0 2.83L4 21.41c.39.39.9.59 1.41.59.51 0 1.02-.2 1.41-.59l7.78-7.78 2.81-2.81c.8-.78.8-2.07 0-2.86zM5.41 20L4 18.59l7.72-7.72 1.47 1.35L5.41 20z\"/>\n",
              "  </svg>\n",
              "      </button>\n",
              "      \n",
              "  <style>\n",
              "    .colab-df-container {\n",
              "      display:flex;\n",
              "      flex-wrap:wrap;\n",
              "      gap: 12px;\n",
              "    }\n",
              "\n",
              "    .colab-df-convert {\n",
              "      background-color: #E8F0FE;\n",
              "      border: none;\n",
              "      border-radius: 50%;\n",
              "      cursor: pointer;\n",
              "      display: none;\n",
              "      fill: #1967D2;\n",
              "      height: 32px;\n",
              "      padding: 0 0 0 0;\n",
              "      width: 32px;\n",
              "    }\n",
              "\n",
              "    .colab-df-convert:hover {\n",
              "      background-color: #E2EBFA;\n",
              "      box-shadow: 0px 1px 2px rgba(60, 64, 67, 0.3), 0px 1px 3px 1px rgba(60, 64, 67, 0.15);\n",
              "      fill: #174EA6;\n",
              "    }\n",
              "\n",
              "    [theme=dark] .colab-df-convert {\n",
              "      background-color: #3B4455;\n",
              "      fill: #D2E3FC;\n",
              "    }\n",
              "\n",
              "    [theme=dark] .colab-df-convert:hover {\n",
              "      background-color: #434B5C;\n",
              "      box-shadow: 0px 1px 3px 1px rgba(0, 0, 0, 0.15);\n",
              "      filter: drop-shadow(0px 1px 2px rgba(0, 0, 0, 0.3));\n",
              "      fill: #FFFFFF;\n",
              "    }\n",
              "  </style>\n",
              "\n",
              "      <script>\n",
              "        const buttonEl =\n",
              "          document.querySelector('#df-ac4ea785-dbd4-458f-bf80-caaa130cb06b button.colab-df-convert');\n",
              "        buttonEl.style.display =\n",
              "          google.colab.kernel.accessAllowed ? 'block' : 'none';\n",
              "\n",
              "        async function convertToInteractive(key) {\n",
              "          const element = document.querySelector('#df-ac4ea785-dbd4-458f-bf80-caaa130cb06b');\n",
              "          const dataTable =\n",
              "            await google.colab.kernel.invokeFunction('convertToInteractive',\n",
              "                                                     [key], {});\n",
              "          if (!dataTable) return;\n",
              "\n",
              "          const docLinkHtml = 'Like what you see? Visit the ' +\n",
              "            '<a target=\"_blank\" href=https://colab.research.google.com/notebooks/data_table.ipynb>data table notebook</a>'\n",
              "            + ' to learn more about interactive tables.';\n",
              "          element.innerHTML = '';\n",
              "          dataTable['output_type'] = 'display_data';\n",
              "          await google.colab.output.renderOutput(dataTable, element);\n",
              "          const docLink = document.createElement('div');\n",
              "          docLink.innerHTML = docLinkHtml;\n",
              "          element.appendChild(docLink);\n",
              "        }\n",
              "      </script>\n",
              "    </div>\n",
              "  </div>\n",
              "  "
            ],
            "text/plain": [
              "  company      product   typename  inches                         cpu   ram  \\\n",
              "0   Apple  MacBook Pro  Ultrabook    13.3        Intel Core i5 2.3GHz   8GB   \n",
              "1   Apple  Macbook Air  Ultrabook    13.3        Intel Core i5 1.8GHz   8GB   \n",
              "2      HP       250 G6   Notebook    15.6  Intel Core i5 7200U 2.5GHz   8GB   \n",
              "3   Apple  MacBook Pro  Ultrabook    15.4        Intel Core i7 2.7GHz  16GB   \n",
              "4   Apple  MacBook Pro  Ultrabook    13.3        Intel Core i5 3.1GHz   8GB   \n",
              "\n",
              "                memory                           gpu  opsys  weight    price  \\\n",
              "0            128GB SSD  Intel Iris Plus Graphics 640  macOS  1.37kg  1339.69   \n",
              "1  128GB Flash Storage        Intel HD Graphics 6000  macOS  1.34kg   898.94   \n",
              "2            256GB SSD         Intel HD Graphics 620  No OS  1.86kg   575.00   \n",
              "3            512GB SSD            AMD Radeon Pro 455  macOS  1.83kg  2537.45   \n",
              "4            256GB SSD  Intel Iris Plus Graphics 650  macOS  1.37kg  1803.60   \n",
              "\n",
              "  resolution             screentype  touchscreen  \n",
              "0  2560x1600  IPSPanelRetinaDisplay          0.0  \n",
              "1   1440x900                    NaN          0.0  \n",
              "2  1920x1080                    NaN          0.0  \n",
              "3  2880x1800  IPSPanelRetinaDisplay          0.0  \n",
              "4  2560x1600  IPSPanelRetinaDisplay          0.0  "
            ]
          },
          "execution_count": 246,
          "metadata": {},
          "output_type": "execute_result"
        }
      ],
      "source": [
        "df.head()"
      ]
    },
    {
      "cell_type": "markdown",
      "metadata": {
        "id": "NFImSEWTPkMD"
      },
      "source": [
        "## CPU"
      ]
    },
    {
      "cell_type": "code",
      "execution_count": null,
      "metadata": {
        "colab": {
          "base_uri": "https://localhost:8080/"
        },
        "id": "kKsfjqtRO6Dq",
        "outputId": "9b1260d0-7442-4981-96e8-4eb762f9966d"
      },
      "outputs": [
        {
          "data": {
            "text/plain": [
              "0                       Intel Core i5 2.3GHz\n",
              "1                       Intel Core i5 1.8GHz\n",
              "2                 Intel Core i5 7200U 2.5GHz\n",
              "3                       Intel Core i7 2.7GHz\n",
              "4                       Intel Core i5 3.1GHz\n",
              "                        ...                 \n",
              "1298              Intel Core i7 6500U 2.5GHz\n",
              "1299              Intel Core i7 6500U 2.5GHz\n",
              "1300    Intel Celeron Dual Core N3050 1.6GHz\n",
              "1301              Intel Core i7 6500U 2.5GHz\n",
              "1302    Intel Celeron Dual Core N3050 1.6GHz\n",
              "Name: cpu, Length: 1303, dtype: object"
            ]
          },
          "execution_count": 247,
          "metadata": {},
          "output_type": "execute_result"
        }
      ],
      "source": [
        "df['cpu']"
      ]
    },
    {
      "cell_type": "code",
      "execution_count": null,
      "metadata": {
        "colab": {
          "base_uri": "https://localhost:8080/"
        },
        "id": "_HYYe6Mvk96b",
        "outputId": "6b74da6b-0728-45ad-a2c7-daf15c99cadb"
      },
      "outputs": [
        {
          "data": {
            "text/plain": [
              "Intel Core i5 7200U 2.5GHz       190\n",
              "Intel Core i7 7700HQ 2.8GHz      146\n",
              "Intel Core i7 7500U 2.7GHz       134\n",
              "Intel Core i7 8550U 1.8GHz        73\n",
              "Intel Core i5 8250U 1.6GHz        72\n",
              "                                ... \n",
              "Intel Core M M3-6Y30 0.9GHz        1\n",
              "AMD A9-Series 9420 2.9GHz          1\n",
              "Intel Core i3 6006U 2.2GHz         1\n",
              "AMD A6-Series 7310 2GHz            1\n",
              "Intel Xeon E3-1535M v6 3.1GHz      1\n",
              "Name: cpu, Length: 118, dtype: int64"
            ]
          },
          "execution_count": 248,
          "metadata": {},
          "output_type": "execute_result"
        }
      ],
      "source": [
        "df['cpu'].value_counts(dropna=False)"
      ]
    },
    {
      "cell_type": "code",
      "execution_count": null,
      "metadata": {
        "id": "FXye26vc2PPs"
      },
      "outputs": [],
      "source": [
        "df['cpu_freq'] = df['cpu'].str.extract(r'(\\d+(?:\\.\\d+)?GHz)')"
      ]
    },
    {
      "cell_type": "code",
      "execution_count": null,
      "metadata": {
        "colab": {
          "base_uri": "https://localhost:8080/"
        },
        "id": "hIywC8EJ2h4g",
        "outputId": "9836ea52-9461-4e29-c74f-ba0a441ff2de"
      },
      "outputs": [
        {
          "data": {
            "text/plain": [
              "0    2.3GHz\n",
              "1    1.8GHz\n",
              "2    2.5GHz\n",
              "3    2.7GHz\n",
              "4    3.1GHz\n",
              "Name: cpu_freq, dtype: object"
            ]
          },
          "execution_count": 250,
          "metadata": {},
          "output_type": "execute_result"
        }
      ],
      "source": [
        "df['cpu_freq'].head()"
      ]
    },
    {
      "cell_type": "code",
      "execution_count": null,
      "metadata": {
        "colab": {
          "base_uri": "https://localhost:8080/"
        },
        "id": "gWY4GoSz2m7W",
        "outputId": "cc6558ca-27a0-4d1a-9b28-0067fa3a7991"
      },
      "outputs": [
        {
          "data": {
            "text/plain": [
              "2.5GHz     290\n",
              "2.7GHz     165\n",
              "2.8GHz     165\n",
              "1.6GHz     133\n",
              "2.3GHz      86\n",
              "1.8GHz      78\n",
              "2.6GHz      76\n",
              "2GHz        67\n",
              "1.1GHz      53\n",
              "2.4GHz      52\n",
              "2.9GHz      21\n",
              "3GHz        19\n",
              "2.0GHz      19\n",
              "1.2GHz      15\n",
              "1.44GHz     12\n",
              "2.2GHz      11\n",
              "1.5GHz      10\n",
              "1.3GHz       6\n",
              "3.6GHz       5\n",
              "0.9GHz       4\n",
              "3.1GHz       3\n",
              "2.1GHz       3\n",
              "2.50GHz      3\n",
              "1.9GHz       2\n",
              "1.60GHz      1\n",
              "3.2GHz       1\n",
              "1.0GHz       1\n",
              "1.92GHz      1\n",
              "2.70GHz      1\n",
              "Name: cpu_freq, dtype: int64"
            ]
          },
          "execution_count": 251,
          "metadata": {},
          "output_type": "execute_result"
        }
      ],
      "source": [
        "df['cpu_freq'].value_counts()"
      ]
    },
    {
      "cell_type": "code",
      "execution_count": null,
      "metadata": {
        "id": "mVWU33oUk934"
      },
      "outputs": [],
      "source": [
        "df['cpu_freq'] = df['cpu_freq'].str.replace('GHz', '')\n",
        "df.rename(columns={'cpu_freq': 'cpu_freq(GHz)'}, inplace=True)"
      ]
    },
    {
      "cell_type": "code",
      "execution_count": null,
      "metadata": {
        "id": "3FZayt5y20qa"
      },
      "outputs": [],
      "source": [
        "df['cpu_freq(GHz)'] = df['cpu_freq(GHz)'].astype(float)"
      ]
    },
    {
      "cell_type": "code",
      "execution_count": null,
      "metadata": {
        "colab": {
          "base_uri": "https://localhost:8080/",
          "height": 206
        },
        "id": "oCgzN0eO20vM",
        "outputId": "8a0d4954-01b0-4f05-e2b8-d5a8896f62ba"
      },
      "outputs": [
        {
          "data": {
            "text/html": [
              "\n",
              "  <div id=\"df-e897e41c-5fac-456e-86fd-a32c70a7d8e0\">\n",
              "    <div class=\"colab-df-container\">\n",
              "      <div>\n",
              "<style scoped>\n",
              "    .dataframe tbody tr th:only-of-type {\n",
              "        vertical-align: middle;\n",
              "    }\n",
              "\n",
              "    .dataframe tbody tr th {\n",
              "        vertical-align: top;\n",
              "    }\n",
              "\n",
              "    .dataframe thead th {\n",
              "        text-align: right;\n",
              "    }\n",
              "</style>\n",
              "<table border=\"1\" class=\"dataframe\">\n",
              "  <thead>\n",
              "    <tr style=\"text-align: right;\">\n",
              "      <th></th>\n",
              "      <th>company</th>\n",
              "      <th>product</th>\n",
              "      <th>typename</th>\n",
              "      <th>inches</th>\n",
              "      <th>cpu</th>\n",
              "      <th>ram</th>\n",
              "      <th>memory</th>\n",
              "      <th>gpu</th>\n",
              "      <th>opsys</th>\n",
              "      <th>weight</th>\n",
              "      <th>price</th>\n",
              "      <th>resolution</th>\n",
              "      <th>screentype</th>\n",
              "      <th>touchscreen</th>\n",
              "      <th>cpu_freq(GHz)</th>\n",
              "    </tr>\n",
              "  </thead>\n",
              "  <tbody>\n",
              "    <tr>\n",
              "      <th>0</th>\n",
              "      <td>Apple</td>\n",
              "      <td>MacBook Pro</td>\n",
              "      <td>Ultrabook</td>\n",
              "      <td>13.3</td>\n",
              "      <td>Intel Core i5</td>\n",
              "      <td>8GB</td>\n",
              "      <td>128GB SSD</td>\n",
              "      <td>Intel Iris Plus Graphics 640</td>\n",
              "      <td>macOS</td>\n",
              "      <td>1.37kg</td>\n",
              "      <td>1339.69</td>\n",
              "      <td>2560x1600</td>\n",
              "      <td>IPSPanelRetinaDisplay</td>\n",
              "      <td>0.0</td>\n",
              "      <td>2.3</td>\n",
              "    </tr>\n",
              "    <tr>\n",
              "      <th>1</th>\n",
              "      <td>Apple</td>\n",
              "      <td>Macbook Air</td>\n",
              "      <td>Ultrabook</td>\n",
              "      <td>13.3</td>\n",
              "      <td>Intel Core i5</td>\n",
              "      <td>8GB</td>\n",
              "      <td>128GB Flash Storage</td>\n",
              "      <td>Intel HD Graphics 6000</td>\n",
              "      <td>macOS</td>\n",
              "      <td>1.34kg</td>\n",
              "      <td>898.94</td>\n",
              "      <td>1440x900</td>\n",
              "      <td>NaN</td>\n",
              "      <td>0.0</td>\n",
              "      <td>1.8</td>\n",
              "    </tr>\n",
              "    <tr>\n",
              "      <th>2</th>\n",
              "      <td>HP</td>\n",
              "      <td>250 G6</td>\n",
              "      <td>Notebook</td>\n",
              "      <td>15.6</td>\n",
              "      <td>Intel Core i5 7200U</td>\n",
              "      <td>8GB</td>\n",
              "      <td>256GB SSD</td>\n",
              "      <td>Intel HD Graphics 620</td>\n",
              "      <td>No OS</td>\n",
              "      <td>1.86kg</td>\n",
              "      <td>575.00</td>\n",
              "      <td>1920x1080</td>\n",
              "      <td>NaN</td>\n",
              "      <td>0.0</td>\n",
              "      <td>2.5</td>\n",
              "    </tr>\n",
              "    <tr>\n",
              "      <th>3</th>\n",
              "      <td>Apple</td>\n",
              "      <td>MacBook Pro</td>\n",
              "      <td>Ultrabook</td>\n",
              "      <td>15.4</td>\n",
              "      <td>Intel Core i7</td>\n",
              "      <td>16GB</td>\n",
              "      <td>512GB SSD</td>\n",
              "      <td>AMD Radeon Pro 455</td>\n",
              "      <td>macOS</td>\n",
              "      <td>1.83kg</td>\n",
              "      <td>2537.45</td>\n",
              "      <td>2880x1800</td>\n",
              "      <td>IPSPanelRetinaDisplay</td>\n",
              "      <td>0.0</td>\n",
              "      <td>2.7</td>\n",
              "    </tr>\n",
              "    <tr>\n",
              "      <th>4</th>\n",
              "      <td>Apple</td>\n",
              "      <td>MacBook Pro</td>\n",
              "      <td>Ultrabook</td>\n",
              "      <td>13.3</td>\n",
              "      <td>Intel Core i5</td>\n",
              "      <td>8GB</td>\n",
              "      <td>256GB SSD</td>\n",
              "      <td>Intel Iris Plus Graphics 650</td>\n",
              "      <td>macOS</td>\n",
              "      <td>1.37kg</td>\n",
              "      <td>1803.60</td>\n",
              "      <td>2560x1600</td>\n",
              "      <td>IPSPanelRetinaDisplay</td>\n",
              "      <td>0.0</td>\n",
              "      <td>3.1</td>\n",
              "    </tr>\n",
              "  </tbody>\n",
              "</table>\n",
              "</div>\n",
              "      <button class=\"colab-df-convert\" onclick=\"convertToInteractive('df-e897e41c-5fac-456e-86fd-a32c70a7d8e0')\"\n",
              "              title=\"Convert this dataframe to an interactive table.\"\n",
              "              style=\"display:none;\">\n",
              "        \n",
              "  <svg xmlns=\"http://www.w3.org/2000/svg\" height=\"24px\"viewBox=\"0 0 24 24\"\n",
              "       width=\"24px\">\n",
              "    <path d=\"M0 0h24v24H0V0z\" fill=\"none\"/>\n",
              "    <path d=\"M18.56 5.44l.94 2.06.94-2.06 2.06-.94-2.06-.94-.94-2.06-.94 2.06-2.06.94zm-11 1L8.5 8.5l.94-2.06 2.06-.94-2.06-.94L8.5 2.5l-.94 2.06-2.06.94zm10 10l.94 2.06.94-2.06 2.06-.94-2.06-.94-.94-2.06-.94 2.06-2.06.94z\"/><path d=\"M17.41 7.96l-1.37-1.37c-.4-.4-.92-.59-1.43-.59-.52 0-1.04.2-1.43.59L10.3 9.45l-7.72 7.72c-.78.78-.78 2.05 0 2.83L4 21.41c.39.39.9.59 1.41.59.51 0 1.02-.2 1.41-.59l7.78-7.78 2.81-2.81c.8-.78.8-2.07 0-2.86zM5.41 20L4 18.59l7.72-7.72 1.47 1.35L5.41 20z\"/>\n",
              "  </svg>\n",
              "      </button>\n",
              "      \n",
              "  <style>\n",
              "    .colab-df-container {\n",
              "      display:flex;\n",
              "      flex-wrap:wrap;\n",
              "      gap: 12px;\n",
              "    }\n",
              "\n",
              "    .colab-df-convert {\n",
              "      background-color: #E8F0FE;\n",
              "      border: none;\n",
              "      border-radius: 50%;\n",
              "      cursor: pointer;\n",
              "      display: none;\n",
              "      fill: #1967D2;\n",
              "      height: 32px;\n",
              "      padding: 0 0 0 0;\n",
              "      width: 32px;\n",
              "    }\n",
              "\n",
              "    .colab-df-convert:hover {\n",
              "      background-color: #E2EBFA;\n",
              "      box-shadow: 0px 1px 2px rgba(60, 64, 67, 0.3), 0px 1px 3px 1px rgba(60, 64, 67, 0.15);\n",
              "      fill: #174EA6;\n",
              "    }\n",
              "\n",
              "    [theme=dark] .colab-df-convert {\n",
              "      background-color: #3B4455;\n",
              "      fill: #D2E3FC;\n",
              "    }\n",
              "\n",
              "    [theme=dark] .colab-df-convert:hover {\n",
              "      background-color: #434B5C;\n",
              "      box-shadow: 0px 1px 3px 1px rgba(0, 0, 0, 0.15);\n",
              "      filter: drop-shadow(0px 1px 2px rgba(0, 0, 0, 0.3));\n",
              "      fill: #FFFFFF;\n",
              "    }\n",
              "  </style>\n",
              "\n",
              "      <script>\n",
              "        const buttonEl =\n",
              "          document.querySelector('#df-e897e41c-5fac-456e-86fd-a32c70a7d8e0 button.colab-df-convert');\n",
              "        buttonEl.style.display =\n",
              "          google.colab.kernel.accessAllowed ? 'block' : 'none';\n",
              "\n",
              "        async function convertToInteractive(key) {\n",
              "          const element = document.querySelector('#df-e897e41c-5fac-456e-86fd-a32c70a7d8e0');\n",
              "          const dataTable =\n",
              "            await google.colab.kernel.invokeFunction('convertToInteractive',\n",
              "                                                     [key], {});\n",
              "          if (!dataTable) return;\n",
              "\n",
              "          const docLinkHtml = 'Like what you see? Visit the ' +\n",
              "            '<a target=\"_blank\" href=https://colab.research.google.com/notebooks/data_table.ipynb>data table notebook</a>'\n",
              "            + ' to learn more about interactive tables.';\n",
              "          element.innerHTML = '';\n",
              "          dataTable['output_type'] = 'display_data';\n",
              "          await google.colab.output.renderOutput(dataTable, element);\n",
              "          const docLink = document.createElement('div');\n",
              "          docLink.innerHTML = docLinkHtml;\n",
              "          element.appendChild(docLink);\n",
              "        }\n",
              "      </script>\n",
              "    </div>\n",
              "  </div>\n",
              "  "
            ],
            "text/plain": [
              "  company      product   typename  inches                   cpu   ram  \\\n",
              "0   Apple  MacBook Pro  Ultrabook    13.3        Intel Core i5    8GB   \n",
              "1   Apple  Macbook Air  Ultrabook    13.3        Intel Core i5    8GB   \n",
              "2      HP       250 G6   Notebook    15.6  Intel Core i5 7200U    8GB   \n",
              "3   Apple  MacBook Pro  Ultrabook    15.4        Intel Core i7   16GB   \n",
              "4   Apple  MacBook Pro  Ultrabook    13.3        Intel Core i5    8GB   \n",
              "\n",
              "                memory                           gpu  opsys  weight    price  \\\n",
              "0            128GB SSD  Intel Iris Plus Graphics 640  macOS  1.37kg  1339.69   \n",
              "1  128GB Flash Storage        Intel HD Graphics 6000  macOS  1.34kg   898.94   \n",
              "2            256GB SSD         Intel HD Graphics 620  No OS  1.86kg   575.00   \n",
              "3            512GB SSD            AMD Radeon Pro 455  macOS  1.83kg  2537.45   \n",
              "4            256GB SSD  Intel Iris Plus Graphics 650  macOS  1.37kg  1803.60   \n",
              "\n",
              "  resolution             screentype  touchscreen  cpu_freq(GHz)  \n",
              "0  2560x1600  IPSPanelRetinaDisplay          0.0            2.3  \n",
              "1   1440x900                    NaN          0.0            1.8  \n",
              "2  1920x1080                    NaN          0.0            2.5  \n",
              "3  2880x1800  IPSPanelRetinaDisplay          0.0            2.7  \n",
              "4  2560x1600  IPSPanelRetinaDisplay          0.0            3.1  "
            ]
          },
          "execution_count": 254,
          "metadata": {},
          "output_type": "execute_result"
        }
      ],
      "source": [
        "df['cpu']= df['cpu'].str.replace(r'(\\d+(?:\\.\\d+)?GHz)', '', regex=True)\n",
        "\n",
        "df.head()"
      ]
    },
    {
      "cell_type": "code",
      "execution_count": null,
      "metadata": {
        "colab": {
          "base_uri": "https://localhost:8080/"
        },
        "id": "REuXb0-u3Wd0",
        "outputId": "aedc9efe-0262-45f5-ee35-2b14d1669098"
      },
      "outputs": [
        {
          "data": {
            "text/plain": [
              "0                       Intel Core i5 \n",
              "1                       Intel Core i5 \n",
              "2                 Intel Core i5 7200U \n",
              "3                       Intel Core i7 \n",
              "4                       Intel Core i5 \n",
              "                     ...              \n",
              "1298              Intel Core i7 6500U \n",
              "1299              Intel Core i7 6500U \n",
              "1300    Intel Celeron Dual Core N3050 \n",
              "1301              Intel Core i7 6500U \n",
              "1302    Intel Celeron Dual Core N3050 \n",
              "Name: cpu, Length: 1303, dtype: object"
            ]
          },
          "execution_count": 255,
          "metadata": {},
          "output_type": "execute_result"
        }
      ],
      "source": [
        "df['cpu']"
      ]
    },
    {
      "cell_type": "markdown",
      "metadata": {
        "id": "uyi5D3KYQAii"
      },
      "source": [
        "## RAM"
      ]
    },
    {
      "cell_type": "code",
      "execution_count": null,
      "metadata": {
        "colab": {
          "base_uri": "https://localhost:8080/"
        },
        "id": "11cE0UMFlAEk",
        "outputId": "8b0bade5-ed32-441f-a526-c8a989d1d3e5"
      },
      "outputs": [
        {
          "data": {
            "text/plain": [
              "0        8GB\n",
              "1        8GB\n",
              "2        8GB\n",
              "3       16GB\n",
              "4        8GB\n",
              "        ... \n",
              "1298     4GB\n",
              "1299    16GB\n",
              "1300     2GB\n",
              "1301     6GB\n",
              "1302     4GB\n",
              "Name: ram, Length: 1303, dtype: object"
            ]
          },
          "execution_count": 256,
          "metadata": {},
          "output_type": "execute_result"
        }
      ],
      "source": [
        "df['ram']"
      ]
    },
    {
      "cell_type": "code",
      "execution_count": null,
      "metadata": {
        "id": "FEpmtUvNlABo"
      },
      "outputs": [],
      "source": [
        "df['ram'] = df['ram'].str.replace('GB', '')\n",
        "df.rename(columns={'ram': 'ram(GB)'}, inplace=True)\n",
        "df['ram(GB)'] = df['ram(GB)'].astype(int)"
      ]
    },
    {
      "cell_type": "code",
      "execution_count": null,
      "metadata": {
        "colab": {
          "base_uri": "https://localhost:8080/",
          "height": 206
        },
        "id": "Dk4gxGO730oD",
        "outputId": "ab7d9291-228a-444d-9943-2dabbdda9c6b"
      },
      "outputs": [
        {
          "data": {
            "text/html": [
              "\n",
              "  <div id=\"df-984c4eda-05dc-4183-8a8e-0c2b21edf2ca\">\n",
              "    <div class=\"colab-df-container\">\n",
              "      <div>\n",
              "<style scoped>\n",
              "    .dataframe tbody tr th:only-of-type {\n",
              "        vertical-align: middle;\n",
              "    }\n",
              "\n",
              "    .dataframe tbody tr th {\n",
              "        vertical-align: top;\n",
              "    }\n",
              "\n",
              "    .dataframe thead th {\n",
              "        text-align: right;\n",
              "    }\n",
              "</style>\n",
              "<table border=\"1\" class=\"dataframe\">\n",
              "  <thead>\n",
              "    <tr style=\"text-align: right;\">\n",
              "      <th></th>\n",
              "      <th>company</th>\n",
              "      <th>product</th>\n",
              "      <th>typename</th>\n",
              "      <th>inches</th>\n",
              "      <th>cpu</th>\n",
              "      <th>ram(GB)</th>\n",
              "      <th>memory</th>\n",
              "      <th>gpu</th>\n",
              "      <th>opsys</th>\n",
              "      <th>weight</th>\n",
              "      <th>price</th>\n",
              "      <th>resolution</th>\n",
              "      <th>screentype</th>\n",
              "      <th>touchscreen</th>\n",
              "      <th>cpu_freq(GHz)</th>\n",
              "    </tr>\n",
              "  </thead>\n",
              "  <tbody>\n",
              "    <tr>\n",
              "      <th>0</th>\n",
              "      <td>Apple</td>\n",
              "      <td>MacBook Pro</td>\n",
              "      <td>Ultrabook</td>\n",
              "      <td>13.3</td>\n",
              "      <td>Intel Core i5</td>\n",
              "      <td>8</td>\n",
              "      <td>128GB SSD</td>\n",
              "      <td>Intel Iris Plus Graphics 640</td>\n",
              "      <td>macOS</td>\n",
              "      <td>1.37kg</td>\n",
              "      <td>1339.69</td>\n",
              "      <td>2560x1600</td>\n",
              "      <td>IPSPanelRetinaDisplay</td>\n",
              "      <td>0.0</td>\n",
              "      <td>2.3</td>\n",
              "    </tr>\n",
              "    <tr>\n",
              "      <th>1</th>\n",
              "      <td>Apple</td>\n",
              "      <td>Macbook Air</td>\n",
              "      <td>Ultrabook</td>\n",
              "      <td>13.3</td>\n",
              "      <td>Intel Core i5</td>\n",
              "      <td>8</td>\n",
              "      <td>128GB Flash Storage</td>\n",
              "      <td>Intel HD Graphics 6000</td>\n",
              "      <td>macOS</td>\n",
              "      <td>1.34kg</td>\n",
              "      <td>898.94</td>\n",
              "      <td>1440x900</td>\n",
              "      <td>NaN</td>\n",
              "      <td>0.0</td>\n",
              "      <td>1.8</td>\n",
              "    </tr>\n",
              "    <tr>\n",
              "      <th>2</th>\n",
              "      <td>HP</td>\n",
              "      <td>250 G6</td>\n",
              "      <td>Notebook</td>\n",
              "      <td>15.6</td>\n",
              "      <td>Intel Core i5 7200U</td>\n",
              "      <td>8</td>\n",
              "      <td>256GB SSD</td>\n",
              "      <td>Intel HD Graphics 620</td>\n",
              "      <td>No OS</td>\n",
              "      <td>1.86kg</td>\n",
              "      <td>575.00</td>\n",
              "      <td>1920x1080</td>\n",
              "      <td>NaN</td>\n",
              "      <td>0.0</td>\n",
              "      <td>2.5</td>\n",
              "    </tr>\n",
              "    <tr>\n",
              "      <th>3</th>\n",
              "      <td>Apple</td>\n",
              "      <td>MacBook Pro</td>\n",
              "      <td>Ultrabook</td>\n",
              "      <td>15.4</td>\n",
              "      <td>Intel Core i7</td>\n",
              "      <td>16</td>\n",
              "      <td>512GB SSD</td>\n",
              "      <td>AMD Radeon Pro 455</td>\n",
              "      <td>macOS</td>\n",
              "      <td>1.83kg</td>\n",
              "      <td>2537.45</td>\n",
              "      <td>2880x1800</td>\n",
              "      <td>IPSPanelRetinaDisplay</td>\n",
              "      <td>0.0</td>\n",
              "      <td>2.7</td>\n",
              "    </tr>\n",
              "    <tr>\n",
              "      <th>4</th>\n",
              "      <td>Apple</td>\n",
              "      <td>MacBook Pro</td>\n",
              "      <td>Ultrabook</td>\n",
              "      <td>13.3</td>\n",
              "      <td>Intel Core i5</td>\n",
              "      <td>8</td>\n",
              "      <td>256GB SSD</td>\n",
              "      <td>Intel Iris Plus Graphics 650</td>\n",
              "      <td>macOS</td>\n",
              "      <td>1.37kg</td>\n",
              "      <td>1803.60</td>\n",
              "      <td>2560x1600</td>\n",
              "      <td>IPSPanelRetinaDisplay</td>\n",
              "      <td>0.0</td>\n",
              "      <td>3.1</td>\n",
              "    </tr>\n",
              "  </tbody>\n",
              "</table>\n",
              "</div>\n",
              "      <button class=\"colab-df-convert\" onclick=\"convertToInteractive('df-984c4eda-05dc-4183-8a8e-0c2b21edf2ca')\"\n",
              "              title=\"Convert this dataframe to an interactive table.\"\n",
              "              style=\"display:none;\">\n",
              "        \n",
              "  <svg xmlns=\"http://www.w3.org/2000/svg\" height=\"24px\"viewBox=\"0 0 24 24\"\n",
              "       width=\"24px\">\n",
              "    <path d=\"M0 0h24v24H0V0z\" fill=\"none\"/>\n",
              "    <path d=\"M18.56 5.44l.94 2.06.94-2.06 2.06-.94-2.06-.94-.94-2.06-.94 2.06-2.06.94zm-11 1L8.5 8.5l.94-2.06 2.06-.94-2.06-.94L8.5 2.5l-.94 2.06-2.06.94zm10 10l.94 2.06.94-2.06 2.06-.94-2.06-.94-.94-2.06-.94 2.06-2.06.94z\"/><path d=\"M17.41 7.96l-1.37-1.37c-.4-.4-.92-.59-1.43-.59-.52 0-1.04.2-1.43.59L10.3 9.45l-7.72 7.72c-.78.78-.78 2.05 0 2.83L4 21.41c.39.39.9.59 1.41.59.51 0 1.02-.2 1.41-.59l7.78-7.78 2.81-2.81c.8-.78.8-2.07 0-2.86zM5.41 20L4 18.59l7.72-7.72 1.47 1.35L5.41 20z\"/>\n",
              "  </svg>\n",
              "      </button>\n",
              "      \n",
              "  <style>\n",
              "    .colab-df-container {\n",
              "      display:flex;\n",
              "      flex-wrap:wrap;\n",
              "      gap: 12px;\n",
              "    }\n",
              "\n",
              "    .colab-df-convert {\n",
              "      background-color: #E8F0FE;\n",
              "      border: none;\n",
              "      border-radius: 50%;\n",
              "      cursor: pointer;\n",
              "      display: none;\n",
              "      fill: #1967D2;\n",
              "      height: 32px;\n",
              "      padding: 0 0 0 0;\n",
              "      width: 32px;\n",
              "    }\n",
              "\n",
              "    .colab-df-convert:hover {\n",
              "      background-color: #E2EBFA;\n",
              "      box-shadow: 0px 1px 2px rgba(60, 64, 67, 0.3), 0px 1px 3px 1px rgba(60, 64, 67, 0.15);\n",
              "      fill: #174EA6;\n",
              "    }\n",
              "\n",
              "    [theme=dark] .colab-df-convert {\n",
              "      background-color: #3B4455;\n",
              "      fill: #D2E3FC;\n",
              "    }\n",
              "\n",
              "    [theme=dark] .colab-df-convert:hover {\n",
              "      background-color: #434B5C;\n",
              "      box-shadow: 0px 1px 3px 1px rgba(0, 0, 0, 0.15);\n",
              "      filter: drop-shadow(0px 1px 2px rgba(0, 0, 0, 0.3));\n",
              "      fill: #FFFFFF;\n",
              "    }\n",
              "  </style>\n",
              "\n",
              "      <script>\n",
              "        const buttonEl =\n",
              "          document.querySelector('#df-984c4eda-05dc-4183-8a8e-0c2b21edf2ca button.colab-df-convert');\n",
              "        buttonEl.style.display =\n",
              "          google.colab.kernel.accessAllowed ? 'block' : 'none';\n",
              "\n",
              "        async function convertToInteractive(key) {\n",
              "          const element = document.querySelector('#df-984c4eda-05dc-4183-8a8e-0c2b21edf2ca');\n",
              "          const dataTable =\n",
              "            await google.colab.kernel.invokeFunction('convertToInteractive',\n",
              "                                                     [key], {});\n",
              "          if (!dataTable) return;\n",
              "\n",
              "          const docLinkHtml = 'Like what you see? Visit the ' +\n",
              "            '<a target=\"_blank\" href=https://colab.research.google.com/notebooks/data_table.ipynb>data table notebook</a>'\n",
              "            + ' to learn more about interactive tables.';\n",
              "          element.innerHTML = '';\n",
              "          dataTable['output_type'] = 'display_data';\n",
              "          await google.colab.output.renderOutput(dataTable, element);\n",
              "          const docLink = document.createElement('div');\n",
              "          docLink.innerHTML = docLinkHtml;\n",
              "          element.appendChild(docLink);\n",
              "        }\n",
              "      </script>\n",
              "    </div>\n",
              "  </div>\n",
              "  "
            ],
            "text/plain": [
              "  company      product   typename  inches                   cpu  ram(GB)  \\\n",
              "0   Apple  MacBook Pro  Ultrabook    13.3        Intel Core i5         8   \n",
              "1   Apple  Macbook Air  Ultrabook    13.3        Intel Core i5         8   \n",
              "2      HP       250 G6   Notebook    15.6  Intel Core i5 7200U         8   \n",
              "3   Apple  MacBook Pro  Ultrabook    15.4        Intel Core i7        16   \n",
              "4   Apple  MacBook Pro  Ultrabook    13.3        Intel Core i5         8   \n",
              "\n",
              "                memory                           gpu  opsys  weight    price  \\\n",
              "0            128GB SSD  Intel Iris Plus Graphics 640  macOS  1.37kg  1339.69   \n",
              "1  128GB Flash Storage        Intel HD Graphics 6000  macOS  1.34kg   898.94   \n",
              "2            256GB SSD         Intel HD Graphics 620  No OS  1.86kg   575.00   \n",
              "3            512GB SSD            AMD Radeon Pro 455  macOS  1.83kg  2537.45   \n",
              "4            256GB SSD  Intel Iris Plus Graphics 650  macOS  1.37kg  1803.60   \n",
              "\n",
              "  resolution             screentype  touchscreen  cpu_freq(GHz)  \n",
              "0  2560x1600  IPSPanelRetinaDisplay          0.0            2.3  \n",
              "1   1440x900                    NaN          0.0            1.8  \n",
              "2  1920x1080                    NaN          0.0            2.5  \n",
              "3  2880x1800  IPSPanelRetinaDisplay          0.0            2.7  \n",
              "4  2560x1600  IPSPanelRetinaDisplay          0.0            3.1  "
            ]
          },
          "execution_count": 258,
          "metadata": {},
          "output_type": "execute_result"
        }
      ],
      "source": [
        "df.head()"
      ]
    },
    {
      "cell_type": "markdown",
      "metadata": {
        "id": "2DK9ImqYQCqq"
      },
      "source": [
        "## Memory (Drive)"
      ]
    },
    {
      "cell_type": "code",
      "execution_count": null,
      "metadata": {
        "colab": {
          "base_uri": "https://localhost:8080/"
        },
        "id": "z8DKXjsNlEJT",
        "outputId": "95745cae-c1d1-4b7e-9c9f-8be0674c5702"
      },
      "outputs": [
        {
          "data": {
            "text/plain": [
              "0                 128GB SSD\n",
              "1       128GB Flash Storage\n",
              "2                 256GB SSD\n",
              "3                 512GB SSD\n",
              "4                 256GB SSD\n",
              "               ...         \n",
              "1298              128GB SSD\n",
              "1299              512GB SSD\n",
              "1300     64GB Flash Storage\n",
              "1301                1TB HDD\n",
              "1302              500GB HDD\n",
              "Name: memory, Length: 1303, dtype: object"
            ]
          },
          "execution_count": 259,
          "metadata": {},
          "output_type": "execute_result"
        }
      ],
      "source": [
        "df['memory']"
      ]
    },
    {
      "cell_type": "code",
      "execution_count": null,
      "metadata": {
        "colab": {
          "base_uri": "https://localhost:8080/"
        },
        "id": "F7JpNYmxlEGs",
        "outputId": "790311c5-832a-4a99-e3b5-e1b415e31b1c"
      },
      "outputs": [
        {
          "data": {
            "text/plain": [
              "256 SSD                         412\n",
              "1000 HDD                        224\n",
              "500 HDD                         132\n",
              "512 SSD                         118\n",
              "128 SSD +  1000 HDD              94\n",
              "128 SSD                          76\n",
              "256 SSD +  1000 HDD              73\n",
              "32 Flash Storage                 38\n",
              "2000 HDD                         16\n",
              "64 Flash Storage                 15\n",
              "512 SSD +  1000 HDD              14\n",
              "1000 SSD                         14\n",
              "256 SSD +  2000 HDD              10\n",
              "1000 Hybrid                       9\n",
              "256 Flash Storage                 8\n",
              "16 Flash Storage                  7\n",
              "32 SSD                            6\n",
              "180 SSD                           5\n",
              "128 Flash Storage                 4\n",
              "512 SSD +  2000 HDD               3\n",
              "16 SSD                            3\n",
              "512 Flash Storage                 2\n",
              "1000 SSD +  1000 HDD              2\n",
              "256 SSD +  500 HDD                2\n",
              "128 SSD +  2000 HDD               2\n",
              "256 SSD +  256 SSD                2\n",
              "512 SSD +  256 SSD                1\n",
              "512 SSD +  512 SSD                1\n",
              "64 Flash Storage +  1000 HDD      1\n",
              "1000 HDD +  1000 HDD              1\n",
              "32 HDD                            1\n",
              "64 SSD                            1\n",
              "128 HDD                           1\n",
              "240 SSD                           1\n",
              "8 SSD                             1\n",
              "508 Hybrid                        1\n",
              "512 SSD +  1000 Hybrid            1\n",
              "256 SSD +  1000 Hybrid            1\n",
              "Name: memory_1, dtype: int64"
            ]
          },
          "execution_count": 260,
          "metadata": {},
          "output_type": "execute_result"
        }
      ],
      "source": [
        "df['memory_1'] = df['memory']\n",
        "df['memory_1'] = df['memory_1'].str.replace('1.0TB','1TB', regex=True)\n",
        "df['memory_1'] = df['memory_1'].str.replace('1TB','1000GB')\n",
        "df['memory_1'] = df['memory_1'].str.replace('2TB','2000GB')\n",
        "df['memory_1'] = df['memory_1'].str.replace('GB','')\n",
        "df['memory_1'].value_counts()"
      ]
    },
    {
      "cell_type": "code",
      "execution_count": null,
      "metadata": {
        "colab": {
          "base_uri": "https://localhost:8080/"
        },
        "id": "FD4hpMZAlED9",
        "outputId": "67efaafb-4827-45a1-a160-a63afe46f5c6"
      },
      "outputs": [
        {
          "data": {
            "text/plain": [
              "256SSD                    412\n",
              "1000HDD                   224\n",
              "500HDD                    132\n",
              "512SSD                    118\n",
              "128SSD+1000HDD             94\n",
              "128SSD                     76\n",
              "256SSD+1000HDD             73\n",
              "32FlashStorage             38\n",
              "2000HDD                    16\n",
              "64FlashStorage             15\n",
              "512SSD+1000HDD             14\n",
              "1000SSD                    14\n",
              "256SSD+2000HDD             10\n",
              "1000Hybrid                  9\n",
              "256FlashStorage             8\n",
              "16FlashStorage              7\n",
              "32SSD                       6\n",
              "180SSD                      5\n",
              "128FlashStorage             4\n",
              "512SSD+2000HDD              3\n",
              "16SSD                       3\n",
              "512FlashStorage             2\n",
              "1000SSD+1000HDD             2\n",
              "256SSD+500HDD               2\n",
              "128SSD+2000HDD              2\n",
              "256SSD+256SSD               2\n",
              "512SSD+256SSD               1\n",
              "512SSD+512SSD               1\n",
              "64FlashStorage+1000HDD      1\n",
              "1000HDD+1000HDD             1\n",
              "32HDD                       1\n",
              "64SSD                       1\n",
              "128HDD                      1\n",
              "240SSD                      1\n",
              "8SSD                        1\n",
              "508Hybrid                   1\n",
              "512SSD+1000Hybrid           1\n",
              "256SSD+1000Hybrid           1\n",
              "Name: memory2, dtype: int64"
            ]
          },
          "execution_count": 261,
          "metadata": {},
          "output_type": "execute_result"
        }
      ],
      "source": [
        "df['memory2'] = df['memory_1'].str.replace(r' ','')\n",
        "df['memory2'].value_counts()"
      ]
    },
    {
      "cell_type": "code",
      "execution_count": null,
      "metadata": {
        "id": "TKasCU1r40dN"
      },
      "outputs": [],
      "source": [
        "memory_1 = []\n",
        "memory_2 = []\n",
        "for i in df['memory2']:\n",
        "    if len(re.findall(r'\\+',i)) == 1: # DOUBLE DRIVE\n",
        "        one = re.findall(r'(\\w+)',i)\n",
        "        memory_1.append(one[0])\n",
        "        memory_2.append(one[1])\n",
        "    else: # SINGLE DRIVE\n",
        "        one = re.findall(r'(\\w+)',i)\n",
        "        memory_1.append(one[0])\n",
        "        memory_2.append('NaN')"
      ]
    },
    {
      "cell_type": "code",
      "execution_count": null,
      "metadata": {
        "id": "AoUyNMwl47wH"
      },
      "outputs": [],
      "source": [
        "memory_1_gb = []\n",
        "memory_1_type = []\n",
        "for i in memory_1:\n",
        "    memory_1_type.append(re.findall(r'(\\D\\w+)',i)[0])\n",
        "    memory_1_gb.append(re.findall(r'(\\d+)',i)[0])"
      ]
    },
    {
      "cell_type": "code",
      "execution_count": null,
      "metadata": {
        "id": "dg01ll055A20"
      },
      "outputs": [],
      "source": [
        "memory_2_gb = []\n",
        "memory_2_type = []\n",
        "for i in memory_2:\n",
        "    if i != 'NaN':\n",
        "        memory_2_type.append(re.findall(r'(\\D\\w+)',i)[0])\n",
        "        memory_2_gb.append(re.findall(r'(\\d+)',i)[0])\n",
        "    else:\n",
        "        memory_2_type.append('NaN')\n",
        "        memory_2_gb.append(0)"
      ]
    },
    {
      "cell_type": "code",
      "execution_count": null,
      "metadata": {
        "id": "2NzaNmYk5Ivl"
      },
      "outputs": [],
      "source": [
        "df['memory_1_sto(GB)'] = memory_1_gb\n",
        "df['memory_1_type'] = memory_1_type\n",
        "df['memory_2_sto(GB)'] = memory_2_gb\n",
        "df['memory_2_type'] = memory_2_type"
      ]
    },
    {
      "cell_type": "code",
      "execution_count": null,
      "metadata": {
        "id": "BxofQ3nV5I0C"
      },
      "outputs": [],
      "source": [
        "df['memory_1_sto(GB)'] = df['memory_1_sto(GB)'].astype(float)\n",
        "df['memory_2_sto(GB)'] = df['memory_2_sto(GB)'].astype(float)"
      ]
    },
    {
      "cell_type": "code",
      "execution_count": null,
      "metadata": {
        "colab": {
          "base_uri": "https://localhost:8080/",
          "height": 525
        },
        "id": "I8jRRHes5I6j",
        "outputId": "a2a4f81b-6e9e-4645-bd7c-683bf220d3bb"
      },
      "outputs": [
        {
          "data": {
            "text/html": [
              "\n",
              "  <div id=\"df-014bbde3-9ce9-4b1c-b261-c4db1508870c\">\n",
              "    <div class=\"colab-df-container\">\n",
              "      <div>\n",
              "<style scoped>\n",
              "    .dataframe tbody tr th:only-of-type {\n",
              "        vertical-align: middle;\n",
              "    }\n",
              "\n",
              "    .dataframe tbody tr th {\n",
              "        vertical-align: top;\n",
              "    }\n",
              "\n",
              "    .dataframe thead th {\n",
              "        text-align: right;\n",
              "    }\n",
              "</style>\n",
              "<table border=\"1\" class=\"dataframe\">\n",
              "  <thead>\n",
              "    <tr style=\"text-align: right;\">\n",
              "      <th></th>\n",
              "      <th>company</th>\n",
              "      <th>product</th>\n",
              "      <th>typename</th>\n",
              "      <th>inches</th>\n",
              "      <th>cpu</th>\n",
              "      <th>ram(GB)</th>\n",
              "      <th>memory</th>\n",
              "      <th>gpu</th>\n",
              "      <th>opsys</th>\n",
              "      <th>weight</th>\n",
              "      <th>...</th>\n",
              "      <th>resolution</th>\n",
              "      <th>screentype</th>\n",
              "      <th>touchscreen</th>\n",
              "      <th>cpu_freq(GHz)</th>\n",
              "      <th>memory_1</th>\n",
              "      <th>memory2</th>\n",
              "      <th>memory_1_sto(GB)</th>\n",
              "      <th>memory_1_type</th>\n",
              "      <th>memory_2_sto(GB)</th>\n",
              "      <th>memory_2_type</th>\n",
              "    </tr>\n",
              "  </thead>\n",
              "  <tbody>\n",
              "    <tr>\n",
              "      <th>0</th>\n",
              "      <td>Apple</td>\n",
              "      <td>MacBook Pro</td>\n",
              "      <td>Ultrabook</td>\n",
              "      <td>13.3</td>\n",
              "      <td>Intel Core i5</td>\n",
              "      <td>8</td>\n",
              "      <td>128GB SSD</td>\n",
              "      <td>Intel Iris Plus Graphics 640</td>\n",
              "      <td>macOS</td>\n",
              "      <td>1.37kg</td>\n",
              "      <td>...</td>\n",
              "      <td>2560x1600</td>\n",
              "      <td>IPSPanelRetinaDisplay</td>\n",
              "      <td>0.0</td>\n",
              "      <td>2.3</td>\n",
              "      <td>128 SSD</td>\n",
              "      <td>128SSD</td>\n",
              "      <td>128.0</td>\n",
              "      <td>SSD</td>\n",
              "      <td>0.0</td>\n",
              "      <td>NaN</td>\n",
              "    </tr>\n",
              "    <tr>\n",
              "      <th>1</th>\n",
              "      <td>Apple</td>\n",
              "      <td>Macbook Air</td>\n",
              "      <td>Ultrabook</td>\n",
              "      <td>13.3</td>\n",
              "      <td>Intel Core i5</td>\n",
              "      <td>8</td>\n",
              "      <td>128GB Flash Storage</td>\n",
              "      <td>Intel HD Graphics 6000</td>\n",
              "      <td>macOS</td>\n",
              "      <td>1.34kg</td>\n",
              "      <td>...</td>\n",
              "      <td>1440x900</td>\n",
              "      <td>NaN</td>\n",
              "      <td>0.0</td>\n",
              "      <td>1.8</td>\n",
              "      <td>128 Flash Storage</td>\n",
              "      <td>128FlashStorage</td>\n",
              "      <td>128.0</td>\n",
              "      <td>FlashStorage</td>\n",
              "      <td>0.0</td>\n",
              "      <td>NaN</td>\n",
              "    </tr>\n",
              "    <tr>\n",
              "      <th>2</th>\n",
              "      <td>HP</td>\n",
              "      <td>250 G6</td>\n",
              "      <td>Notebook</td>\n",
              "      <td>15.6</td>\n",
              "      <td>Intel Core i5 7200U</td>\n",
              "      <td>8</td>\n",
              "      <td>256GB SSD</td>\n",
              "      <td>Intel HD Graphics 620</td>\n",
              "      <td>No OS</td>\n",
              "      <td>1.86kg</td>\n",
              "      <td>...</td>\n",
              "      <td>1920x1080</td>\n",
              "      <td>NaN</td>\n",
              "      <td>0.0</td>\n",
              "      <td>2.5</td>\n",
              "      <td>256 SSD</td>\n",
              "      <td>256SSD</td>\n",
              "      <td>256.0</td>\n",
              "      <td>SSD</td>\n",
              "      <td>0.0</td>\n",
              "      <td>NaN</td>\n",
              "    </tr>\n",
              "    <tr>\n",
              "      <th>3</th>\n",
              "      <td>Apple</td>\n",
              "      <td>MacBook Pro</td>\n",
              "      <td>Ultrabook</td>\n",
              "      <td>15.4</td>\n",
              "      <td>Intel Core i7</td>\n",
              "      <td>16</td>\n",
              "      <td>512GB SSD</td>\n",
              "      <td>AMD Radeon Pro 455</td>\n",
              "      <td>macOS</td>\n",
              "      <td>1.83kg</td>\n",
              "      <td>...</td>\n",
              "      <td>2880x1800</td>\n",
              "      <td>IPSPanelRetinaDisplay</td>\n",
              "      <td>0.0</td>\n",
              "      <td>2.7</td>\n",
              "      <td>512 SSD</td>\n",
              "      <td>512SSD</td>\n",
              "      <td>512.0</td>\n",
              "      <td>SSD</td>\n",
              "      <td>0.0</td>\n",
              "      <td>NaN</td>\n",
              "    </tr>\n",
              "    <tr>\n",
              "      <th>4</th>\n",
              "      <td>Apple</td>\n",
              "      <td>MacBook Pro</td>\n",
              "      <td>Ultrabook</td>\n",
              "      <td>13.3</td>\n",
              "      <td>Intel Core i5</td>\n",
              "      <td>8</td>\n",
              "      <td>256GB SSD</td>\n",
              "      <td>Intel Iris Plus Graphics 650</td>\n",
              "      <td>macOS</td>\n",
              "      <td>1.37kg</td>\n",
              "      <td>...</td>\n",
              "      <td>2560x1600</td>\n",
              "      <td>IPSPanelRetinaDisplay</td>\n",
              "      <td>0.0</td>\n",
              "      <td>3.1</td>\n",
              "      <td>256 SSD</td>\n",
              "      <td>256SSD</td>\n",
              "      <td>256.0</td>\n",
              "      <td>SSD</td>\n",
              "      <td>0.0</td>\n",
              "      <td>NaN</td>\n",
              "    </tr>\n",
              "  </tbody>\n",
              "</table>\n",
              "<p>5 rows × 21 columns</p>\n",
              "</div>\n",
              "      <button class=\"colab-df-convert\" onclick=\"convertToInteractive('df-014bbde3-9ce9-4b1c-b261-c4db1508870c')\"\n",
              "              title=\"Convert this dataframe to an interactive table.\"\n",
              "              style=\"display:none;\">\n",
              "        \n",
              "  <svg xmlns=\"http://www.w3.org/2000/svg\" height=\"24px\"viewBox=\"0 0 24 24\"\n",
              "       width=\"24px\">\n",
              "    <path d=\"M0 0h24v24H0V0z\" fill=\"none\"/>\n",
              "    <path d=\"M18.56 5.44l.94 2.06.94-2.06 2.06-.94-2.06-.94-.94-2.06-.94 2.06-2.06.94zm-11 1L8.5 8.5l.94-2.06 2.06-.94-2.06-.94L8.5 2.5l-.94 2.06-2.06.94zm10 10l.94 2.06.94-2.06 2.06-.94-2.06-.94-.94-2.06-.94 2.06-2.06.94z\"/><path d=\"M17.41 7.96l-1.37-1.37c-.4-.4-.92-.59-1.43-.59-.52 0-1.04.2-1.43.59L10.3 9.45l-7.72 7.72c-.78.78-.78 2.05 0 2.83L4 21.41c.39.39.9.59 1.41.59.51 0 1.02-.2 1.41-.59l7.78-7.78 2.81-2.81c.8-.78.8-2.07 0-2.86zM5.41 20L4 18.59l7.72-7.72 1.47 1.35L5.41 20z\"/>\n",
              "  </svg>\n",
              "      </button>\n",
              "      \n",
              "  <style>\n",
              "    .colab-df-container {\n",
              "      display:flex;\n",
              "      flex-wrap:wrap;\n",
              "      gap: 12px;\n",
              "    }\n",
              "\n",
              "    .colab-df-convert {\n",
              "      background-color: #E8F0FE;\n",
              "      border: none;\n",
              "      border-radius: 50%;\n",
              "      cursor: pointer;\n",
              "      display: none;\n",
              "      fill: #1967D2;\n",
              "      height: 32px;\n",
              "      padding: 0 0 0 0;\n",
              "      width: 32px;\n",
              "    }\n",
              "\n",
              "    .colab-df-convert:hover {\n",
              "      background-color: #E2EBFA;\n",
              "      box-shadow: 0px 1px 2px rgba(60, 64, 67, 0.3), 0px 1px 3px 1px rgba(60, 64, 67, 0.15);\n",
              "      fill: #174EA6;\n",
              "    }\n",
              "\n",
              "    [theme=dark] .colab-df-convert {\n",
              "      background-color: #3B4455;\n",
              "      fill: #D2E3FC;\n",
              "    }\n",
              "\n",
              "    [theme=dark] .colab-df-convert:hover {\n",
              "      background-color: #434B5C;\n",
              "      box-shadow: 0px 1px 3px 1px rgba(0, 0, 0, 0.15);\n",
              "      filter: drop-shadow(0px 1px 2px rgba(0, 0, 0, 0.3));\n",
              "      fill: #FFFFFF;\n",
              "    }\n",
              "  </style>\n",
              "\n",
              "      <script>\n",
              "        const buttonEl =\n",
              "          document.querySelector('#df-014bbde3-9ce9-4b1c-b261-c4db1508870c button.colab-df-convert');\n",
              "        buttonEl.style.display =\n",
              "          google.colab.kernel.accessAllowed ? 'block' : 'none';\n",
              "\n",
              "        async function convertToInteractive(key) {\n",
              "          const element = document.querySelector('#df-014bbde3-9ce9-4b1c-b261-c4db1508870c');\n",
              "          const dataTable =\n",
              "            await google.colab.kernel.invokeFunction('convertToInteractive',\n",
              "                                                     [key], {});\n",
              "          if (!dataTable) return;\n",
              "\n",
              "          const docLinkHtml = 'Like what you see? Visit the ' +\n",
              "            '<a target=\"_blank\" href=https://colab.research.google.com/notebooks/data_table.ipynb>data table notebook</a>'\n",
              "            + ' to learn more about interactive tables.';\n",
              "          element.innerHTML = '';\n",
              "          dataTable['output_type'] = 'display_data';\n",
              "          await google.colab.output.renderOutput(dataTable, element);\n",
              "          const docLink = document.createElement('div');\n",
              "          docLink.innerHTML = docLinkHtml;\n",
              "          element.appendChild(docLink);\n",
              "        }\n",
              "      </script>\n",
              "    </div>\n",
              "  </div>\n",
              "  "
            ],
            "text/plain": [
              "  company      product   typename  inches                   cpu  ram(GB)  \\\n",
              "0   Apple  MacBook Pro  Ultrabook    13.3        Intel Core i5         8   \n",
              "1   Apple  Macbook Air  Ultrabook    13.3        Intel Core i5         8   \n",
              "2      HP       250 G6   Notebook    15.6  Intel Core i5 7200U         8   \n",
              "3   Apple  MacBook Pro  Ultrabook    15.4        Intel Core i7        16   \n",
              "4   Apple  MacBook Pro  Ultrabook    13.3        Intel Core i5         8   \n",
              "\n",
              "                memory                           gpu  opsys  weight  ...  \\\n",
              "0            128GB SSD  Intel Iris Plus Graphics 640  macOS  1.37kg  ...   \n",
              "1  128GB Flash Storage        Intel HD Graphics 6000  macOS  1.34kg  ...   \n",
              "2            256GB SSD         Intel HD Graphics 620  No OS  1.86kg  ...   \n",
              "3            512GB SSD            AMD Radeon Pro 455  macOS  1.83kg  ...   \n",
              "4            256GB SSD  Intel Iris Plus Graphics 650  macOS  1.37kg  ...   \n",
              "\n",
              "   resolution             screentype touchscreen  cpu_freq(GHz)  \\\n",
              "0   2560x1600  IPSPanelRetinaDisplay         0.0            2.3   \n",
              "1    1440x900                    NaN         0.0            1.8   \n",
              "2   1920x1080                    NaN         0.0            2.5   \n",
              "3   2880x1800  IPSPanelRetinaDisplay         0.0            2.7   \n",
              "4   2560x1600  IPSPanelRetinaDisplay         0.0            3.1   \n",
              "\n",
              "            memory_1          memory2 memory_1_sto(GB)  memory_1_type  \\\n",
              "0            128 SSD           128SSD            128.0            SSD   \n",
              "1  128 Flash Storage  128FlashStorage            128.0   FlashStorage   \n",
              "2            256 SSD           256SSD            256.0            SSD   \n",
              "3            512 SSD           512SSD            512.0            SSD   \n",
              "4            256 SSD           256SSD            256.0            SSD   \n",
              "\n",
              "  memory_2_sto(GB)  memory_2_type  \n",
              "0              0.0            NaN  \n",
              "1              0.0            NaN  \n",
              "2              0.0            NaN  \n",
              "3              0.0            NaN  \n",
              "4              0.0            NaN  \n",
              "\n",
              "[5 rows x 21 columns]"
            ]
          },
          "execution_count": 267,
          "metadata": {},
          "output_type": "execute_result"
        }
      ],
      "source": [
        "df.head()"
      ]
    },
    {
      "cell_type": "code",
      "execution_count": null,
      "metadata": {
        "id": "asjCphQm5I-h"
      },
      "outputs": [],
      "source": [
        "df = df.drop(['memory_1', 'memory2', 'memory'], axis=1)"
      ]
    },
    {
      "cell_type": "code",
      "execution_count": null,
      "metadata": {
        "id": "PpFCPDg76OBq"
      },
      "outputs": [],
      "source": [
        "df = df.replace({'NaN': np.nan})"
      ]
    },
    {
      "cell_type": "code",
      "execution_count": null,
      "metadata": {
        "colab": {
          "base_uri": "https://localhost:8080/",
          "height": 337
        },
        "id": "yfHjvS7z6OF-",
        "outputId": "6a5456bf-75e4-465b-e28e-e53885659ecd"
      },
      "outputs": [
        {
          "data": {
            "text/html": [
              "\n",
              "  <div id=\"df-4760d5a5-a470-4f17-8954-ef60369b86f9\">\n",
              "    <div class=\"colab-df-container\">\n",
              "      <div>\n",
              "<style scoped>\n",
              "    .dataframe tbody tr th:only-of-type {\n",
              "        vertical-align: middle;\n",
              "    }\n",
              "\n",
              "    .dataframe tbody tr th {\n",
              "        vertical-align: top;\n",
              "    }\n",
              "\n",
              "    .dataframe thead th {\n",
              "        text-align: right;\n",
              "    }\n",
              "</style>\n",
              "<table border=\"1\" class=\"dataframe\">\n",
              "  <thead>\n",
              "    <tr style=\"text-align: right;\">\n",
              "      <th></th>\n",
              "      <th>company</th>\n",
              "      <th>product</th>\n",
              "      <th>typename</th>\n",
              "      <th>inches</th>\n",
              "      <th>cpu</th>\n",
              "      <th>ram(GB)</th>\n",
              "      <th>gpu</th>\n",
              "      <th>opsys</th>\n",
              "      <th>weight</th>\n",
              "      <th>price</th>\n",
              "      <th>resolution</th>\n",
              "      <th>screentype</th>\n",
              "      <th>touchscreen</th>\n",
              "      <th>cpu_freq(GHz)</th>\n",
              "      <th>memory_1_sto(GB)</th>\n",
              "      <th>memory_1_type</th>\n",
              "      <th>memory_2_sto(GB)</th>\n",
              "      <th>memory_2_type</th>\n",
              "    </tr>\n",
              "  </thead>\n",
              "  <tbody>\n",
              "    <tr>\n",
              "      <th>0</th>\n",
              "      <td>Apple</td>\n",
              "      <td>MacBook Pro</td>\n",
              "      <td>Ultrabook</td>\n",
              "      <td>13.3</td>\n",
              "      <td>Intel Core i5</td>\n",
              "      <td>8</td>\n",
              "      <td>Intel Iris Plus Graphics 640</td>\n",
              "      <td>macOS</td>\n",
              "      <td>1.37kg</td>\n",
              "      <td>1339.69</td>\n",
              "      <td>2560x1600</td>\n",
              "      <td>IPSPanelRetinaDisplay</td>\n",
              "      <td>0.0</td>\n",
              "      <td>2.3</td>\n",
              "      <td>128.0</td>\n",
              "      <td>SSD</td>\n",
              "      <td>0.0</td>\n",
              "      <td>NaN</td>\n",
              "    </tr>\n",
              "    <tr>\n",
              "      <th>1</th>\n",
              "      <td>Apple</td>\n",
              "      <td>Macbook Air</td>\n",
              "      <td>Ultrabook</td>\n",
              "      <td>13.3</td>\n",
              "      <td>Intel Core i5</td>\n",
              "      <td>8</td>\n",
              "      <td>Intel HD Graphics 6000</td>\n",
              "      <td>macOS</td>\n",
              "      <td>1.34kg</td>\n",
              "      <td>898.94</td>\n",
              "      <td>1440x900</td>\n",
              "      <td>NaN</td>\n",
              "      <td>0.0</td>\n",
              "      <td>1.8</td>\n",
              "      <td>128.0</td>\n",
              "      <td>FlashStorage</td>\n",
              "      <td>0.0</td>\n",
              "      <td>NaN</td>\n",
              "    </tr>\n",
              "    <tr>\n",
              "      <th>2</th>\n",
              "      <td>HP</td>\n",
              "      <td>250 G6</td>\n",
              "      <td>Notebook</td>\n",
              "      <td>15.6</td>\n",
              "      <td>Intel Core i5 7200U</td>\n",
              "      <td>8</td>\n",
              "      <td>Intel HD Graphics 620</td>\n",
              "      <td>No OS</td>\n",
              "      <td>1.86kg</td>\n",
              "      <td>575.00</td>\n",
              "      <td>1920x1080</td>\n",
              "      <td>NaN</td>\n",
              "      <td>0.0</td>\n",
              "      <td>2.5</td>\n",
              "      <td>256.0</td>\n",
              "      <td>SSD</td>\n",
              "      <td>0.0</td>\n",
              "      <td>NaN</td>\n",
              "    </tr>\n",
              "    <tr>\n",
              "      <th>3</th>\n",
              "      <td>Apple</td>\n",
              "      <td>MacBook Pro</td>\n",
              "      <td>Ultrabook</td>\n",
              "      <td>15.4</td>\n",
              "      <td>Intel Core i7</td>\n",
              "      <td>16</td>\n",
              "      <td>AMD Radeon Pro 455</td>\n",
              "      <td>macOS</td>\n",
              "      <td>1.83kg</td>\n",
              "      <td>2537.45</td>\n",
              "      <td>2880x1800</td>\n",
              "      <td>IPSPanelRetinaDisplay</td>\n",
              "      <td>0.0</td>\n",
              "      <td>2.7</td>\n",
              "      <td>512.0</td>\n",
              "      <td>SSD</td>\n",
              "      <td>0.0</td>\n",
              "      <td>NaN</td>\n",
              "    </tr>\n",
              "    <tr>\n",
              "      <th>4</th>\n",
              "      <td>Apple</td>\n",
              "      <td>MacBook Pro</td>\n",
              "      <td>Ultrabook</td>\n",
              "      <td>13.3</td>\n",
              "      <td>Intel Core i5</td>\n",
              "      <td>8</td>\n",
              "      <td>Intel Iris Plus Graphics 650</td>\n",
              "      <td>macOS</td>\n",
              "      <td>1.37kg</td>\n",
              "      <td>1803.60</td>\n",
              "      <td>2560x1600</td>\n",
              "      <td>IPSPanelRetinaDisplay</td>\n",
              "      <td>0.0</td>\n",
              "      <td>3.1</td>\n",
              "      <td>256.0</td>\n",
              "      <td>SSD</td>\n",
              "      <td>0.0</td>\n",
              "      <td>NaN</td>\n",
              "    </tr>\n",
              "  </tbody>\n",
              "</table>\n",
              "</div>\n",
              "      <button class=\"colab-df-convert\" onclick=\"convertToInteractive('df-4760d5a5-a470-4f17-8954-ef60369b86f9')\"\n",
              "              title=\"Convert this dataframe to an interactive table.\"\n",
              "              style=\"display:none;\">\n",
              "        \n",
              "  <svg xmlns=\"http://www.w3.org/2000/svg\" height=\"24px\"viewBox=\"0 0 24 24\"\n",
              "       width=\"24px\">\n",
              "    <path d=\"M0 0h24v24H0V0z\" fill=\"none\"/>\n",
              "    <path d=\"M18.56 5.44l.94 2.06.94-2.06 2.06-.94-2.06-.94-.94-2.06-.94 2.06-2.06.94zm-11 1L8.5 8.5l.94-2.06 2.06-.94-2.06-.94L8.5 2.5l-.94 2.06-2.06.94zm10 10l.94 2.06.94-2.06 2.06-.94-2.06-.94-.94-2.06-.94 2.06-2.06.94z\"/><path d=\"M17.41 7.96l-1.37-1.37c-.4-.4-.92-.59-1.43-.59-.52 0-1.04.2-1.43.59L10.3 9.45l-7.72 7.72c-.78.78-.78 2.05 0 2.83L4 21.41c.39.39.9.59 1.41.59.51 0 1.02-.2 1.41-.59l7.78-7.78 2.81-2.81c.8-.78.8-2.07 0-2.86zM5.41 20L4 18.59l7.72-7.72 1.47 1.35L5.41 20z\"/>\n",
              "  </svg>\n",
              "      </button>\n",
              "      \n",
              "  <style>\n",
              "    .colab-df-container {\n",
              "      display:flex;\n",
              "      flex-wrap:wrap;\n",
              "      gap: 12px;\n",
              "    }\n",
              "\n",
              "    .colab-df-convert {\n",
              "      background-color: #E8F0FE;\n",
              "      border: none;\n",
              "      border-radius: 50%;\n",
              "      cursor: pointer;\n",
              "      display: none;\n",
              "      fill: #1967D2;\n",
              "      height: 32px;\n",
              "      padding: 0 0 0 0;\n",
              "      width: 32px;\n",
              "    }\n",
              "\n",
              "    .colab-df-convert:hover {\n",
              "      background-color: #E2EBFA;\n",
              "      box-shadow: 0px 1px 2px rgba(60, 64, 67, 0.3), 0px 1px 3px 1px rgba(60, 64, 67, 0.15);\n",
              "      fill: #174EA6;\n",
              "    }\n",
              "\n",
              "    [theme=dark] .colab-df-convert {\n",
              "      background-color: #3B4455;\n",
              "      fill: #D2E3FC;\n",
              "    }\n",
              "\n",
              "    [theme=dark] .colab-df-convert:hover {\n",
              "      background-color: #434B5C;\n",
              "      box-shadow: 0px 1px 3px 1px rgba(0, 0, 0, 0.15);\n",
              "      filter: drop-shadow(0px 1px 2px rgba(0, 0, 0, 0.3));\n",
              "      fill: #FFFFFF;\n",
              "    }\n",
              "  </style>\n",
              "\n",
              "      <script>\n",
              "        const buttonEl =\n",
              "          document.querySelector('#df-4760d5a5-a470-4f17-8954-ef60369b86f9 button.colab-df-convert');\n",
              "        buttonEl.style.display =\n",
              "          google.colab.kernel.accessAllowed ? 'block' : 'none';\n",
              "\n",
              "        async function convertToInteractive(key) {\n",
              "          const element = document.querySelector('#df-4760d5a5-a470-4f17-8954-ef60369b86f9');\n",
              "          const dataTable =\n",
              "            await google.colab.kernel.invokeFunction('convertToInteractive',\n",
              "                                                     [key], {});\n",
              "          if (!dataTable) return;\n",
              "\n",
              "          const docLinkHtml = 'Like what you see? Visit the ' +\n",
              "            '<a target=\"_blank\" href=https://colab.research.google.com/notebooks/data_table.ipynb>data table notebook</a>'\n",
              "            + ' to learn more about interactive tables.';\n",
              "          element.innerHTML = '';\n",
              "          dataTable['output_type'] = 'display_data';\n",
              "          await google.colab.output.renderOutput(dataTable, element);\n",
              "          const docLink = document.createElement('div');\n",
              "          docLink.innerHTML = docLinkHtml;\n",
              "          element.appendChild(docLink);\n",
              "        }\n",
              "      </script>\n",
              "    </div>\n",
              "  </div>\n",
              "  "
            ],
            "text/plain": [
              "  company      product   typename  inches                   cpu  ram(GB)  \\\n",
              "0   Apple  MacBook Pro  Ultrabook    13.3        Intel Core i5         8   \n",
              "1   Apple  Macbook Air  Ultrabook    13.3        Intel Core i5         8   \n",
              "2      HP       250 G6   Notebook    15.6  Intel Core i5 7200U         8   \n",
              "3   Apple  MacBook Pro  Ultrabook    15.4        Intel Core i7        16   \n",
              "4   Apple  MacBook Pro  Ultrabook    13.3        Intel Core i5         8   \n",
              "\n",
              "                            gpu  opsys  weight    price resolution  \\\n",
              "0  Intel Iris Plus Graphics 640  macOS  1.37kg  1339.69  2560x1600   \n",
              "1        Intel HD Graphics 6000  macOS  1.34kg   898.94   1440x900   \n",
              "2         Intel HD Graphics 620  No OS  1.86kg   575.00  1920x1080   \n",
              "3            AMD Radeon Pro 455  macOS  1.83kg  2537.45  2880x1800   \n",
              "4  Intel Iris Plus Graphics 650  macOS  1.37kg  1803.60  2560x1600   \n",
              "\n",
              "              screentype  touchscreen  cpu_freq(GHz)  memory_1_sto(GB)  \\\n",
              "0  IPSPanelRetinaDisplay          0.0            2.3             128.0   \n",
              "1                    NaN          0.0            1.8             128.0   \n",
              "2                    NaN          0.0            2.5             256.0   \n",
              "3  IPSPanelRetinaDisplay          0.0            2.7             512.0   \n",
              "4  IPSPanelRetinaDisplay          0.0            3.1             256.0   \n",
              "\n",
              "  memory_1_type  memory_2_sto(GB) memory_2_type  \n",
              "0           SSD               0.0           NaN  \n",
              "1  FlashStorage               0.0           NaN  \n",
              "2           SSD               0.0           NaN  \n",
              "3           SSD               0.0           NaN  \n",
              "4           SSD               0.0           NaN  "
            ]
          },
          "execution_count": 270,
          "metadata": {},
          "output_type": "execute_result"
        }
      ],
      "source": [
        "df.head()"
      ]
    },
    {
      "cell_type": "markdown",
      "metadata": {
        "id": "cB-eDyhhRcRN"
      },
      "source": [
        "## Weight"
      ]
    },
    {
      "cell_type": "code",
      "execution_count": null,
      "metadata": {
        "colab": {
          "base_uri": "https://localhost:8080/"
        },
        "id": "9__aRBoXlIKc",
        "outputId": "b8318cf4-ec85-49e1-bb52-c528233ffd21"
      },
      "outputs": [
        {
          "data": {
            "text/plain": [
              "2.2kg     121\n",
              "2.1kg      58\n",
              "2.4kg      44\n",
              "2.3kg      41\n",
              "2.5kg      38\n",
              "         ... \n",
              "3.25kg      1\n",
              "4.7kg       1\n",
              "1.55kg      1\n",
              "1.18kg      1\n",
              "4.0kg       1\n",
              "Name: weight, Length: 179, dtype: int64"
            ]
          },
          "execution_count": 271,
          "metadata": {},
          "output_type": "execute_result"
        }
      ],
      "source": [
        "df['weight'].value_counts()"
      ]
    },
    {
      "cell_type": "code",
      "execution_count": null,
      "metadata": {
        "colab": {
          "base_uri": "https://localhost:8080/"
        },
        "id": "llrTCO6ilIH8",
        "outputId": "081105f9-f27c-46d7-c623-e5a83a3b6c93"
      },
      "outputs": [
        {
          "data": {
            "text/plain": [
              "1303"
            ]
          },
          "execution_count": 272,
          "metadata": {},
          "output_type": "execute_result"
        }
      ],
      "source": [
        "df['weight'].str.contains('kg').sum()\n",
        "#semuanya dalam satuan kg"
      ]
    },
    {
      "cell_type": "code",
      "execution_count": null,
      "metadata": {
        "id": "tRy4EMWRlIFe"
      },
      "outputs": [],
      "source": [
        "df['weight'] = df['weight'].str.replace('kg', '').astype(float)"
      ]
    },
    {
      "cell_type": "code",
      "execution_count": null,
      "metadata": {
        "id": "AXszbgE669vr"
      },
      "outputs": [],
      "source": [
        "df.rename(columns={'weight': 'weight(kg)'}, inplace=True)"
      ]
    },
    {
      "cell_type": "code",
      "execution_count": null,
      "metadata": {
        "colab": {
          "base_uri": "https://localhost:8080/",
          "height": 337
        },
        "id": "4GIQZqOb690A",
        "outputId": "31e8ee36-92e7-4174-ed80-303b66b4808c"
      },
      "outputs": [
        {
          "data": {
            "text/html": [
              "\n",
              "  <div id=\"df-2880e5f5-9657-478a-9a97-501ba2d5c013\">\n",
              "    <div class=\"colab-df-container\">\n",
              "      <div>\n",
              "<style scoped>\n",
              "    .dataframe tbody tr th:only-of-type {\n",
              "        vertical-align: middle;\n",
              "    }\n",
              "\n",
              "    .dataframe tbody tr th {\n",
              "        vertical-align: top;\n",
              "    }\n",
              "\n",
              "    .dataframe thead th {\n",
              "        text-align: right;\n",
              "    }\n",
              "</style>\n",
              "<table border=\"1\" class=\"dataframe\">\n",
              "  <thead>\n",
              "    <tr style=\"text-align: right;\">\n",
              "      <th></th>\n",
              "      <th>company</th>\n",
              "      <th>product</th>\n",
              "      <th>typename</th>\n",
              "      <th>inches</th>\n",
              "      <th>cpu</th>\n",
              "      <th>ram(GB)</th>\n",
              "      <th>gpu</th>\n",
              "      <th>opsys</th>\n",
              "      <th>weight(kg)</th>\n",
              "      <th>price</th>\n",
              "      <th>resolution</th>\n",
              "      <th>screentype</th>\n",
              "      <th>touchscreen</th>\n",
              "      <th>cpu_freq(GHz)</th>\n",
              "      <th>memory_1_sto(GB)</th>\n",
              "      <th>memory_1_type</th>\n",
              "      <th>memory_2_sto(GB)</th>\n",
              "      <th>memory_2_type</th>\n",
              "    </tr>\n",
              "  </thead>\n",
              "  <tbody>\n",
              "    <tr>\n",
              "      <th>0</th>\n",
              "      <td>Apple</td>\n",
              "      <td>MacBook Pro</td>\n",
              "      <td>Ultrabook</td>\n",
              "      <td>13.3</td>\n",
              "      <td>Intel Core i5</td>\n",
              "      <td>8</td>\n",
              "      <td>Intel Iris Plus Graphics 640</td>\n",
              "      <td>macOS</td>\n",
              "      <td>1.37</td>\n",
              "      <td>1339.69</td>\n",
              "      <td>2560x1600</td>\n",
              "      <td>IPSPanelRetinaDisplay</td>\n",
              "      <td>0.0</td>\n",
              "      <td>2.3</td>\n",
              "      <td>128.0</td>\n",
              "      <td>SSD</td>\n",
              "      <td>0.0</td>\n",
              "      <td>NaN</td>\n",
              "    </tr>\n",
              "    <tr>\n",
              "      <th>1</th>\n",
              "      <td>Apple</td>\n",
              "      <td>Macbook Air</td>\n",
              "      <td>Ultrabook</td>\n",
              "      <td>13.3</td>\n",
              "      <td>Intel Core i5</td>\n",
              "      <td>8</td>\n",
              "      <td>Intel HD Graphics 6000</td>\n",
              "      <td>macOS</td>\n",
              "      <td>1.34</td>\n",
              "      <td>898.94</td>\n",
              "      <td>1440x900</td>\n",
              "      <td>NaN</td>\n",
              "      <td>0.0</td>\n",
              "      <td>1.8</td>\n",
              "      <td>128.0</td>\n",
              "      <td>FlashStorage</td>\n",
              "      <td>0.0</td>\n",
              "      <td>NaN</td>\n",
              "    </tr>\n",
              "    <tr>\n",
              "      <th>2</th>\n",
              "      <td>HP</td>\n",
              "      <td>250 G6</td>\n",
              "      <td>Notebook</td>\n",
              "      <td>15.6</td>\n",
              "      <td>Intel Core i5 7200U</td>\n",
              "      <td>8</td>\n",
              "      <td>Intel HD Graphics 620</td>\n",
              "      <td>No OS</td>\n",
              "      <td>1.86</td>\n",
              "      <td>575.00</td>\n",
              "      <td>1920x1080</td>\n",
              "      <td>NaN</td>\n",
              "      <td>0.0</td>\n",
              "      <td>2.5</td>\n",
              "      <td>256.0</td>\n",
              "      <td>SSD</td>\n",
              "      <td>0.0</td>\n",
              "      <td>NaN</td>\n",
              "    </tr>\n",
              "    <tr>\n",
              "      <th>3</th>\n",
              "      <td>Apple</td>\n",
              "      <td>MacBook Pro</td>\n",
              "      <td>Ultrabook</td>\n",
              "      <td>15.4</td>\n",
              "      <td>Intel Core i7</td>\n",
              "      <td>16</td>\n",
              "      <td>AMD Radeon Pro 455</td>\n",
              "      <td>macOS</td>\n",
              "      <td>1.83</td>\n",
              "      <td>2537.45</td>\n",
              "      <td>2880x1800</td>\n",
              "      <td>IPSPanelRetinaDisplay</td>\n",
              "      <td>0.0</td>\n",
              "      <td>2.7</td>\n",
              "      <td>512.0</td>\n",
              "      <td>SSD</td>\n",
              "      <td>0.0</td>\n",
              "      <td>NaN</td>\n",
              "    </tr>\n",
              "    <tr>\n",
              "      <th>4</th>\n",
              "      <td>Apple</td>\n",
              "      <td>MacBook Pro</td>\n",
              "      <td>Ultrabook</td>\n",
              "      <td>13.3</td>\n",
              "      <td>Intel Core i5</td>\n",
              "      <td>8</td>\n",
              "      <td>Intel Iris Plus Graphics 650</td>\n",
              "      <td>macOS</td>\n",
              "      <td>1.37</td>\n",
              "      <td>1803.60</td>\n",
              "      <td>2560x1600</td>\n",
              "      <td>IPSPanelRetinaDisplay</td>\n",
              "      <td>0.0</td>\n",
              "      <td>3.1</td>\n",
              "      <td>256.0</td>\n",
              "      <td>SSD</td>\n",
              "      <td>0.0</td>\n",
              "      <td>NaN</td>\n",
              "    </tr>\n",
              "  </tbody>\n",
              "</table>\n",
              "</div>\n",
              "      <button class=\"colab-df-convert\" onclick=\"convertToInteractive('df-2880e5f5-9657-478a-9a97-501ba2d5c013')\"\n",
              "              title=\"Convert this dataframe to an interactive table.\"\n",
              "              style=\"display:none;\">\n",
              "        \n",
              "  <svg xmlns=\"http://www.w3.org/2000/svg\" height=\"24px\"viewBox=\"0 0 24 24\"\n",
              "       width=\"24px\">\n",
              "    <path d=\"M0 0h24v24H0V0z\" fill=\"none\"/>\n",
              "    <path d=\"M18.56 5.44l.94 2.06.94-2.06 2.06-.94-2.06-.94-.94-2.06-.94 2.06-2.06.94zm-11 1L8.5 8.5l.94-2.06 2.06-.94-2.06-.94L8.5 2.5l-.94 2.06-2.06.94zm10 10l.94 2.06.94-2.06 2.06-.94-2.06-.94-.94-2.06-.94 2.06-2.06.94z\"/><path d=\"M17.41 7.96l-1.37-1.37c-.4-.4-.92-.59-1.43-.59-.52 0-1.04.2-1.43.59L10.3 9.45l-7.72 7.72c-.78.78-.78 2.05 0 2.83L4 21.41c.39.39.9.59 1.41.59.51 0 1.02-.2 1.41-.59l7.78-7.78 2.81-2.81c.8-.78.8-2.07 0-2.86zM5.41 20L4 18.59l7.72-7.72 1.47 1.35L5.41 20z\"/>\n",
              "  </svg>\n",
              "      </button>\n",
              "      \n",
              "  <style>\n",
              "    .colab-df-container {\n",
              "      display:flex;\n",
              "      flex-wrap:wrap;\n",
              "      gap: 12px;\n",
              "    }\n",
              "\n",
              "    .colab-df-convert {\n",
              "      background-color: #E8F0FE;\n",
              "      border: none;\n",
              "      border-radius: 50%;\n",
              "      cursor: pointer;\n",
              "      display: none;\n",
              "      fill: #1967D2;\n",
              "      height: 32px;\n",
              "      padding: 0 0 0 0;\n",
              "      width: 32px;\n",
              "    }\n",
              "\n",
              "    .colab-df-convert:hover {\n",
              "      background-color: #E2EBFA;\n",
              "      box-shadow: 0px 1px 2px rgba(60, 64, 67, 0.3), 0px 1px 3px 1px rgba(60, 64, 67, 0.15);\n",
              "      fill: #174EA6;\n",
              "    }\n",
              "\n",
              "    [theme=dark] .colab-df-convert {\n",
              "      background-color: #3B4455;\n",
              "      fill: #D2E3FC;\n",
              "    }\n",
              "\n",
              "    [theme=dark] .colab-df-convert:hover {\n",
              "      background-color: #434B5C;\n",
              "      box-shadow: 0px 1px 3px 1px rgba(0, 0, 0, 0.15);\n",
              "      filter: drop-shadow(0px 1px 2px rgba(0, 0, 0, 0.3));\n",
              "      fill: #FFFFFF;\n",
              "    }\n",
              "  </style>\n",
              "\n",
              "      <script>\n",
              "        const buttonEl =\n",
              "          document.querySelector('#df-2880e5f5-9657-478a-9a97-501ba2d5c013 button.colab-df-convert');\n",
              "        buttonEl.style.display =\n",
              "          google.colab.kernel.accessAllowed ? 'block' : 'none';\n",
              "\n",
              "        async function convertToInteractive(key) {\n",
              "          const element = document.querySelector('#df-2880e5f5-9657-478a-9a97-501ba2d5c013');\n",
              "          const dataTable =\n",
              "            await google.colab.kernel.invokeFunction('convertToInteractive',\n",
              "                                                     [key], {});\n",
              "          if (!dataTable) return;\n",
              "\n",
              "          const docLinkHtml = 'Like what you see? Visit the ' +\n",
              "            '<a target=\"_blank\" href=https://colab.research.google.com/notebooks/data_table.ipynb>data table notebook</a>'\n",
              "            + ' to learn more about interactive tables.';\n",
              "          element.innerHTML = '';\n",
              "          dataTable['output_type'] = 'display_data';\n",
              "          await google.colab.output.renderOutput(dataTable, element);\n",
              "          const docLink = document.createElement('div');\n",
              "          docLink.innerHTML = docLinkHtml;\n",
              "          element.appendChild(docLink);\n",
              "        }\n",
              "      </script>\n",
              "    </div>\n",
              "  </div>\n",
              "  "
            ],
            "text/plain": [
              "  company      product   typename  inches                   cpu  ram(GB)  \\\n",
              "0   Apple  MacBook Pro  Ultrabook    13.3        Intel Core i5         8   \n",
              "1   Apple  Macbook Air  Ultrabook    13.3        Intel Core i5         8   \n",
              "2      HP       250 G6   Notebook    15.6  Intel Core i5 7200U         8   \n",
              "3   Apple  MacBook Pro  Ultrabook    15.4        Intel Core i7        16   \n",
              "4   Apple  MacBook Pro  Ultrabook    13.3        Intel Core i5         8   \n",
              "\n",
              "                            gpu  opsys  weight(kg)    price resolution  \\\n",
              "0  Intel Iris Plus Graphics 640  macOS        1.37  1339.69  2560x1600   \n",
              "1        Intel HD Graphics 6000  macOS        1.34   898.94   1440x900   \n",
              "2         Intel HD Graphics 620  No OS        1.86   575.00  1920x1080   \n",
              "3            AMD Radeon Pro 455  macOS        1.83  2537.45  2880x1800   \n",
              "4  Intel Iris Plus Graphics 650  macOS        1.37  1803.60  2560x1600   \n",
              "\n",
              "              screentype  touchscreen  cpu_freq(GHz)  memory_1_sto(GB)  \\\n",
              "0  IPSPanelRetinaDisplay          0.0            2.3             128.0   \n",
              "1                    NaN          0.0            1.8             128.0   \n",
              "2                    NaN          0.0            2.5             256.0   \n",
              "3  IPSPanelRetinaDisplay          0.0            2.7             512.0   \n",
              "4  IPSPanelRetinaDisplay          0.0            3.1             256.0   \n",
              "\n",
              "  memory_1_type  memory_2_sto(GB) memory_2_type  \n",
              "0           SSD               0.0           NaN  \n",
              "1  FlashStorage               0.0           NaN  \n",
              "2           SSD               0.0           NaN  \n",
              "3           SSD               0.0           NaN  \n",
              "4           SSD               0.0           NaN  "
            ]
          },
          "execution_count": 275,
          "metadata": {},
          "output_type": "execute_result"
        }
      ],
      "source": [
        "df.head()"
      ]
    },
    {
      "cell_type": "markdown",
      "metadata": {
        "id": "2a-_FETsRj6N"
      },
      "source": [
        "## CPU & GPU Manifacturing Companies"
      ]
    },
    {
      "cell_type": "code",
      "execution_count": null,
      "metadata": {
        "colab": {
          "base_uri": "https://localhost:8080/"
        },
        "id": "ZqEfqw-blMQ7",
        "outputId": "fa8e9f76-869f-42dd-e017-97baa8dba7f6"
      },
      "outputs": [
        {
          "data": {
            "text/plain": [
              "Intel      1240\n",
              "AMD          62\n",
              "Samsung       1\n",
              "Name: cpu_brand, dtype: int64"
            ]
          },
          "execution_count": 276,
          "metadata": {},
          "output_type": "execute_result"
        }
      ],
      "source": [
        "df['cpu_brand'] = df['cpu'].str.extract(r'^(\\w+)')\n",
        "df['cpu_brand'].value_counts()"
      ]
    },
    {
      "cell_type": "code",
      "execution_count": null,
      "metadata": {
        "colab": {
          "base_uri": "https://localhost:8080/",
          "height": 177
        },
        "id": "AuUYioo1lMOj",
        "outputId": "be8e7221-7f86-4e92-fe5c-d13d25a8ad91"
      },
      "outputs": [
        {
          "data": {
            "text/html": [
              "\n",
              "  <div id=\"df-cf108648-d355-4204-972b-063d9528eebb\">\n",
              "    <div class=\"colab-df-container\">\n",
              "      <div>\n",
              "<style scoped>\n",
              "    .dataframe tbody tr th:only-of-type {\n",
              "        vertical-align: middle;\n",
              "    }\n",
              "\n",
              "    .dataframe tbody tr th {\n",
              "        vertical-align: top;\n",
              "    }\n",
              "\n",
              "    .dataframe thead th {\n",
              "        text-align: right;\n",
              "    }\n",
              "</style>\n",
              "<table border=\"1\" class=\"dataframe\">\n",
              "  <thead>\n",
              "    <tr style=\"text-align: right;\">\n",
              "      <th></th>\n",
              "      <th>company</th>\n",
              "      <th>product</th>\n",
              "      <th>typename</th>\n",
              "      <th>inches</th>\n",
              "      <th>cpu</th>\n",
              "      <th>ram(GB)</th>\n",
              "      <th>gpu</th>\n",
              "      <th>opsys</th>\n",
              "      <th>weight(kg)</th>\n",
              "      <th>price</th>\n",
              "      <th>resolution</th>\n",
              "      <th>screentype</th>\n",
              "      <th>touchscreen</th>\n",
              "      <th>cpu_freq(GHz)</th>\n",
              "      <th>memory_1_sto(GB)</th>\n",
              "      <th>memory_1_type</th>\n",
              "      <th>memory_2_sto(GB)</th>\n",
              "      <th>memory_2_type</th>\n",
              "      <th>cpu_brand</th>\n",
              "    </tr>\n",
              "  </thead>\n",
              "  <tbody>\n",
              "    <tr>\n",
              "      <th>1191</th>\n",
              "      <td>Samsung</td>\n",
              "      <td>Chromebook Plus</td>\n",
              "      <td>2 in 1 Convertible</td>\n",
              "      <td>12.3</td>\n",
              "      <td>Samsung Cortex A72&amp;A53</td>\n",
              "      <td>4</td>\n",
              "      <td>ARM Mali T860 MP4</td>\n",
              "      <td>Chrome OS</td>\n",
              "      <td>1.15</td>\n",
              "      <td>659.0</td>\n",
              "      <td>2400x1600</td>\n",
              "      <td>IPSPanel</td>\n",
              "      <td>1.0</td>\n",
              "      <td>2.0</td>\n",
              "      <td>32.0</td>\n",
              "      <td>FlashStorage</td>\n",
              "      <td>0.0</td>\n",
              "      <td>NaN</td>\n",
              "      <td>Samsung</td>\n",
              "    </tr>\n",
              "  </tbody>\n",
              "</table>\n",
              "</div>\n",
              "      <button class=\"colab-df-convert\" onclick=\"convertToInteractive('df-cf108648-d355-4204-972b-063d9528eebb')\"\n",
              "              title=\"Convert this dataframe to an interactive table.\"\n",
              "              style=\"display:none;\">\n",
              "        \n",
              "  <svg xmlns=\"http://www.w3.org/2000/svg\" height=\"24px\"viewBox=\"0 0 24 24\"\n",
              "       width=\"24px\">\n",
              "    <path d=\"M0 0h24v24H0V0z\" fill=\"none\"/>\n",
              "    <path d=\"M18.56 5.44l.94 2.06.94-2.06 2.06-.94-2.06-.94-.94-2.06-.94 2.06-2.06.94zm-11 1L8.5 8.5l.94-2.06 2.06-.94-2.06-.94L8.5 2.5l-.94 2.06-2.06.94zm10 10l.94 2.06.94-2.06 2.06-.94-2.06-.94-.94-2.06-.94 2.06-2.06.94z\"/><path d=\"M17.41 7.96l-1.37-1.37c-.4-.4-.92-.59-1.43-.59-.52 0-1.04.2-1.43.59L10.3 9.45l-7.72 7.72c-.78.78-.78 2.05 0 2.83L4 21.41c.39.39.9.59 1.41.59.51 0 1.02-.2 1.41-.59l7.78-7.78 2.81-2.81c.8-.78.8-2.07 0-2.86zM5.41 20L4 18.59l7.72-7.72 1.47 1.35L5.41 20z\"/>\n",
              "  </svg>\n",
              "      </button>\n",
              "      \n",
              "  <style>\n",
              "    .colab-df-container {\n",
              "      display:flex;\n",
              "      flex-wrap:wrap;\n",
              "      gap: 12px;\n",
              "    }\n",
              "\n",
              "    .colab-df-convert {\n",
              "      background-color: #E8F0FE;\n",
              "      border: none;\n",
              "      border-radius: 50%;\n",
              "      cursor: pointer;\n",
              "      display: none;\n",
              "      fill: #1967D2;\n",
              "      height: 32px;\n",
              "      padding: 0 0 0 0;\n",
              "      width: 32px;\n",
              "    }\n",
              "\n",
              "    .colab-df-convert:hover {\n",
              "      background-color: #E2EBFA;\n",
              "      box-shadow: 0px 1px 2px rgba(60, 64, 67, 0.3), 0px 1px 3px 1px rgba(60, 64, 67, 0.15);\n",
              "      fill: #174EA6;\n",
              "    }\n",
              "\n",
              "    [theme=dark] .colab-df-convert {\n",
              "      background-color: #3B4455;\n",
              "      fill: #D2E3FC;\n",
              "    }\n",
              "\n",
              "    [theme=dark] .colab-df-convert:hover {\n",
              "      background-color: #434B5C;\n",
              "      box-shadow: 0px 1px 3px 1px rgba(0, 0, 0, 0.15);\n",
              "      filter: drop-shadow(0px 1px 2px rgba(0, 0, 0, 0.3));\n",
              "      fill: #FFFFFF;\n",
              "    }\n",
              "  </style>\n",
              "\n",
              "      <script>\n",
              "        const buttonEl =\n",
              "          document.querySelector('#df-cf108648-d355-4204-972b-063d9528eebb button.colab-df-convert');\n",
              "        buttonEl.style.display =\n",
              "          google.colab.kernel.accessAllowed ? 'block' : 'none';\n",
              "\n",
              "        async function convertToInteractive(key) {\n",
              "          const element = document.querySelector('#df-cf108648-d355-4204-972b-063d9528eebb');\n",
              "          const dataTable =\n",
              "            await google.colab.kernel.invokeFunction('convertToInteractive',\n",
              "                                                     [key], {});\n",
              "          if (!dataTable) return;\n",
              "\n",
              "          const docLinkHtml = 'Like what you see? Visit the ' +\n",
              "            '<a target=\"_blank\" href=https://colab.research.google.com/notebooks/data_table.ipynb>data table notebook</a>'\n",
              "            + ' to learn more about interactive tables.';\n",
              "          element.innerHTML = '';\n",
              "          dataTable['output_type'] = 'display_data';\n",
              "          await google.colab.output.renderOutput(dataTable, element);\n",
              "          const docLink = document.createElement('div');\n",
              "          docLink.innerHTML = docLinkHtml;\n",
              "          element.appendChild(docLink);\n",
              "        }\n",
              "      </script>\n",
              "    </div>\n",
              "  </div>\n",
              "  "
            ],
            "text/plain": [
              "      company          product            typename  inches  \\\n",
              "1191  Samsung  Chromebook Plus  2 in 1 Convertible    12.3   \n",
              "\n",
              "                          cpu  ram(GB)                gpu      opsys  \\\n",
              "1191  Samsung Cortex A72&A53         4  ARM Mali T860 MP4  Chrome OS   \n",
              "\n",
              "      weight(kg)  price resolution screentype  touchscreen  cpu_freq(GHz)  \\\n",
              "1191        1.15  659.0  2400x1600   IPSPanel          1.0            2.0   \n",
              "\n",
              "      memory_1_sto(GB) memory_1_type  memory_2_sto(GB) memory_2_type cpu_brand  \n",
              "1191              32.0  FlashStorage               0.0           NaN   Samsung  "
            ]
          },
          "execution_count": 277,
          "metadata": {},
          "output_type": "execute_result"
        }
      ],
      "source": [
        "df[df['cpu_brand'] == 'Samsung']"
      ]
    },
    {
      "cell_type": "code",
      "execution_count": null,
      "metadata": {
        "id": "x53YdaOclMLr"
      },
      "outputs": [],
      "source": [
        "df = df.drop(1191)"
      ]
    },
    {
      "cell_type": "code",
      "execution_count": null,
      "metadata": {
        "colab": {
          "base_uri": "https://localhost:8080/"
        },
        "id": "hYvcWYtPlMJM",
        "outputId": "57fd6e25-1f07-4d23-a577-732b56e78d67"
      },
      "outputs": [
        {
          "data": {
            "text/plain": [
              "Intel     722\n",
              "Nvidia    400\n",
              "AMD       180\n",
              "Name: gpu_brand, dtype: int64"
            ]
          },
          "execution_count": 279,
          "metadata": {},
          "output_type": "execute_result"
        }
      ],
      "source": [
        "df['gpu_brand'] = df['gpu'].str.extract(r'^(\\w+)')\n",
        "df['gpu_brand'].value_counts()"
      ]
    },
    {
      "cell_type": "code",
      "execution_count": null,
      "metadata": {
        "colab": {
          "base_uri": "https://localhost:8080/"
        },
        "id": "b6VZKMbjlMGV",
        "outputId": "c53342b9-c4fb-4365-f9d1-87cd3540f6cd"
      },
      "outputs": [
        {
          "name": "stdout",
          "output_type": "stream",
          "text": [
            "<class 'pandas.core.frame.DataFrame'>\n",
            "Int64Index: 1302 entries, 0 to 1302\n",
            "Data columns (total 20 columns):\n",
            " #   Column            Non-Null Count  Dtype  \n",
            "---  ------            --------------  -----  \n",
            " 0   company           1302 non-null   object \n",
            " 1   product           1302 non-null   object \n",
            " 2   typename          1302 non-null   object \n",
            " 3   inches            1302 non-null   float64\n",
            " 4   cpu               1302 non-null   object \n",
            " 5   ram(GB)           1302 non-null   int64  \n",
            " 6   gpu               1302 non-null   object \n",
            " 7   opsys             1302 non-null   object \n",
            " 8   weight(kg)        1302 non-null   float64\n",
            " 9   price             1302 non-null   float64\n",
            " 10  resolution        1302 non-null   object \n",
            " 11  screentype        364 non-null    object \n",
            " 12  touchscreen       1302 non-null   float64\n",
            " 13  cpu_freq(GHz)     1302 non-null   float64\n",
            " 14  memory_1_sto(GB)  1302 non-null   float64\n",
            " 15  memory_1_type     1302 non-null   object \n",
            " 16  memory_2_sto(GB)  1302 non-null   float64\n",
            " 17  memory_2_type     208 non-null    object \n",
            " 18  cpu_brand         1302 non-null   object \n",
            " 19  gpu_brand         1302 non-null   object \n",
            "dtypes: float64(7), int64(1), object(12)\n",
            "memory usage: 213.6+ KB\n"
          ]
        }
      ],
      "source": [
        "df.info()"
      ]
    },
    {
      "cell_type": "markdown",
      "metadata": {
        "id": "GFdgDNZqY0OC"
      },
      "source": [
        "Now the dataset looks clean and ready to be explored"
      ]
    },
    {
      "cell_type": "code",
      "execution_count": null,
      "metadata": {
        "id": "v7WXzk10Y4lT"
      },
      "outputs": [],
      "source": [
        "df.to_csv('[Cleaned]Laptop_Price.csv', index=False)"
      ]
    },
    {
      "cell_type": "markdown",
      "metadata": {
        "id": "Ofz4iWPuPMaO"
      },
      "source": [
        "# Exploratory Data Analysis (EDA)"
      ]
    },
    {
      "cell_type": "markdown",
      "metadata": {
        "id": "mPLB3DFiZ_dA"
      },
      "source": [
        "## Load Cleaned Dataset"
      ]
    },
    {
      "cell_type": "code",
      "execution_count": null,
      "metadata": {
        "colab": {
          "base_uri": "https://localhost:8080/",
          "height": 496
        },
        "id": "6d2QEkMYlPqk",
        "outputId": "d095cf7e-b374-45c8-e360-20b1c2c93e2d"
      },
      "outputs": [
        {
          "data": {
            "text/html": [
              "\n",
              "  <div id=\"df-f351e51e-ffd1-4a99-be13-550f2b131fc5\">\n",
              "    <div class=\"colab-df-container\">\n",
              "      <div>\n",
              "<style scoped>\n",
              "    .dataframe tbody tr th:only-of-type {\n",
              "        vertical-align: middle;\n",
              "    }\n",
              "\n",
              "    .dataframe tbody tr th {\n",
              "        vertical-align: top;\n",
              "    }\n",
              "\n",
              "    .dataframe thead th {\n",
              "        text-align: right;\n",
              "    }\n",
              "</style>\n",
              "<table border=\"1\" class=\"dataframe\">\n",
              "  <thead>\n",
              "    <tr style=\"text-align: right;\">\n",
              "      <th></th>\n",
              "      <th>company</th>\n",
              "      <th>product</th>\n",
              "      <th>typename</th>\n",
              "      <th>inches</th>\n",
              "      <th>cpu</th>\n",
              "      <th>ram(GB)</th>\n",
              "      <th>gpu</th>\n",
              "      <th>opsys</th>\n",
              "      <th>weight(kg)</th>\n",
              "      <th>price</th>\n",
              "      <th>resolution</th>\n",
              "      <th>screentype</th>\n",
              "      <th>touchscreen</th>\n",
              "      <th>cpu_freq(GHz)</th>\n",
              "      <th>memory_1_sto(GB)</th>\n",
              "      <th>memory_1_type</th>\n",
              "      <th>memory_2_sto(GB)</th>\n",
              "      <th>memory_2_type</th>\n",
              "      <th>cpu_brand</th>\n",
              "      <th>gpu_brand</th>\n",
              "    </tr>\n",
              "  </thead>\n",
              "  <tbody>\n",
              "    <tr>\n",
              "      <th>0</th>\n",
              "      <td>Apple</td>\n",
              "      <td>MacBook Pro</td>\n",
              "      <td>Ultrabook</td>\n",
              "      <td>13.3</td>\n",
              "      <td>Intel Core i5</td>\n",
              "      <td>8</td>\n",
              "      <td>Intel Iris Plus Graphics 640</td>\n",
              "      <td>macOS</td>\n",
              "      <td>1.37</td>\n",
              "      <td>1339.69</td>\n",
              "      <td>2560x1600</td>\n",
              "      <td>IPSPanelRetinaDisplay</td>\n",
              "      <td>0.0</td>\n",
              "      <td>2.3</td>\n",
              "      <td>128.0</td>\n",
              "      <td>SSD</td>\n",
              "      <td>0.0</td>\n",
              "      <td>NaN</td>\n",
              "      <td>Intel</td>\n",
              "      <td>Intel</td>\n",
              "    </tr>\n",
              "    <tr>\n",
              "      <th>1</th>\n",
              "      <td>Apple</td>\n",
              "      <td>Macbook Air</td>\n",
              "      <td>Ultrabook</td>\n",
              "      <td>13.3</td>\n",
              "      <td>Intel Core i5</td>\n",
              "      <td>8</td>\n",
              "      <td>Intel HD Graphics 6000</td>\n",
              "      <td>macOS</td>\n",
              "      <td>1.34</td>\n",
              "      <td>898.94</td>\n",
              "      <td>1440x900</td>\n",
              "      <td>NaN</td>\n",
              "      <td>0.0</td>\n",
              "      <td>1.8</td>\n",
              "      <td>128.0</td>\n",
              "      <td>FlashStorage</td>\n",
              "      <td>0.0</td>\n",
              "      <td>NaN</td>\n",
              "      <td>Intel</td>\n",
              "      <td>Intel</td>\n",
              "    </tr>\n",
              "    <tr>\n",
              "      <th>2</th>\n",
              "      <td>HP</td>\n",
              "      <td>250 G6</td>\n",
              "      <td>Notebook</td>\n",
              "      <td>15.6</td>\n",
              "      <td>Intel Core i5 7200U</td>\n",
              "      <td>8</td>\n",
              "      <td>Intel HD Graphics 620</td>\n",
              "      <td>No OS</td>\n",
              "      <td>1.86</td>\n",
              "      <td>575.00</td>\n",
              "      <td>1920x1080</td>\n",
              "      <td>NaN</td>\n",
              "      <td>0.0</td>\n",
              "      <td>2.5</td>\n",
              "      <td>256.0</td>\n",
              "      <td>SSD</td>\n",
              "      <td>0.0</td>\n",
              "      <td>NaN</td>\n",
              "      <td>Intel</td>\n",
              "      <td>Intel</td>\n",
              "    </tr>\n",
              "    <tr>\n",
              "      <th>3</th>\n",
              "      <td>Apple</td>\n",
              "      <td>MacBook Pro</td>\n",
              "      <td>Ultrabook</td>\n",
              "      <td>15.4</td>\n",
              "      <td>Intel Core i7</td>\n",
              "      <td>16</td>\n",
              "      <td>AMD Radeon Pro 455</td>\n",
              "      <td>macOS</td>\n",
              "      <td>1.83</td>\n",
              "      <td>2537.45</td>\n",
              "      <td>2880x1800</td>\n",
              "      <td>IPSPanelRetinaDisplay</td>\n",
              "      <td>0.0</td>\n",
              "      <td>2.7</td>\n",
              "      <td>512.0</td>\n",
              "      <td>SSD</td>\n",
              "      <td>0.0</td>\n",
              "      <td>NaN</td>\n",
              "      <td>Intel</td>\n",
              "      <td>AMD</td>\n",
              "    </tr>\n",
              "    <tr>\n",
              "      <th>4</th>\n",
              "      <td>Apple</td>\n",
              "      <td>MacBook Pro</td>\n",
              "      <td>Ultrabook</td>\n",
              "      <td>13.3</td>\n",
              "      <td>Intel Core i5</td>\n",
              "      <td>8</td>\n",
              "      <td>Intel Iris Plus Graphics 650</td>\n",
              "      <td>macOS</td>\n",
              "      <td>1.37</td>\n",
              "      <td>1803.60</td>\n",
              "      <td>2560x1600</td>\n",
              "      <td>IPSPanelRetinaDisplay</td>\n",
              "      <td>0.0</td>\n",
              "      <td>3.1</td>\n",
              "      <td>256.0</td>\n",
              "      <td>SSD</td>\n",
              "      <td>0.0</td>\n",
              "      <td>NaN</td>\n",
              "      <td>Intel</td>\n",
              "      <td>Intel</td>\n",
              "    </tr>\n",
              "  </tbody>\n",
              "</table>\n",
              "</div>\n",
              "      <button class=\"colab-df-convert\" onclick=\"convertToInteractive('df-f351e51e-ffd1-4a99-be13-550f2b131fc5')\"\n",
              "              title=\"Convert this dataframe to an interactive table.\"\n",
              "              style=\"display:none;\">\n",
              "        \n",
              "  <svg xmlns=\"http://www.w3.org/2000/svg\" height=\"24px\"viewBox=\"0 0 24 24\"\n",
              "       width=\"24px\">\n",
              "    <path d=\"M0 0h24v24H0V0z\" fill=\"none\"/>\n",
              "    <path d=\"M18.56 5.44l.94 2.06.94-2.06 2.06-.94-2.06-.94-.94-2.06-.94 2.06-2.06.94zm-11 1L8.5 8.5l.94-2.06 2.06-.94-2.06-.94L8.5 2.5l-.94 2.06-2.06.94zm10 10l.94 2.06.94-2.06 2.06-.94-2.06-.94-.94-2.06-.94 2.06-2.06.94z\"/><path d=\"M17.41 7.96l-1.37-1.37c-.4-.4-.92-.59-1.43-.59-.52 0-1.04.2-1.43.59L10.3 9.45l-7.72 7.72c-.78.78-.78 2.05 0 2.83L4 21.41c.39.39.9.59 1.41.59.51 0 1.02-.2 1.41-.59l7.78-7.78 2.81-2.81c.8-.78.8-2.07 0-2.86zM5.41 20L4 18.59l7.72-7.72 1.47 1.35L5.41 20z\"/>\n",
              "  </svg>\n",
              "      </button>\n",
              "      \n",
              "  <style>\n",
              "    .colab-df-container {\n",
              "      display:flex;\n",
              "      flex-wrap:wrap;\n",
              "      gap: 12px;\n",
              "    }\n",
              "\n",
              "    .colab-df-convert {\n",
              "      background-color: #E8F0FE;\n",
              "      border: none;\n",
              "      border-radius: 50%;\n",
              "      cursor: pointer;\n",
              "      display: none;\n",
              "      fill: #1967D2;\n",
              "      height: 32px;\n",
              "      padding: 0 0 0 0;\n",
              "      width: 32px;\n",
              "    }\n",
              "\n",
              "    .colab-df-convert:hover {\n",
              "      background-color: #E2EBFA;\n",
              "      box-shadow: 0px 1px 2px rgba(60, 64, 67, 0.3), 0px 1px 3px 1px rgba(60, 64, 67, 0.15);\n",
              "      fill: #174EA6;\n",
              "    }\n",
              "\n",
              "    [theme=dark] .colab-df-convert {\n",
              "      background-color: #3B4455;\n",
              "      fill: #D2E3FC;\n",
              "    }\n",
              "\n",
              "    [theme=dark] .colab-df-convert:hover {\n",
              "      background-color: #434B5C;\n",
              "      box-shadow: 0px 1px 3px 1px rgba(0, 0, 0, 0.15);\n",
              "      filter: drop-shadow(0px 1px 2px rgba(0, 0, 0, 0.3));\n",
              "      fill: #FFFFFF;\n",
              "    }\n",
              "  </style>\n",
              "\n",
              "      <script>\n",
              "        const buttonEl =\n",
              "          document.querySelector('#df-f351e51e-ffd1-4a99-be13-550f2b131fc5 button.colab-df-convert');\n",
              "        buttonEl.style.display =\n",
              "          google.colab.kernel.accessAllowed ? 'block' : 'none';\n",
              "\n",
              "        async function convertToInteractive(key) {\n",
              "          const element = document.querySelector('#df-f351e51e-ffd1-4a99-be13-550f2b131fc5');\n",
              "          const dataTable =\n",
              "            await google.colab.kernel.invokeFunction('convertToInteractive',\n",
              "                                                     [key], {});\n",
              "          if (!dataTable) return;\n",
              "\n",
              "          const docLinkHtml = 'Like what you see? Visit the ' +\n",
              "            '<a target=\"_blank\" href=https://colab.research.google.com/notebooks/data_table.ipynb>data table notebook</a>'\n",
              "            + ' to learn more about interactive tables.';\n",
              "          element.innerHTML = '';\n",
              "          dataTable['output_type'] = 'display_data';\n",
              "          await google.colab.output.renderOutput(dataTable, element);\n",
              "          const docLink = document.createElement('div');\n",
              "          docLink.innerHTML = docLinkHtml;\n",
              "          element.appendChild(docLink);\n",
              "        }\n",
              "      </script>\n",
              "    </div>\n",
              "  </div>\n",
              "  "
            ],
            "text/plain": [
              "  company      product   typename  inches                   cpu  ram(GB)  \\\n",
              "0   Apple  MacBook Pro  Ultrabook    13.3        Intel Core i5         8   \n",
              "1   Apple  Macbook Air  Ultrabook    13.3        Intel Core i5         8   \n",
              "2      HP       250 G6   Notebook    15.6  Intel Core i5 7200U         8   \n",
              "3   Apple  MacBook Pro  Ultrabook    15.4        Intel Core i7        16   \n",
              "4   Apple  MacBook Pro  Ultrabook    13.3        Intel Core i5         8   \n",
              "\n",
              "                            gpu  opsys  weight(kg)    price resolution  \\\n",
              "0  Intel Iris Plus Graphics 640  macOS        1.37  1339.69  2560x1600   \n",
              "1        Intel HD Graphics 6000  macOS        1.34   898.94   1440x900   \n",
              "2         Intel HD Graphics 620  No OS        1.86   575.00  1920x1080   \n",
              "3            AMD Radeon Pro 455  macOS        1.83  2537.45  2880x1800   \n",
              "4  Intel Iris Plus Graphics 650  macOS        1.37  1803.60  2560x1600   \n",
              "\n",
              "              screentype  touchscreen  cpu_freq(GHz)  memory_1_sto(GB)  \\\n",
              "0  IPSPanelRetinaDisplay          0.0            2.3             128.0   \n",
              "1                    NaN          0.0            1.8             128.0   \n",
              "2                    NaN          0.0            2.5             256.0   \n",
              "3  IPSPanelRetinaDisplay          0.0            2.7             512.0   \n",
              "4  IPSPanelRetinaDisplay          0.0            3.1             256.0   \n",
              "\n",
              "  memory_1_type  memory_2_sto(GB) memory_2_type cpu_brand gpu_brand  \n",
              "0           SSD               0.0           NaN     Intel     Intel  \n",
              "1  FlashStorage               0.0           NaN     Intel     Intel  \n",
              "2           SSD               0.0           NaN     Intel     Intel  \n",
              "3           SSD               0.0           NaN     Intel       AMD  \n",
              "4           SSD               0.0           NaN     Intel     Intel  "
            ]
          },
          "execution_count": 282,
          "metadata": {},
          "output_type": "execute_result"
        }
      ],
      "source": [
        "df1 = pd.read_csv('[Cleaned]Laptop_Price.csv')\n",
        "df1.head()"
      ]
    },
    {
      "cell_type": "code",
      "execution_count": null,
      "metadata": {
        "id": "Y3fyaOjhlPot"
      },
      "outputs": [],
      "source": [
        "df_clean = df1.copy()"
      ]
    },
    {
      "cell_type": "code",
      "execution_count": null,
      "metadata": {
        "colab": {
          "base_uri": "https://localhost:8080/"
        },
        "id": "Z_Mpsho-lPmE",
        "outputId": "3d5f9331-e641-4eed-a5b0-899f5516e9c4"
      },
      "outputs": [
        {
          "name": "stdout",
          "output_type": "stream",
          "text": [
            "<class 'pandas.core.frame.DataFrame'>\n",
            "RangeIndex: 1302 entries, 0 to 1301\n",
            "Data columns (total 20 columns):\n",
            " #   Column            Non-Null Count  Dtype  \n",
            "---  ------            --------------  -----  \n",
            " 0   company           1302 non-null   object \n",
            " 1   product           1302 non-null   object \n",
            " 2   typename          1302 non-null   object \n",
            " 3   inches            1302 non-null   float64\n",
            " 4   cpu               1302 non-null   object \n",
            " 5   ram(GB)           1302 non-null   int64  \n",
            " 6   gpu               1302 non-null   object \n",
            " 7   opsys             1302 non-null   object \n",
            " 8   weight(kg)        1302 non-null   float64\n",
            " 9   price             1302 non-null   float64\n",
            " 10  resolution        1302 non-null   object \n",
            " 11  screentype        364 non-null    object \n",
            " 12  touchscreen       1302 non-null   float64\n",
            " 13  cpu_freq(GHz)     1302 non-null   float64\n",
            " 14  memory_1_sto(GB)  1302 non-null   float64\n",
            " 15  memory_1_type     1302 non-null   object \n",
            " 16  memory_2_sto(GB)  1302 non-null   float64\n",
            " 17  memory_2_type     208 non-null    object \n",
            " 18  cpu_brand         1302 non-null   object \n",
            " 19  gpu_brand         1302 non-null   object \n",
            "dtypes: float64(7), int64(1), object(12)\n",
            "memory usage: 203.6+ KB\n"
          ]
        }
      ],
      "source": [
        "df1.info()"
      ]
    },
    {
      "cell_type": "markdown",
      "metadata": {
        "id": "HCZNT5Kgabig"
      },
      "source": [
        "## Custom functions to improve plot readability"
      ]
    },
    {
      "cell_type": "code",
      "execution_count": null,
      "metadata": {
        "id": "aVjEbs27R6uk"
      },
      "outputs": [],
      "source": [
        "def num_plot(df, col, title, symb):\n",
        "    fig, ax = plt.subplots(2, 1, sharex=True, figsize=(8,5),gridspec_kw={\"height_ratios\": (.2, .8)})\n",
        "    ax[0].set_title(title,fontsize=18)\n",
        "    sns.boxplot(x=col, data=df, ax=ax[0])\n",
        "    ax[0].set(yticks=[])\n",
        "    sns.histplot(x=col, data=df, ax=ax[1])\n",
        "    ax[1].set_xlabel(col, fontsize=16)\n",
        "    plt.axvline(df[col].mean(), color='darkgreen', linewidth=2.2, label='mean=' + str(np.round(df[col].mean(),1)) + symb)\n",
        "    plt.axvline(df[col].median(), color='red', linewidth=2.2, label='median='+ str(np.round(df[col].median(),1)) + symb)\n",
        "    plt.axvline(df[col].mode()[0], color='purple', linewidth=2.2, label='mode='+ str(df[col].mode()[0]) + symb)\n",
        "    plt.legend(bbox_to_anchor=(1, 1.03), ncol=1, fontsize=17, fancybox=True, shadow=True, frameon=True)\n",
        "    plt.tight_layout()\n",
        "    plt.show()"
      ]
    },
    {
      "cell_type": "markdown",
      "metadata": {
        "id": "N2MmmIFLa62y"
      },
      "source": [
        "## Which brand is the most frequent in the dataframe?"
      ]
    },
    {
      "cell_type": "code",
      "execution_count": null,
      "metadata": {
        "colab": {
          "base_uri": "https://localhost:8080/"
        },
        "id": "XNxQlRcdlR6U",
        "outputId": "3db1712b-2c68-4555-8bba-91b65ac9fcff"
      },
      "outputs": [
        {
          "data": {
            "text/plain": [
              "Dell         297\n",
              "Lenovo       297\n",
              "HP           274\n",
              "Asus         158\n",
              "Acer         103\n",
              "MSI           54\n",
              "Toshiba       48\n",
              "Apple         21\n",
              "Samsung        8\n",
              "Razer          7\n",
              "Mediacom       7\n",
              "Microsoft      6\n",
              "Xiaomi         4\n",
              "Vero           4\n",
              "Chuwi          3\n",
              "Google         3\n",
              "Fujitsu        3\n",
              "LG             3\n",
              "Huawei         2\n",
              "Name: company, dtype: int64"
            ]
          },
          "execution_count": 286,
          "metadata": {},
          "output_type": "execute_result"
        }
      ],
      "source": [
        "df['company'].value_counts()"
      ]
    },
    {
      "cell_type": "code",
      "execution_count": null,
      "metadata": {
        "colab": {
          "base_uri": "https://localhost:8080/",
          "height": 507
        },
        "id": "tq8s5pHKlR3d",
        "outputId": "69a0ba0b-6c4c-48ed-f0ea-7365308b2ee7"
      },
      "outputs": [
        {
          "data": {
            "image/png": "[encoded data removed]",
            "text/plain": [
              "<Figure size 1000x500 with 1 Axes>"
            ]
          },
          "metadata": {},
          "output_type": "display_data"
        }
      ],
      "source": [
        "fig, ax  = plt.subplots(figsize=(10,5))\n",
        "ax=sns.countplot(x='company', data=df, palette='mako_r', order = df['company'].value_counts().index)\n",
        "ax.set_xticklabels(ax.get_xticklabels(), rotation=80)\n",
        "ax.bar_label(ax.containers[0])\n",
        "plt.title('Number of laptops by brands')\n",
        "plt.show()"
      ]
    },
    {
      "cell_type": "markdown",
      "metadata": {
        "id": "SSobEkcFbL5J"
      },
      "source": [
        "## What type of laptop is the most frequent?"
      ]
    },
    {
      "cell_type": "code",
      "execution_count": null,
      "metadata": {
        "colab": {
          "base_uri": "https://localhost:8080/"
        },
        "id": "Ky1SYcA-R6pk",
        "outputId": "f7ed7442-db45-4ada-c862-dc5043699a40"
      },
      "outputs": [
        {
          "data": {
            "text/plain": [
              "Notebook              727\n",
              "Gaming                205\n",
              "Ultrabook             196\n",
              "2 in 1 Convertible    120\n",
              "Workstation            29\n",
              "Netbook                25\n",
              "Name: typename, dtype: int64"
            ]
          },
          "execution_count": 288,
          "metadata": {},
          "output_type": "execute_result"
        }
      ],
      "source": [
        "df['typename'].value_counts()"
      ]
    },
    {
      "cell_type": "code",
      "execution_count": null,
      "metadata": {
        "colab": {
          "base_uri": "https://localhost:8080/",
          "height": 507
        },
        "id": "uW_9_1cabZna",
        "outputId": "6dd0c7d2-8e2f-4b2b-a942-41c56435990e"
      },
      "outputs": [
        {
          "data": {
            "image/png": "[encoded data removed]",
            "text/plain": [
              "<Figure size 600x500 with 1 Axes>"
            ]
          },
          "metadata": {},
          "output_type": "display_data"
        }
      ],
      "source": [
        "fig, ax = plt.subplots(figsize=(6,5))\n",
        "ax=sns.countplot(x='typename', data=df, palette='mako_r', order=df['typename'].value_counts().index)\n",
        "ax.set_xticklabels(ax.get_xticklabels(), rotation=80);\n",
        "ax.bar_label(ax.containers[0])\n",
        "plt.title('Laptop types')\n",
        "plt.show()"
      ]
    },
    {
      "cell_type": "code",
      "execution_count": null,
      "metadata": {
        "colab": {
          "base_uri": "https://localhost:8080/"
        },
        "id": "DgiDGxW2_BVs",
        "outputId": "9c0dcef2-1d18-4216-bbeb-dcb1cc14c24e"
      },
      "outputs": [
        {
          "name": "stdout",
          "output_type": "stream",
          "text": [
            "Most laptops are notebooks, which make 55.84% of the total laptops\n"
          ]
        }
      ],
      "source": [
        "print('Most laptops are notebooks, which make {:.2f}% of the total laptops'.format(len(df[df['typename']=='Notebook'])*100/len(df)))"
      ]
    },
    {
      "cell_type": "markdown",
      "metadata": {
        "id": "IiFPrWWdbkw4"
      },
      "source": [
        "## Which size is the most popular?"
      ]
    },
    {
      "cell_type": "code",
      "execution_count": null,
      "metadata": {
        "colab": {
          "base_uri": "https://localhost:8080/",
          "height": 506
        },
        "id": "JC_vAmT0bfOp",
        "outputId": "be7572b3-4fe8-444b-e1fa-7cc63fe68796"
      },
      "outputs": [
        {
          "data": {
            "image/png": "[encoded data removed]",
            "text/plain": [
              "<Figure size 1000x500 with 1 Axes>"
            ]
          },
          "metadata": {},
          "output_type": "display_data"
        }
      ],
      "source": [
        "fig, ax = plt.subplots(figsize=(10,5))\n",
        "ax=sns.countplot(x='inches', data=df, palette='viridis_r')\n",
        "ax.set_xticklabels(ax.get_xticklabels(), rotation=80);\n",
        "ax.bar_label(ax.containers[0])\n",
        "plt.title('Laptop screen size (inches)')\n",
        "plt.show()"
      ]
    },
    {
      "cell_type": "code",
      "execution_count": null,
      "metadata": {
        "colab": {
          "base_uri": "https://localhost:8080/"
        },
        "id": "DnR9gG9IbxFD",
        "outputId": "db0ac8a2-28e9-4fdb-cbf0-0d12b40ed454"
      },
      "outputs": [
        {
          "name": "stdout",
          "output_type": "stream",
          "text": [
            "Most laptops have 15.6 inches, which make 51.08% of the total laptops\n"
          ]
        }
      ],
      "source": [
        "print('Most laptops have 15.6 inches, which make {:.2f}% of the total laptops'.format(len(df[df['inches']==15.6])*100/len(df)))"
      ]
    },
    {
      "cell_type": "code",
      "execution_count": null,
      "metadata": {
        "colab": {
          "base_uri": "https://localhost:8080/"
        },
        "id": "G6cWcuhalX70",
        "outputId": "e373fdb9-7655-41bb-d686-bd8246adc097"
      },
      "outputs": [
        {
          "data": {
            "text/plain": [
              "[15.6, 14.0, 13.3, 17.3, 12.5, 11.6]"
            ]
          },
          "execution_count": 293,
          "metadata": {},
          "output_type": "execute_result"
        }
      ],
      "source": [
        "inches_list = df['inches'].value_counts().index[:6].tolist()\n",
        "inches_list"
      ]
    },
    {
      "cell_type": "code",
      "execution_count": null,
      "metadata": {
        "id": "Nt6cDSkUlX5j"
      },
      "outputs": [],
      "source": [
        "df_clean = df_clean[df_clean['inches'].isin(inches_list)]"
      ]
    },
    {
      "cell_type": "code",
      "execution_count": null,
      "metadata": {
        "colab": {
          "base_uri": "https://localhost:8080/",
          "height": 506
        },
        "id": "HEsM8e20_gKb",
        "outputId": "574b4f95-b33f-4e01-f0eb-d7b0e26b99d3"
      },
      "outputs": [
        {
          "data": {
            "image/png": "[encoded data removed]",
            "text/plain": [
              "<Figure size 600x500 with 1 Axes>"
            ]
          },
          "metadata": {},
          "output_type": "display_data"
        }
      ],
      "source": [
        "fig, ax = plt.subplots(figsize=(6,5))\n",
        "ax=sns.countplot(x='inches', data=df_clean, palette='viridis_r')\n",
        "ax.set_xticklabels(ax.get_xticklabels(), rotation=80);\n",
        "ax.bar_label(ax.containers[0])\n",
        "plt.title('Laptop screen size (inches)')\n",
        "plt.show()"
      ]
    },
    {
      "cell_type": "code",
      "execution_count": null,
      "metadata": {
        "colab": {
          "base_uri": "https://localhost:8080/"
        },
        "id": "Ndv8ADKN_6nn",
        "outputId": "f9b148df-78d0-45f2-952f-d8ac1c97cecd"
      },
      "outputs": [
        {
          "name": "stdout",
          "output_type": "stream",
          "text": [
            "We removed 40 outliers!\n"
          ]
        }
      ],
      "source": [
        "print('We removed {} outliers!'.format(len(df)-len(df_clean)))"
      ]
    },
    {
      "cell_type": "markdown",
      "metadata": {
        "id": "yWyYeoNcdQFV"
      },
      "source": [
        "## How is weight distributed among the laptops?"
      ]
    },
    {
      "cell_type": "code",
      "execution_count": null,
      "metadata": {
        "colab": {
          "base_uri": "https://localhost:8080/",
          "height": 506
        },
        "id": "Y-NU36r-lY92",
        "outputId": "955d8dde-f2cb-43d5-c7be-85eca2711d13"
      },
      "outputs": [
        {
          "data": {
            "image/png": "[encoded data removed]",
            "text/plain": [
              "<Figure size 800x500 with 2 Axes>"
            ]
          },
          "metadata": {},
          "output_type": "display_data"
        }
      ],
      "source": [
        "num_plot(df_clean, 'weight(kg)', 'Weight Distribution','kg')"
      ]
    },
    {
      "cell_type": "markdown",
      "metadata": {
        "id": "TnY5TwRidnau"
      },
      "source": [
        "## How is price distributed among the laptops?"
      ]
    },
    {
      "cell_type": "code",
      "execution_count": null,
      "metadata": {
        "colab": {
          "base_uri": "https://localhost:8080/",
          "height": 506
        },
        "id": "Lv_9SWPPlcNc",
        "outputId": "c3db6545-59ed-4155-f262-0242ac92a246"
      },
      "outputs": [
        {
          "data": {
            "image/png": "[encoded data removed]",
            "text/plain": [
              "<Figure size 800x500 with 2 Axes>"
            ]
          },
          "metadata": {},
          "output_type": "display_data"
        }
      ],
      "source": [
        "num_plot(df_clean, 'price', 'Price Distribution','Eur')"
      ]
    },
    {
      "cell_type": "code",
      "execution_count": null,
      "metadata": {
        "colab": {
          "base_uri": "https://localhost:8080/",
          "height": 306
        },
        "id": "_qR8r3CYBfOD",
        "outputId": "d4f11aa0-fe73-48ec-f74f-280e6f358368"
      },
      "outputs": [
        {
          "data": {
            "image/png": "[encoded data removed]",
            "text/plain": [
              "<Figure size 500x300 with 1 Axes>"
            ]
          },
          "metadata": {},
          "output_type": "display_data"
        }
      ],
      "source": [
        "fig, ax = plt.subplots(figsize=(5,3))\n",
        "ax=sns.boxplot(x='price', data=df)"
      ]
    },
    {
      "cell_type": "code",
      "execution_count": null,
      "metadata": {
        "colab": {
          "base_uri": "https://localhost:8080/",
          "height": 381
        },
        "id": "OhuYjkkTBiTN",
        "outputId": "6c64c653-f5e7-48af-af7a-dbbf058d7186"
      },
      "outputs": [
        {
          "data": {
            "text/html": [
              "\n",
              "  <div id=\"df-4ab2f37f-670f-4fc8-bf6d-0004092488ef\">\n",
              "    <div class=\"colab-df-container\">\n",
              "      <div>\n",
              "<style scoped>\n",
              "    .dataframe tbody tr th:only-of-type {\n",
              "        vertical-align: middle;\n",
              "    }\n",
              "\n",
              "    .dataframe tbody tr th {\n",
              "        vertical-align: top;\n",
              "    }\n",
              "\n",
              "    .dataframe thead th {\n",
              "        text-align: right;\n",
              "    }\n",
              "</style>\n",
              "<table border=\"1\" class=\"dataframe\">\n",
              "  <thead>\n",
              "    <tr style=\"text-align: right;\">\n",
              "      <th></th>\n",
              "      <th>company</th>\n",
              "      <th>product</th>\n",
              "      <th>typename</th>\n",
              "      <th>inches</th>\n",
              "      <th>cpu</th>\n",
              "      <th>ram(GB)</th>\n",
              "      <th>gpu</th>\n",
              "      <th>opsys</th>\n",
              "      <th>weight(kg)</th>\n",
              "      <th>price</th>\n",
              "      <th>resolution</th>\n",
              "      <th>screentype</th>\n",
              "      <th>touchscreen</th>\n",
              "      <th>cpu_freq(GHz)</th>\n",
              "      <th>memory_1_sto(GB)</th>\n",
              "      <th>memory_1_type</th>\n",
              "      <th>memory_2_sto(GB)</th>\n",
              "      <th>memory_2_type</th>\n",
              "      <th>cpu_brand</th>\n",
              "      <th>gpu_brand</th>\n",
              "    </tr>\n",
              "  </thead>\n",
              "  <tbody>\n",
              "    <tr>\n",
              "      <th>196</th>\n",
              "      <td>Razer</td>\n",
              "      <td>Blade Pro</td>\n",
              "      <td>Gaming</td>\n",
              "      <td>17.3</td>\n",
              "      <td>Intel Core i7 7820HK</td>\n",
              "      <td>32</td>\n",
              "      <td>Nvidia GeForce GTX 1080</td>\n",
              "      <td>Windows 10</td>\n",
              "      <td>3.49</td>\n",
              "      <td>6099.0</td>\n",
              "      <td>3840x2160</td>\n",
              "      <td>NaN</td>\n",
              "      <td>1.0</td>\n",
              "      <td>2.9</td>\n",
              "      <td>1000.0</td>\n",
              "      <td>SSD</td>\n",
              "      <td>0.0</td>\n",
              "      <td>NaN</td>\n",
              "      <td>Intel</td>\n",
              "      <td>Nvidia</td>\n",
              "    </tr>\n",
              "    <tr>\n",
              "      <th>610</th>\n",
              "      <td>Lenovo</td>\n",
              "      <td>Thinkpad P51</td>\n",
              "      <td>Notebook</td>\n",
              "      <td>15.6</td>\n",
              "      <td>Intel Xeon E3-1535M v6</td>\n",
              "      <td>32</td>\n",
              "      <td>Nvidia Quadro M2200M</td>\n",
              "      <td>Windows 10</td>\n",
              "      <td>2.50</td>\n",
              "      <td>4899.0</td>\n",
              "      <td>3840x2160</td>\n",
              "      <td>IPSPanel</td>\n",
              "      <td>0.0</td>\n",
              "      <td>3.1</td>\n",
              "      <td>1000.0</td>\n",
              "      <td>SSD</td>\n",
              "      <td>0.0</td>\n",
              "      <td>NaN</td>\n",
              "      <td>Intel</td>\n",
              "      <td>Nvidia</td>\n",
              "    </tr>\n",
              "    <tr>\n",
              "      <th>830</th>\n",
              "      <td>Razer</td>\n",
              "      <td>Blade Pro</td>\n",
              "      <td>Gaming</td>\n",
              "      <td>17.3</td>\n",
              "      <td>Intel Core i7 7820HK</td>\n",
              "      <td>32</td>\n",
              "      <td>Nvidia GeForce GTX 1080</td>\n",
              "      <td>Windows 10</td>\n",
              "      <td>3.49</td>\n",
              "      <td>5499.0</td>\n",
              "      <td>3840x2160</td>\n",
              "      <td>NaN</td>\n",
              "      <td>1.0</td>\n",
              "      <td>2.9</td>\n",
              "      <td>512.0</td>\n",
              "      <td>SSD</td>\n",
              "      <td>0.0</td>\n",
              "      <td>NaN</td>\n",
              "      <td>Intel</td>\n",
              "      <td>Nvidia</td>\n",
              "    </tr>\n",
              "  </tbody>\n",
              "</table>\n",
              "</div>\n",
              "      <button class=\"colab-df-convert\" onclick=\"convertToInteractive('df-4ab2f37f-670f-4fc8-bf6d-0004092488ef')\"\n",
              "              title=\"Convert this dataframe to an interactive table.\"\n",
              "              style=\"display:none;\">\n",
              "        \n",
              "  <svg xmlns=\"http://www.w3.org/2000/svg\" height=\"24px\"viewBox=\"0 0 24 24\"\n",
              "       width=\"24px\">\n",
              "    <path d=\"M0 0h24v24H0V0z\" fill=\"none\"/>\n",
              "    <path d=\"M18.56 5.44l.94 2.06.94-2.06 2.06-.94-2.06-.94-.94-2.06-.94 2.06-2.06.94zm-11 1L8.5 8.5l.94-2.06 2.06-.94-2.06-.94L8.5 2.5l-.94 2.06-2.06.94zm10 10l.94 2.06.94-2.06 2.06-.94-2.06-.94-.94-2.06-.94 2.06-2.06.94z\"/><path d=\"M17.41 7.96l-1.37-1.37c-.4-.4-.92-.59-1.43-.59-.52 0-1.04.2-1.43.59L10.3 9.45l-7.72 7.72c-.78.78-.78 2.05 0 2.83L4 21.41c.39.39.9.59 1.41.59.51 0 1.02-.2 1.41-.59l7.78-7.78 2.81-2.81c.8-.78.8-2.07 0-2.86zM5.41 20L4 18.59l7.72-7.72 1.47 1.35L5.41 20z\"/>\n",
              "  </svg>\n",
              "      </button>\n",
              "      \n",
              "  <style>\n",
              "    .colab-df-container {\n",
              "      display:flex;\n",
              "      flex-wrap:wrap;\n",
              "      gap: 12px;\n",
              "    }\n",
              "\n",
              "    .colab-df-convert {\n",
              "      background-color: #E8F0FE;\n",
              "      border: none;\n",
              "      border-radius: 50%;\n",
              "      cursor: pointer;\n",
              "      display: none;\n",
              "      fill: #1967D2;\n",
              "      height: 32px;\n",
              "      padding: 0 0 0 0;\n",
              "      width: 32px;\n",
              "    }\n",
              "\n",
              "    .colab-df-convert:hover {\n",
              "      background-color: #E2EBFA;\n",
              "      box-shadow: 0px 1px 2px rgba(60, 64, 67, 0.3), 0px 1px 3px 1px rgba(60, 64, 67, 0.15);\n",
              "      fill: #174EA6;\n",
              "    }\n",
              "\n",
              "    [theme=dark] .colab-df-convert {\n",
              "      background-color: #3B4455;\n",
              "      fill: #D2E3FC;\n",
              "    }\n",
              "\n",
              "    [theme=dark] .colab-df-convert:hover {\n",
              "      background-color: #434B5C;\n",
              "      box-shadow: 0px 1px 3px 1px rgba(0, 0, 0, 0.15);\n",
              "      filter: drop-shadow(0px 1px 2px rgba(0, 0, 0, 0.3));\n",
              "      fill: #FFFFFF;\n",
              "    }\n",
              "  </style>\n",
              "\n",
              "      <script>\n",
              "        const buttonEl =\n",
              "          document.querySelector('#df-4ab2f37f-670f-4fc8-bf6d-0004092488ef button.colab-df-convert');\n",
              "        buttonEl.style.display =\n",
              "          google.colab.kernel.accessAllowed ? 'block' : 'none';\n",
              "\n",
              "        async function convertToInteractive(key) {\n",
              "          const element = document.querySelector('#df-4ab2f37f-670f-4fc8-bf6d-0004092488ef');\n",
              "          const dataTable =\n",
              "            await google.colab.kernel.invokeFunction('convertToInteractive',\n",
              "                                                     [key], {});\n",
              "          if (!dataTable) return;\n",
              "\n",
              "          const docLinkHtml = 'Like what you see? Visit the ' +\n",
              "            '<a target=\"_blank\" href=https://colab.research.google.com/notebooks/data_table.ipynb>data table notebook</a>'\n",
              "            + ' to learn more about interactive tables.';\n",
              "          element.innerHTML = '';\n",
              "          dataTable['output_type'] = 'display_data';\n",
              "          await google.colab.output.renderOutput(dataTable, element);\n",
              "          const docLink = document.createElement('div');\n",
              "          docLink.innerHTML = docLinkHtml;\n",
              "          element.appendChild(docLink);\n",
              "        }\n",
              "      </script>\n",
              "    </div>\n",
              "  </div>\n",
              "  "
            ],
            "text/plain": [
              "    company       product  typename  inches                      cpu  ram(GB)  \\\n",
              "196   Razer     Blade Pro    Gaming    17.3    Intel Core i7 7820HK        32   \n",
              "610  Lenovo  Thinkpad P51  Notebook    15.6  Intel Xeon E3-1535M v6        32   \n",
              "830   Razer     Blade Pro    Gaming    17.3    Intel Core i7 7820HK        32   \n",
              "\n",
              "                         gpu       opsys  weight(kg)   price resolution  \\\n",
              "196  Nvidia GeForce GTX 1080  Windows 10        3.49  6099.0  3840x2160   \n",
              "610     Nvidia Quadro M2200M  Windows 10        2.50  4899.0  3840x2160   \n",
              "830  Nvidia GeForce GTX 1080  Windows 10        3.49  5499.0  3840x2160   \n",
              "\n",
              "    screentype  touchscreen  cpu_freq(GHz)  memory_1_sto(GB) memory_1_type  \\\n",
              "196        NaN          1.0            2.9            1000.0           SSD   \n",
              "610   IPSPanel          0.0            3.1            1000.0           SSD   \n",
              "830        NaN          1.0            2.9             512.0           SSD   \n",
              "\n",
              "     memory_2_sto(GB) memory_2_type cpu_brand gpu_brand  \n",
              "196               0.0           NaN     Intel    Nvidia  \n",
              "610               0.0           NaN     Intel    Nvidia  \n",
              "830               0.0           NaN     Intel    Nvidia  "
            ]
          },
          "execution_count": 301,
          "metadata": {},
          "output_type": "execute_result"
        }
      ],
      "source": [
        "df[df['price'] > 4500]"
      ]
    },
    {
      "cell_type": "code",
      "execution_count": null,
      "metadata": {
        "colab": {
          "base_uri": "https://localhost:8080/",
          "height": 197
        },
        "id": "3IpKMkDyB9rh",
        "outputId": "fb90775b-b79b-4fe5-e9c1-9331cbcb2267"
      },
      "outputs": [
        {
          "data": {
            "text/html": [
              "\n",
              "  <div id=\"df-6bc1d6e4-505d-47dd-a2bf-140b40a8ed60\">\n",
              "    <div class=\"colab-df-container\">\n",
              "      <div>\n",
              "<style scoped>\n",
              "    .dataframe tbody tr th:only-of-type {\n",
              "        vertical-align: middle;\n",
              "    }\n",
              "\n",
              "    .dataframe tbody tr th {\n",
              "        vertical-align: top;\n",
              "    }\n",
              "\n",
              "    .dataframe thead th {\n",
              "        text-align: right;\n",
              "    }\n",
              "</style>\n",
              "<table border=\"1\" class=\"dataframe\">\n",
              "  <thead>\n",
              "    <tr style=\"text-align: right;\">\n",
              "      <th></th>\n",
              "      <th>company</th>\n",
              "      <th>product</th>\n",
              "      <th>typename</th>\n",
              "      <th>inches</th>\n",
              "      <th>cpu</th>\n",
              "      <th>ram(GB)</th>\n",
              "      <th>gpu</th>\n",
              "      <th>opsys</th>\n",
              "      <th>weight(kg)</th>\n",
              "      <th>price</th>\n",
              "      <th>resolution</th>\n",
              "      <th>screentype</th>\n",
              "      <th>touchscreen</th>\n",
              "      <th>cpu_freq(GHz)</th>\n",
              "      <th>memory_1_sto(GB)</th>\n",
              "      <th>memory_1_type</th>\n",
              "      <th>memory_2_sto(GB)</th>\n",
              "      <th>memory_2_type</th>\n",
              "      <th>cpu_brand</th>\n",
              "      <th>gpu_brand</th>\n",
              "    </tr>\n",
              "  </thead>\n",
              "  <tbody>\n",
              "    <tr>\n",
              "      <th>196</th>\n",
              "      <td>Razer</td>\n",
              "      <td>Blade Pro</td>\n",
              "      <td>Gaming</td>\n",
              "      <td>17.3</td>\n",
              "      <td>Intel Core i7 7820HK</td>\n",
              "      <td>32</td>\n",
              "      <td>Nvidia GeForce GTX 1080</td>\n",
              "      <td>Windows 10</td>\n",
              "      <td>3.49</td>\n",
              "      <td>6099.0</td>\n",
              "      <td>3840x2160</td>\n",
              "      <td>NaN</td>\n",
              "      <td>1.0</td>\n",
              "      <td>2.9</td>\n",
              "      <td>1000.0</td>\n",
              "      <td>SSD</td>\n",
              "      <td>0.0</td>\n",
              "      <td>NaN</td>\n",
              "      <td>Intel</td>\n",
              "      <td>Nvidia</td>\n",
              "    </tr>\n",
              "  </tbody>\n",
              "</table>\n",
              "</div>\n",
              "      <button class=\"colab-df-convert\" onclick=\"convertToInteractive('df-6bc1d6e4-505d-47dd-a2bf-140b40a8ed60')\"\n",
              "              title=\"Convert this dataframe to an interactive table.\"\n",
              "              style=\"display:none;\">\n",
              "        \n",
              "  <svg xmlns=\"http://www.w3.org/2000/svg\" height=\"24px\"viewBox=\"0 0 24 24\"\n",
              "       width=\"24px\">\n",
              "    <path d=\"M0 0h24v24H0V0z\" fill=\"none\"/>\n",
              "    <path d=\"M18.56 5.44l.94 2.06.94-2.06 2.06-.94-2.06-.94-.94-2.06-.94 2.06-2.06.94zm-11 1L8.5 8.5l.94-2.06 2.06-.94-2.06-.94L8.5 2.5l-.94 2.06-2.06.94zm10 10l.94 2.06.94-2.06 2.06-.94-2.06-.94-.94-2.06-.94 2.06-2.06.94z\"/><path d=\"M17.41 7.96l-1.37-1.37c-.4-.4-.92-.59-1.43-.59-.52 0-1.04.2-1.43.59L10.3 9.45l-7.72 7.72c-.78.78-.78 2.05 0 2.83L4 21.41c.39.39.9.59 1.41.59.51 0 1.02-.2 1.41-.59l7.78-7.78 2.81-2.81c.8-.78.8-2.07 0-2.86zM5.41 20L4 18.59l7.72-7.72 1.47 1.35L5.41 20z\"/>\n",
              "  </svg>\n",
              "      </button>\n",
              "      \n",
              "  <style>\n",
              "    .colab-df-container {\n",
              "      display:flex;\n",
              "      flex-wrap:wrap;\n",
              "      gap: 12px;\n",
              "    }\n",
              "\n",
              "    .colab-df-convert {\n",
              "      background-color: #E8F0FE;\n",
              "      border: none;\n",
              "      border-radius: 50%;\n",
              "      cursor: pointer;\n",
              "      display: none;\n",
              "      fill: #1967D2;\n",
              "      height: 32px;\n",
              "      padding: 0 0 0 0;\n",
              "      width: 32px;\n",
              "    }\n",
              "\n",
              "    .colab-df-convert:hover {\n",
              "      background-color: #E2EBFA;\n",
              "      box-shadow: 0px 1px 2px rgba(60, 64, 67, 0.3), 0px 1px 3px 1px rgba(60, 64, 67, 0.15);\n",
              "      fill: #174EA6;\n",
              "    }\n",
              "\n",
              "    [theme=dark] .colab-df-convert {\n",
              "      background-color: #3B4455;\n",
              "      fill: #D2E3FC;\n",
              "    }\n",
              "\n",
              "    [theme=dark] .colab-df-convert:hover {\n",
              "      background-color: #434B5C;\n",
              "      box-shadow: 0px 1px 3px 1px rgba(0, 0, 0, 0.15);\n",
              "      filter: drop-shadow(0px 1px 2px rgba(0, 0, 0, 0.3));\n",
              "      fill: #FFFFFF;\n",
              "    }\n",
              "  </style>\n",
              "\n",
              "      <script>\n",
              "        const buttonEl =\n",
              "          document.querySelector('#df-6bc1d6e4-505d-47dd-a2bf-140b40a8ed60 button.colab-df-convert');\n",
              "        buttonEl.style.display =\n",
              "          google.colab.kernel.accessAllowed ? 'block' : 'none';\n",
              "\n",
              "        async function convertToInteractive(key) {\n",
              "          const element = document.querySelector('#df-6bc1d6e4-505d-47dd-a2bf-140b40a8ed60');\n",
              "          const dataTable =\n",
              "            await google.colab.kernel.invokeFunction('convertToInteractive',\n",
              "                                                     [key], {});\n",
              "          if (!dataTable) return;\n",
              "\n",
              "          const docLinkHtml = 'Like what you see? Visit the ' +\n",
              "            '<a target=\"_blank\" href=https://colab.research.google.com/notebooks/data_table.ipynb>data table notebook</a>'\n",
              "            + ' to learn more about interactive tables.';\n",
              "          element.innerHTML = '';\n",
              "          dataTable['output_type'] = 'display_data';\n",
              "          await google.colab.output.renderOutput(dataTable, element);\n",
              "          const docLink = document.createElement('div');\n",
              "          docLink.innerHTML = docLinkHtml;\n",
              "          element.appendChild(docLink);\n",
              "        }\n",
              "      </script>\n",
              "    </div>\n",
              "  </div>\n",
              "  "
            ],
            "text/plain": [
              "    company    product typename  inches                    cpu  ram(GB)  \\\n",
              "196   Razer  Blade Pro   Gaming    17.3  Intel Core i7 7820HK        32   \n",
              "\n",
              "                         gpu       opsys  weight(kg)   price resolution  \\\n",
              "196  Nvidia GeForce GTX 1080  Windows 10        3.49  6099.0  3840x2160   \n",
              "\n",
              "    screentype  touchscreen  cpu_freq(GHz)  memory_1_sto(GB) memory_1_type  \\\n",
              "196        NaN          1.0            2.9            1000.0           SSD   \n",
              "\n",
              "     memory_2_sto(GB) memory_2_type cpu_brand gpu_brand  \n",
              "196               0.0           NaN     Intel    Nvidia  "
            ]
          },
          "execution_count": 302,
          "metadata": {},
          "output_type": "execute_result"
        }
      ],
      "source": [
        "max_price = df['price'].max()\n",
        "df[df['price'] == max_price]"
      ]
    },
    {
      "cell_type": "markdown",
      "metadata": {
        "id": "fr3kex_qfCWg"
      },
      "source": [
        "## How is RAM distributed among the laptops?"
      ]
    },
    {
      "cell_type": "code",
      "execution_count": null,
      "metadata": {
        "colab": {
          "base_uri": "https://localhost:8080/",
          "height": 506
        },
        "id": "eJGNn5FvegnK",
        "outputId": "4d2469d1-3d10-479e-e8a5-ee5de2fafaf5"
      },
      "outputs": [
        {
          "data": {
            "image/png": "[encoded data removed]",
            "text/plain": [
              "<Figure size 800x500 with 2 Axes>"
            ]
          },
          "metadata": {},
          "output_type": "display_data"
        }
      ],
      "source": [
        "num_plot(df_clean, 'ram(GB)','RAM distribution','GB')"
      ]
    },
    {
      "cell_type": "code",
      "execution_count": null,
      "metadata": {
        "colab": {
          "base_uri": "https://localhost:8080/"
        },
        "id": "pmAy-ZkKfHWG",
        "outputId": "5b078d8b-7413-4d5b-b14f-73f138f7b818"
      },
      "outputs": [
        {
          "name": "stdout",
          "output_type": "stream",
          "text": [
            "Most laptops have 8 GB RAM, which make 47.54% of the total laptops\n"
          ]
        }
      ],
      "source": [
        "print('Most laptops have 8 GB RAM, which make {:.2f}% of the total laptops'.format(len(df[df['ram(GB)']==8])*100/len(df)))"
      ]
    },
    {
      "cell_type": "markdown",
      "metadata": {
        "id": "WQJHQ4V1fX7Y"
      },
      "source": [
        "## How is CPU frequency distributed among the laptops?"
      ]
    },
    {
      "cell_type": "code",
      "execution_count": null,
      "metadata": {
        "colab": {
          "base_uri": "https://localhost:8080/",
          "height": 506
        },
        "id": "YuF00bMKfU88",
        "outputId": "4cfe288a-3f2c-4a67-fd21-93f9a9fae72d"
      },
      "outputs": [
        {
          "data": {
            "image/png": "[encoded data removed]",
            "text/plain": [
              "<Figure size 800x500 with 2 Axes>"
            ]
          },
          "metadata": {},
          "output_type": "display_data"
        }
      ],
      "source": [
        "num_plot(df_clean, 'cpu_freq(GHz)','CPU freq distribution','GHz')"
      ]
    },
    {
      "cell_type": "code",
      "execution_count": null,
      "metadata": {
        "colab": {
          "base_uri": "https://localhost:8080/"
        },
        "id": "XkOzh05cfck5",
        "outputId": "93fa6d88-cc34-4d00-af84-3d3b9d7c5e73"
      },
      "outputs": [
        {
          "name": "stdout",
          "output_type": "stream",
          "text": [
            "Most laptops have 2.5 GHz CPU, which make 22.5% of the total laptops\n"
          ]
        }
      ],
      "source": [
        "print('Most laptops have 2.5 GHz CPU, which make {}% of the total laptops'.format(np.round(len(df[df['cpu_freq(GHz)']==2.5])*100/len(df),2)))"
      ]
    },
    {
      "cell_type": "markdown",
      "metadata": {
        "id": "blfg8lrcflm2"
      },
      "source": [
        "## How is Hard Drive capacity distributed among the laptops?"
      ]
    },
    {
      "cell_type": "code",
      "execution_count": null,
      "metadata": {
        "colab": {
          "base_uri": "https://localhost:8080/",
          "height": 507
        },
        "id": "JGFhFf3Lfg4R",
        "outputId": "498b3a2f-a89c-4cf2-8621-684d529ea514"
      },
      "outputs": [
        {
          "data": {
            "image/png": "[encoded data removed]",
            "text/plain": [
              "<Figure size 800x500 with 1 Axes>"
            ]
          },
          "metadata": {},
          "output_type": "display_data"
        }
      ],
      "source": [
        "fig, ax  = plt.subplots(figsize=(8,5))\n",
        "ax=sns.countplot(x='memory_1_sto(GB)', data=df, hue='memory_1_type')\n",
        "ax.set_xticklabels(ax.get_xticklabels(), rotation=90)\n",
        "ax.set_xlabel('First Hard Drive memory storage (GB)')\n",
        "plt.title('First Hard Drive Capacity Distribution')\n",
        "plt.legend(loc='upper left', ncol=1, fontsize=15, fancybox=True, shadow=True, frameon=True)\n",
        "plt.show()"
      ]
    },
    {
      "cell_type": "code",
      "execution_count": null,
      "metadata": {
        "colab": {
          "base_uri": "https://localhost:8080/",
          "height": 507
        },
        "id": "IAlxf5Etfs8U",
        "outputId": "5e90e0ec-bb29-4f3c-8af3-5c3017cdadfe"
      },
      "outputs": [
        {
          "data": {
            "image/png": "[encoded data removed]",
            "text/plain": [
              "<Figure size 800x500 with 1 Axes>"
            ]
          },
          "metadata": {},
          "output_type": "display_data"
        }
      ],
      "source": [
        "fig, ax  = plt.subplots(figsize=(8,5))\n",
        "ax=sns.countplot(x='memory_2_sto(GB)', data=df, hue='memory_2_type')\n",
        "ax.set_xticklabels(ax.get_xticklabels(), rotation=90)\n",
        "ax.set_xlabel('Second Hard Drive memory storage (GB)')\n",
        "plt.title('Second Hard Drive Capacity Distribution')\n",
        "plt.legend(loc='upper left', ncol=1, fontsize=15, fancybox=True, shadow=True, frameon=True)\n",
        "plt.show()"
      ]
    },
    {
      "cell_type": "markdown",
      "metadata": {
        "id": "sj15Uks3gMgm"
      },
      "source": [
        "## Price VS CPU brand by GPU brand"
      ]
    },
    {
      "cell_type": "code",
      "execution_count": null,
      "metadata": {
        "colab": {
          "base_uri": "https://localhost:8080/",
          "height": 506
        },
        "id": "g1_5X7OAf1Qn",
        "outputId": "3b104b72-0ba4-4a64-b9df-19c951fb2ffc"
      },
      "outputs": [
        {
          "data": {
            "image/png": "[encoded data removed]",
            "text/plain": [
              "<Figure size 600x500 with 1 Axes>"
            ]
          },
          "metadata": {},
          "output_type": "display_data"
        }
      ],
      "source": [
        "cpu_palette = {'Intel':'#0d98ba', 'AMD':'#FF0000', 'Nvidia':'#46C646'}\n",
        "fig, ax = plt.subplots(figsize=(6,5))\n",
        "sns.boxplot(x='cpu_brand', y='price', data=df, hue='gpu_brand', palette=cpu_palette)\n",
        "ax.set_title('Price vs CPU brand by GPU brand')\n",
        "plt.ylabel('price ($)')\n",
        "plt.legend(loc='upper right', ncol=1, fontsize=15, fancybox=True, shadow=True, frameon=True)\n",
        "plt.title('Price VS CPU brand by GPU brand')\n",
        "plt.show()"
      ]
    },
    {
      "cell_type": "markdown",
      "metadata": {
        "id": "bHsh7-KvgTj9"
      },
      "source": [
        "Insights from this plot:\n",
        "\n",
        "* Harga rata-rata CPU merk Intel cenderung lebih tinggi daripada merk AMD, hal ini dapat dilihat dari garis tengah pada box plot merk Intel lebih tinggi daripada AMD\n",
        "* Harga rata-rata CPU merk Intel Nvidia paling tinggi di antara merk lainnya\n",
        "* Terdapat outliers di tiap kombinasi CPU brand dan GPU brand tertentu yang menunjukkan adanya nilai harga yang ekstrem atau tidak umum\n",
        "* Adanya variasi harga yang lebih besar pada kombinasi Intel Nvidia karena rentang/whisker lebih panjang diantara merk yang lain."
      ]
    },
    {
      "cell_type": "markdown",
      "metadata": {
        "id": "8OWYSu0HgaTm"
      },
      "source": [
        "## Which are the TOP 15 most common GPUs?"
      ]
    },
    {
      "cell_type": "code",
      "execution_count": null,
      "metadata": {
        "id": "HxNPBKtEgKgM"
      },
      "outputs": [],
      "source": [
        "gpu_list = df_clean['gpu'].value_counts()[:15].index.tolist()"
      ]
    },
    {
      "cell_type": "code",
      "execution_count": null,
      "metadata": {
        "colab": {
          "base_uri": "https://localhost:8080/",
          "height": 607
        },
        "id": "iZQWAAZJgzYb",
        "outputId": "f6a456e9-5749-427a-9bb2-ae1353d63b69"
      },
      "outputs": [
        {
          "data": {
            "image/png": "[encoded data removed]",
            "text/plain": [
              "<Figure size 800x600 with 1 Axes>"
            ]
          },
          "metadata": {},
          "output_type": "display_data"
        }
      ],
      "source": [
        "plt.figure(figsize=(8,6))\n",
        "ax=sns.countplot(x='gpu', data=df_clean[df_clean['gpu'].isin(gpu_list)], order = gpu_list, palette='viridis_r')\n",
        "plt.xticks(rotation=80);\n",
        "ax.bar_label(ax.containers[0])\n",
        "plt.title('TOP 15 common GPUs')\n",
        "plt.xlabel('')\n",
        "plt.show()"
      ]
    },
    {
      "cell_type": "markdown",
      "metadata": {
        "id": "pyOm6x3QhMLI"
      },
      "source": [
        "## Which are the TOP 15 most common CPUs?"
      ]
    },
    {
      "cell_type": "code",
      "execution_count": null,
      "metadata": {
        "id": "XRQNz6aHg9VZ"
      },
      "outputs": [],
      "source": [
        "cpu_list = df_clean['cpu'].value_counts()[:15].index.tolist()"
      ]
    },
    {
      "cell_type": "code",
      "execution_count": null,
      "metadata": {
        "colab": {
          "base_uri": "https://localhost:8080/",
          "height": 607
        },
        "id": "XwjXoojFhYlR",
        "outputId": "27b8dd9f-9c50-4dbb-81a5-3cd49972b584"
      },
      "outputs": [
        {
          "data": {
            "image/png": "[encoded data removed]",
            "text/plain": [
              "<Figure size 800x600 with 1 Axes>"
            ]
          },
          "metadata": {},
          "output_type": "display_data"
        }
      ],
      "source": [
        "plt.figure(figsize=(8,6))\n",
        "ax=sns.countplot(x='cpu', data=df_clean[df_clean['cpu'].isin(cpu_list)], order = cpu_list, palette='viridis')\n",
        "plt.xticks(rotation=80);\n",
        "ax.bar_label(ax.containers[0])\n",
        "plt.title('TOP 15 common CPUs')\n",
        "plt.xlabel('')\n",
        "plt.show()"
      ]
    },
    {
      "cell_type": "markdown",
      "metadata": {
        "id": "KhrDEEx0h7bM"
      },
      "source": [
        "## What is the average price of laptops by company?"
      ]
    },
    {
      "cell_type": "code",
      "execution_count": null,
      "metadata": {
        "colab": {
          "base_uri": "https://localhost:8080/"
        },
        "id": "I7MaDwnQlvID",
        "outputId": "eb18bafd-13fe-4e37-df24-e6fd6c1c6f7b"
      },
      "outputs": [
        {
          "data": {
            "text/plain": [
              "['Dell', 'Lenovo', 'HP', 'Asus', 'Acer', 'MSI', 'Toshiba', 'Apple']"
            ]
          },
          "execution_count": 317,
          "metadata": {},
          "output_type": "execute_result"
        }
      ],
      "source": [
        "company_list = df['company'].value_counts().index[:8].tolist()\n",
        "company_list\n"
      ]
    },
    {
      "cell_type": "code",
      "execution_count": null,
      "metadata": {
        "colab": {
          "base_uri": "https://localhost:8080/",
          "height": 506
        },
        "id": "2IgRpBdPlvxm",
        "outputId": "716319d3-8b3e-422e-ff5b-8c47ec91870a"
      },
      "outputs": [
        {
          "data": {
            "image/png": "[encoded data removed]",
            "text/plain": [
              "<Figure size 900x500 with 1 Axes>"
            ]
          },
          "metadata": {},
          "output_type": "display_data"
        }
      ],
      "source": [
        "plt.figure(figsize=(9,5))\n",
        "ax=sns.barplot(x='company', y='price', data=df_clean[df_clean['company'].isin(company_list)],\n",
        "                order=company_list,\n",
        "                palette='Spectral',\n",
        "                #ci=False,\n",
        "                edgecolor=\"black\")\n",
        "plt.xticks(rotation=80);\n",
        "ax.bar_label(ax.containers[0])\n",
        "plt.title('Average price of laptops by company')\n",
        "plt.show();"
      ]
    },
    {
      "cell_type": "markdown",
      "metadata": {
        "id": "8BIK0f3rizWM"
      },
      "source": [
        "Insights:\n",
        "* Rata-rata harga laptop paling mahal yaitu pada company MSI\n",
        "* Rata-rata harga laptop paling murah yaitu pada company Acer"
      ]
    }
  ],
  "metadata": {
    "colab": {
      "provenance": [],
      "toc_visible": true,
      "include_colab_link": true
    },
    "kernelspec": {
      "display_name": "Python 3",
      "name": "python3"
    },
    "language_info": {
      "name": "python"
    }
  },
  "nbformat": 4,
  "nbformat_minor": 0
}